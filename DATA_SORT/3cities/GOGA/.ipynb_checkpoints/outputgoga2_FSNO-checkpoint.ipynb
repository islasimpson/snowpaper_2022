{
 "cells": [
  {
   "cell_type": "code",
   "execution_count": 1,
   "metadata": {},
   "outputs": [
    {
     "data": {
      "text/plain": [
       "<module 'CASutils.calendar_utils' from '/home/islas/python/CASanalysis/CASutils/calendar_utils.py'>"
      ]
     },
     "execution_count": 1,
     "metadata": {},
     "output_type": "execute_result"
    }
   ],
   "source": [
    "import importlib\n",
    "import xarray as xr\n",
    "import numpy as np\n",
    "import pandas as pd\n",
    "import matplotlib.pyplot as plt\n",
    "import netCDF4\n",
    "from CASutils import filter_utils as filt\n",
    "from CASutils import readdata_utils as read\n",
    "from CASutils import calendar_utils as cal\n",
    "import sys\n",
    "from math import nan as nan\n",
    "import datetime\n",
    "\n",
    "importlib.reload(filt)\n",
    "importlib.reload(read)\n",
    "importlib.reload(cal)"
   ]
  },
  {
   "cell_type": "code",
   "execution_count": 2,
   "metadata": {},
   "outputs": [],
   "source": [
    "pathout=\"/project/cas/islas/python_savs/snowpaper/DATA_SORT/3cities/\""
   ]
  },
  {
   "cell_type": "code",
   "execution_count": 3,
   "metadata": {},
   "outputs": [],
   "source": [
    "cityname=['Saskatoon','Toronto','Siderovsk']\n",
    "citylon=[253.330, 280.617, 82.3139]\n",
    "citylat=[52.1579, 43.6532, 66.5973]"
   ]
  },
  {
   "cell_type": "code",
   "execution_count": 4,
   "metadata": {},
   "outputs": [
    {
     "name": "stdout",
     "output_type": "stream",
     "text": [
      "01\n",
      "warning, you're reading CESM data but there's no time_bnds\n",
      "make sure you're reading in what you're expecting to\n",
      "02\n",
      "warning, you're reading CESM data but there's no time_bnds\n",
      "make sure you're reading in what you're expecting to\n",
      "03\n",
      "warning, you're reading CESM data but there's no time_bnds\n",
      "make sure you're reading in what you're expecting to\n",
      "04\n",
      "warning, you're reading CESM data but there's no time_bnds\n",
      "make sure you're reading in what you're expecting to\n",
      "05\n",
      "warning, you're reading CESM data but there's no time_bnds\n",
      "make sure you're reading in what you're expecting to\n",
      "06\n",
      "warning, you're reading CESM data but there's no time_bnds\n",
      "make sure you're reading in what you're expecting to\n",
      "07\n",
      "warning, you're reading CESM data but there's no time_bnds\n",
      "make sure you're reading in what you're expecting to\n",
      "08\n",
      "warning, you're reading CESM data but there's no time_bnds\n",
      "make sure you're reading in what you're expecting to\n",
      "09\n",
      "warning, you're reading CESM data but there's no time_bnds\n",
      "make sure you're reading in what you're expecting to\n",
      "10\n",
      "warning, you're reading CESM data but there's no time_bnds\n",
      "make sure you're reading in what you're expecting to\n"
     ]
    }
   ],
   "source": [
    "path=\"/project/cas02/islas/GOGA2/day/T850/\"\n",
    "nmems=10 ; mems = np.arange(1,nmems+1,1)\n",
    "for imem in range(0,nmems,1):\n",
    "    memstr=str(imem+1).zfill(2)\n",
    "    print(memstr)\n",
    "    fpath=path+\"ens\"+memstr+\"/*\"\n",
    "    dat = read.read_sfc_cesm(fpath,\"1979-01\", \"2014-12\")\n",
    "   \n",
    "    if (imem == 0):\n",
    "        goga2t850 = xr.DataArray(np.zeros([nmems, dat.time.size, 3]), coords=[mems, dat.time, cityname],\n",
    "                                   dims=['Member','time','city'], name='goga2')\n",
    "        \n",
    "    for icity in np.arange(0,len(cityname),1):\n",
    "        goga2t850[imem,:,icity] = dat.T850.sel(lon=citylon[icity], lat=citylat[icity], method=\"nearest\")"
   ]
  },
  {
   "cell_type": "code",
   "execution_count": 6,
   "metadata": {},
   "outputs": [],
   "source": [
    "goga2t850.to_netcdf(path=pathout+\"GOGA2_T850.nc\")"
   ]
  },
  {
   "cell_type": "code",
   "execution_count": null,
   "metadata": {},
   "outputs": [],
   "source": []
  }
 ],
 "metadata": {
  "kernelspec": {
   "display_name": "Python [conda env:ecpaperenv]",
   "language": "python",
   "name": "conda-env-ecpaperenv-py"
  },
  "language_info": {
   "codemirror_mode": {
    "name": "ipython",
    "version": 3
   },
   "file_extension": ".py",
   "mimetype": "text/x-python",
   "name": "python",
   "nbconvert_exporter": "python",
   "pygments_lexer": "ipython3",
   "version": "3.6.11"
  }
 },
 "nbformat": 4,
 "nbformat_minor": 4
}
