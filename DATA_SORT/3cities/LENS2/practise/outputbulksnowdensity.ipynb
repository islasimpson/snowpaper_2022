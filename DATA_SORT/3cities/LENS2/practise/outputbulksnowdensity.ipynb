{
 "cells": [
  {
   "cell_type": "code",
   "execution_count": 22,
   "metadata": {},
   "outputs": [],
   "source": [
    "import xarray\n",
    "import numpy as np\n",
    "import importlib\n",
    "import sys\n",
    "import warnings\n",
    "\n",
    "from CASutils import lensread_utils as lens\n",
    "from CASutils import readdata_utils as read\n",
    "from CASutils import calendar_utils as cal\n",
    "\n",
    "importlib.reload(lens)\n",
    "importlib.reload(read)\n",
    "importlib.reload(cal)\n",
    "warnings.filterwarnings('ignore')"
   ]
  },
  {
   "cell_type": "code",
   "execution_count": 4,
   "metadata": {},
   "outputs": [],
   "source": [
    "filepath=\"/project/cas02/islas/CESM2LE/mon/1850_2100/\"\n",
    "pathout=\"\""
   ]
  },
  {
   "cell_type": "code",
   "execution_count": 5,
   "metadata": {},
   "outputs": [],
   "source": [
    "nmems=90\n",
    "memnames = lens.lens2memnamegen(nmems)"
   ]
  },
  {
   "cell_type": "code",
   "execution_count": 20,
   "metadata": {},
   "outputs": [
    {
     "name": "stderr",
     "output_type": "stream",
     "text": [
      "/project/cas/islas/miniconda3/envs/ecpaperenv/lib/python3.6/site-packages/dask/core.py:121: RuntimeWarning: invalid value encountered in true_divide\n",
      "  return func(*(_execute_task(a, cache) for a in args))\n",
      "/project/cas/islas/miniconda3/envs/ecpaperenv/lib/python3.6/site-packages/dask/array/numpy_compat.py:41: RuntimeWarning: invalid value encountered in true_divide\n",
      "  x = np.divide(x1, x2, out)\n"
     ]
    },
    {
     "ename": "SystemExit",
     "evalue": "",
     "output_type": "error",
     "traceback": [
      "An exception has occurred, use %tb to see the full traceback.\n",
      "\u001b[0;31mSystemExit\u001b[0m\n"
     ]
    },
    {
     "name": "stderr",
     "output_type": "stream",
     "text": [
      "/project/cas/islas/miniconda3/envs/ecpaperenv/lib/python3.6/site-packages/IPython/core/interactiveshell.py:3351: UserWarning: To exit: use 'exit', 'quit', or Ctrl-D.\n",
      "  warn(\"To exit: use 'exit', 'quit', or Ctrl-D.\", stacklevel=1)\n"
     ]
    }
   ],
   "source": [
    "for imem in np.arange(0,len(memnames),1):\n",
    "    print(imem)\n",
    "    snowice = read.read_sfc_cesm(filepath+\"SNOWICE/SNOWICE_1850_2014_\"+memnames[imem]+\".nc\",\"1850-01\",\"2100-12\") \n",
    "    snowliq = read.read_sfc_cesm(filepath+\"SNOWLIQ/SNOWLIQ_1850_2014_\"+memnames[imem]+\".nc\",\"1850-01\",\"2100-12\")\n",
    "    snowdp = read.read_sfc_cesm(filepath+\"SNOWDP/SNOWDP_1850_2014_\"+memnames[imem]+\".nc\",\"1850-01\",\"2100-12\")\n",
    "    rhosnowt = (snowice.SNOWICE + snowliq.SNOWLIQ) / snowdp.SNOWDP\n",
    "    rhosnow_djf = cal.season_ts(rhosnowt,\"DJF\")\n",
    "    if (imem == 0):\n",
    "        rhosnow = xr.DataArray(np.zeros([len(memnames),rhosnow_djf.time.size, rhosnow_djf.lat.size, rhosnow_djf.lon.size]),\n",
    "                              dims=['member','time','lat','lon'], coords = [memnames,rhosnow_djf.time, rhosnow_djf.lat, rhosnow_djf.lon], name='rhosnow')\n",
    "        \n",
    "    rhosnow[imem,:,:,:] = rhosnow_djf[:,:,:]"
   ]
  },
  {
   "cell_type": "code",
   "execution_count": 21,
   "metadata": {},
   "outputs": [
    {
     "name": "stdout",
     "output_type": "stream",
     "text": [
      "<xarray.DataArray (time: 164, lat: 192, lon: 288)>\n",
      "dask.array<getitem, shape=(164, 192, 288), dtype=float32, chunksize=(164, 192, 288), chunktype=numpy.ndarray>\n",
      "Coordinates:\n",
      "  * time     (time) datetime64[ns] 1851-01-16T12:00:00 ... 2014-01-16T12:00:00\n",
      "  * lat      (lat) float32 -90.0 -89.06 -88.12 -87.17 ... 87.17 88.12 89.06 90.0\n",
      "  * lon      (lon) float32 0.0 1.25 2.5 3.75 5.0 ... 355.0 356.2 357.5 358.8\n"
     ]
    }
   ],
   "source": [
    "print(rhosnow_djf)"
   ]
  },
  {
   "cell_type": "code",
   "execution_count": 14,
   "metadata": {},
   "outputs": [
    {
     "name": "stdout",
     "output_type": "stream",
     "text": [
      "<xarray.Dataset>\n",
      "Dimensions:      (hist_interval: 2, lat: 192, lon: 288, time: 1980)\n",
      "Coordinates:\n",
      "  * time         (time) datetime64[ns] 1850-01-16T11:45:00 ... 2014-12-16T12:...\n",
      "  * lat          (lat) float32 -90.0 -89.06 -88.12 -87.17 ... 88.12 89.06 90.0\n",
      "  * lon          (lon) float32 0.0 1.25 2.5 3.75 5.0 ... 355.0 356.2 357.5 358.8\n",
      "Dimensions without coordinates: hist_interval\n",
      "Data variables:\n",
      "    time_bounds  (time, hist_interval) object dask.array<chunksize=(1980, 2), meta=np.ndarray>\n",
      "    SNOWLIQ      (time, lat, lon) float32 dask.array<chunksize=(1980, 192, 288), meta=np.ndarray>\n",
      "Attributes:\n",
      "    creation_date:  Wed Mar 31 13:48:49 MDT 2021\n",
      "    source_file:    /glade/campaign/cesm/collections/CESM2-LE/archive/b.e21.B...\n",
      "    title:          NCL generated netCDF file\n"
     ]
    }
   ],
   "source": [
    "print(snowliq)"
   ]
  },
  {
   "cell_type": "code",
   "execution_count": null,
   "metadata": {},
   "outputs": [],
   "source": []
  }
 ],
 "metadata": {
  "kernelspec": {
   "display_name": "Python [conda env:ecpaperenv]",
   "language": "python",
   "name": "conda-env-ecpaperenv-py"
  },
  "language_info": {
   "codemirror_mode": {
    "name": "ipython",
    "version": 3
   },
   "file_extension": ".py",
   "mimetype": "text/x-python",
   "name": "python",
   "nbconvert_exporter": "python",
   "pygments_lexer": "ipython3",
   "version": "3.6.11"
  }
 },
 "nbformat": 4,
 "nbformat_minor": 4
}
