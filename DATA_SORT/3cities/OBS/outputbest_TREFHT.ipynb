{
 "cells": [
  {
   "cell_type": "code",
   "execution_count": 84,
   "metadata": {},
   "outputs": [
    {
     "data": {
      "text/plain": [
       "<module 'CASutils.grid_utils' from '/home/islas/python/CASanalysis/CASutils/grid_utils.py'>"
      ]
     },
     "execution_count": 84,
     "metadata": {},
     "output_type": "execute_result"
    }
   ],
   "source": [
    "import importlib\n",
    "import xarray as xr\n",
    "import numpy as np\n",
    "import sys\n",
    "\n",
    "from CASutils import calendar_utils as cal\n",
    "from CASutils import grid_utils as grid\n",
    "\n",
    "importlib.reload(cal)\n",
    "importlib.reload(grid)"
   ]
  },
  {
   "cell_type": "code",
   "execution_count": 72,
   "metadata": {},
   "outputs": [],
   "source": [
    "pathout=\"/project/cas/islas/python_savs/snowpaper/DATA_SORT/3cities/\""
   ]
  },
  {
   "cell_type": "code",
   "execution_count": 11,
   "metadata": {},
   "outputs": [],
   "source": [
    "cityname=['Saskatoon','Toronto','Siderovsk']\n",
    "citylon=[253.330, 280.617, 82.3139]\n",
    "citylat=[52.1579, 43.6532, 66.5973]"
   ]
  },
  {
   "cell_type": "code",
   "execution_count": 2,
   "metadata": {},
   "outputs": [],
   "source": [
    "ystart=1979 ; yend=2014 ; nyears=yend-ystart+1"
   ]
  },
  {
   "cell_type": "code",
   "execution_count": 3,
   "metadata": {},
   "outputs": [],
   "source": [
    "dat1970 = xr.open_dataset(\"/project/haggis/obs/BEST_daily/Complete_TAVG_Daily_LatLong1_1970.nc\")\n",
    "dat1980 = xr.open_dataset(\"/project/haggis/obs/BEST_daily/Complete_TAVG_Daily_LatLong1_1980.nc\")\n",
    "dat1990 = xr.open_dataset(\"/project/haggis/obs/BEST_daily/Complete_TAVG_Daily_LatLong1_1990.nc\")\n",
    "dat2000 = xr.open_dataset(\"/project/haggis/obs/BEST_daily/Complete_TAVG_Daily_LatLong1_2000.nc\")\n",
    "dat2010 = xr.open_dataset(\"/project/haggis/obs/BEST_daily/Complete_TAVG_Daily_LatLong1_2010.nc\")"
   ]
  },
  {
   "cell_type": "code",
   "execution_count": 6,
   "metadata": {},
   "outputs": [],
   "source": [
    "# convert the date_number into a useful time axis\n",
    "time = cal.fracofyear2date(np.array(dat1970.date_number))\n",
    "dat1970 = dat1970.assign_coords(time=time)\n",
    "\n",
    "time = cal.fracofyear2date(np.array(dat1980.date_number))\n",
    "dat1980 = dat1980.assign_coords(time=time)\n",
    "\n",
    "time = cal.fracofyear2date(np.array(dat1990.date_number))\n",
    "dat1990 = dat1990.assign_coords(time=time)\n",
    "\n",
    "time = cal.fracofyear2date(np.array(dat2000.date_number))\n",
    "dat2000 = dat2000.assign_coords(time=time)\n",
    "\n",
    "time = cal.fracofyear2date(np.array(dat2010.date_number))\n",
    "dat2010 = dat2010.assign_coords(time=time)"
   ]
  },
  {
   "cell_type": "code",
   "execution_count": 46,
   "metadata": {},
   "outputs": [],
   "source": [
    "# concatenate\n",
    "best = xr.concat([dat1970, dat1980, dat1990, dat2000, dat2010], \"time\", data_vars=[\"temperature\"])"
   ]
  },
  {
   "cell_type": "code",
   "execution_count": 47,
   "metadata": {},
   "outputs": [],
   "source": [
    "# remove Feb 29ths\n",
    "best = best.sel(time=~((best.time.dt.month==2) & (best.time.dt.day == 29)))\n",
    "best.time.encoding['calendar'] = \"noleap\""
   ]
  },
  {
   "cell_type": "code",
   "execution_count": 48,
   "metadata": {},
   "outputs": [],
   "source": [
    "# grab out 1979-2014\n",
    "best = best.sel(time=slice(\"1979-01-01\",\"2014-12-31\"))"
   ]
  },
  {
   "cell_type": "code",
   "execution_count": 49,
   "metadata": {},
   "outputs": [],
   "source": [
    "# repeat the climatology, assign appropriate coords and add to anomalies\n",
    "#clim = np.repeat( np.array(best.climatology), nyears, axis=0)\n",
    "clim = np.tile(best.climatology, (nyears, 1,1))\n",
    "clim_xr = xr.DataArray(clim, dims = best.temperature.dims, coords = best.temperature.coords)\n",
    "best['temperature'] = best['temperature']+clim_xr"
   ]
  },
  {
   "cell_type": "code",
   "execution_count": 85,
   "metadata": {},
   "outputs": [],
   "source": [
    "best_flipped = grid.fliplon_neg2pos(best,'longitude')"
   ]
  },
  {
   "cell_type": "code",
   "execution_count": 86,
   "metadata": {},
   "outputs": [],
   "source": [
    "besttrefht = xr.DataArray(np.zeros([best.time.size,3]), coords=[best.time, cityname], dims=['time','city'], name='best')\n",
    "for icity in np.arange(0,len(cityname),1):\n",
    "    besttrefht[:,icity] = best_flipped.temperature.sel(longitude=citylon[icity], latitude=citylat[icity], method=\"nearest\")"
   ]
  },
  {
   "cell_type": "code",
   "execution_count": 88,
   "metadata": {},
   "outputs": [],
   "source": [
    "besttrefht.to_netcdf(path=pathout+\"BEST_TREFHT.nc\")"
   ]
  },
  {
   "cell_type": "code",
   "execution_count": 90,
   "metadata": {},
   "outputs": [
    {
     "name": "stdout",
     "output_type": "stream",
     "text": [
      "<xarray.DataArray 'time' (time: 13140)>\n",
      "array(['1979-01-01T12:00:00.000000000', '1979-01-02T12:00:00.000000000',\n",
      "       '1979-01-03T12:00:00.000000000', ..., '2014-12-29T12:00:00.000000000',\n",
      "       '2014-12-30T12:00:00.000000000', '2014-12-31T12:00:00.000000000'],\n",
      "      dtype='datetime64[ns]')\n",
      "Coordinates:\n",
      "  * time     (time) datetime64[ns] 1979-01-01T12:00:00 ... 2014-12-31T12:00:00\n"
     ]
    }
   ],
   "source": [
    "print(besttrefht.time)"
   ]
  },
  {
   "cell_type": "code",
   "execution_count": null,
   "metadata": {},
   "outputs": [],
   "source": []
  }
 ],
 "metadata": {
  "kernelspec": {
   "display_name": "Python [conda env:ecpaperenv]",
   "language": "python",
   "name": "conda-env-ecpaperenv-py"
  },
  "language_info": {
   "codemirror_mode": {
    "name": "ipython",
    "version": 3
   },
   "file_extension": ".py",
   "mimetype": "text/x-python",
   "name": "python",
   "nbconvert_exporter": "python",
   "pygments_lexer": "ipython3",
   "version": "3.6.11"
  }
 },
 "nbformat": 4,
 "nbformat_minor": 4
}
