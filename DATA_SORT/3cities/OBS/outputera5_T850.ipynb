{
 "cells": [
  {
   "cell_type": "code",
   "execution_count": 1,
   "metadata": {},
   "outputs": [],
   "source": [
    "import importlib\n",
    "import xarray as xr\n",
    "import numpy as np\n",
    "import pandas as pd\n",
    "\n",
    "from CASutils import readdata_utils as read"
   ]
  },
  {
   "cell_type": "code",
   "execution_count": 2,
   "metadata": {},
   "outputs": [],
   "source": [
    "path=\"/project/haggis/ERA5/day/T850/\""
   ]
  },
  {
   "cell_type": "code",
   "execution_count": 3,
   "metadata": {},
   "outputs": [],
   "source": [
    "dat = read.read_sfc(path+\"*.nc\",\"1979-01-01\", \"2014-12-31\")"
   ]
  },
  {
   "cell_type": "code",
   "execution_count": 4,
   "metadata": {},
   "outputs": [],
   "source": [
    "dat = dat.sel(time=~((dat.time.dt.month==2) & (dat.time.dt.day == 29)))"
   ]
  },
  {
   "cell_type": "code",
   "execution_count": 5,
   "metadata": {},
   "outputs": [],
   "source": [
    "pathout=\"/project/cas/islas/python_savs/snowpaper/DATA_SORT/3cities/OBS/\""
   ]
  },
  {
   "cell_type": "code",
   "execution_count": 6,
   "metadata": {},
   "outputs": [],
   "source": [
    "cityname=['Saskatoon','Toronto','Siderovsk']\n",
    "citylon=[253.330, 280.617, 82.3139]\n",
    "citylat=[52.1579, 43.6532, 66.5973]"
   ]
  },
  {
   "cell_type": "code",
   "execution_count": 7,
   "metadata": {},
   "outputs": [],
   "source": [
    "era5t850 = xr.DataArray(np.zeros([dat.time.size,3]), coords=[dat.time, cityname], dims=['time','city'], name='era5')\n",
    "\n",
    "for icity in np.arange(0,len(cityname),1):\n",
    "    era5t850[:,icity] = dat.t850.sel(lon=citylon[icity], lat=citylat[icity], method=\"nearest\")"
   ]
  },
  {
   "cell_type": "code",
   "execution_count": 9,
   "metadata": {},
   "outputs": [],
   "source": [
    "era5t850.to_netcdf(path=pathout+\"ERA5_T850.nc\")"
   ]
  },
  {
   "cell_type": "code",
   "execution_count": null,
   "metadata": {},
   "outputs": [],
   "source": []
  }
 ],
 "metadata": {
  "kernelspec": {
   "display_name": "Python [conda env:ecpaperenv]",
   "language": "python",
   "name": "conda-env-ecpaperenv-py"
  },
  "language_info": {
   "codemirror_mode": {
    "name": "ipython",
    "version": 3
   },
   "file_extension": ".py",
   "mimetype": "text/x-python",
   "name": "python",
   "nbconvert_exporter": "python",
   "pygments_lexer": "ipython3",
   "version": "3.6.11"
  }
 },
 "nbformat": 4,
 "nbformat_minor": 4
}
