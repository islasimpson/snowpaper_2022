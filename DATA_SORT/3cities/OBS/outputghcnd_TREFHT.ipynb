{
 "cells": [
  {
   "cell_type": "code",
   "execution_count": 1,
   "metadata": {},
   "outputs": [],
   "source": [
    "import importlib\n",
    "import xarray as xr\n",
    "import numpy as np"
   ]
  },
  {
   "cell_type": "code",
   "execution_count": 2,
   "metadata": {},
   "outputs": [],
   "source": [
    "pathout=\"/project/cas/islas/python_savs/snowpaper/DATA_SORT/3cities/OBS/\""
   ]
  },
  {
   "cell_type": "code",
   "execution_count": 3,
   "metadata": {},
   "outputs": [],
   "source": [
    "cityname=['Saskatoon','Toronto','Siderovsk']\n",
    "citylon=[253.330, 280.617, 82.3139]\n",
    "citylat=[52.1579, 43.6532, 66.5973]"
   ]
  },
  {
   "cell_type": "code",
   "execution_count": 5,
   "metadata": {},
   "outputs": [],
   "source": [
    "data = xr.open_dataset(\"/project/cas/islas/python_savs/GHCND/T2m_GHCND_NH_1979_2014.nc\")\n",
    "t2m = data['t2m']\n",
    "lon = data['lon']\n",
    "lat = data['lat']"
   ]
  },
  {
   "cell_type": "code",
   "execution_count": 6,
   "metadata": {},
   "outputs": [],
   "source": [
    "# !!!!!! convert to celcius\n",
    "#t2m = (t2m - 32)/1.8"
   ]
  },
  {
   "cell_type": "code",
   "execution_count": 9,
   "metadata": {},
   "outputs": [],
   "source": [
    "# only use the stations that have data on more than 80% of the days\n",
    "#numnans = [np.count_nonzero(np.isnan(t2m[i,:])) for i in range(0,t2m['station'].size,1)]\n",
    "#mask = (np.array(numnans) < (0.8*t2m.time.size))\n",
    "#t2m = t2m[mask,:] ; lon = lon[mask] ; lat = lat[mask]"
   ]
  },
  {
   "cell_type": "code",
   "execution_count": 7,
   "metadata": {},
   "outputs": [],
   "source": [
    "lon[(lon < 0)] = lon[(lon < 0)] + 360"
   ]
  },
  {
   "cell_type": "code",
   "execution_count": 9,
   "metadata": {},
   "outputs": [
    {
     "name": "stdout",
     "output_type": "stream",
     "text": [
      "<xarray.DataArray 'lon' ()>\n",
      "array(254.3333)\n",
      "Coordinates:\n",
      "    station  <U11 'CA004056240' <xarray.DataArray 'lat' ()>\n",
      "array(53.2167)\n",
      "Coordinates:\n",
      "    station  <U11 'CA004056240'\n",
      "<xarray.DataArray 'lon' ()>\n",
      "array(280.5833)\n",
      "Coordinates:\n",
      "    station  <U11 'CA006085700' <xarray.DataArray 'lat' ()>\n",
      "array(46.3667)\n",
      "Coordinates:\n",
      "    station  <U11 'CA006085700'\n",
      "<xarray.DataArray 'lon' ()>\n",
      "array(84.27)\n",
      "Coordinates:\n",
      "    station  <U11 'RSM00023463' <xarray.DataArray 'lat' ()>\n",
      "array(65.98)\n",
      "Coordinates:\n",
      "    station  <U11 'RSM00023463'\n"
     ]
    }
   ],
   "source": [
    "ghcntrefht = xr.DataArray(np.zeros([data.time.size,3]), coords = [data.time,cityname], dims=['time','city'], name='ghcn')\n",
    "for icity in np.arange(0,len(cityname),1):\n",
    "    distance = np.abs(lon-citylon[icity]) + np.abs(lat-citylat[icity])\n",
    "    index = np.argmin(np.array(distance))\n",
    "    ghcntrefht[:,icity] = t2m[index, :]\n",
    "    print(lon[index],lat[index])"
   ]
  },
  {
   "cell_type": "code",
   "execution_count": 10,
   "metadata": {},
   "outputs": [],
   "source": [
    "ghcntrefht.to_netcdf(path=pathout+\"GHCN_TREFHT.nc\")"
   ]
  },
  {
   "cell_type": "code",
   "execution_count": null,
   "metadata": {},
   "outputs": [],
   "source": []
  }
 ],
 "metadata": {
  "kernelspec": {
   "display_name": "Python [conda env:ecpaperenv]",
   "language": "python",
   "name": "conda-env-ecpaperenv-py"
  },
  "language_info": {
   "codemirror_mode": {
    "name": "ipython",
    "version": 3
   },
   "file_extension": ".py",
   "mimetype": "text/x-python",
   "name": "python",
   "nbconvert_exporter": "python",
   "pygments_lexer": "ipython3",
   "version": "3.6.11"
  }
 },
 "nbformat": 4,
 "nbformat_minor": 4
}
