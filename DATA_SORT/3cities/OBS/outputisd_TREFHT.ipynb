{
 "cells": [
  {
   "cell_type": "code",
   "execution_count": 8,
   "metadata": {},
   "outputs": [],
   "source": [
    "import importlib\n",
    "import xarray as xr\n",
    "import numpy as np"
   ]
  },
  {
   "cell_type": "code",
   "execution_count": 2,
   "metadata": {},
   "outputs": [],
   "source": [
    "pathout=\"/project/cas/islas/python_savs/snowpaper/DATA_SORT/3cities/\""
   ]
  },
  {
   "cell_type": "code",
   "execution_count": 3,
   "metadata": {},
   "outputs": [],
   "source": [
    "cityname=['Saskatoon','Toronto','Siderovsk']\n",
    "citylon=[253.330, 280.617, 82.3139]\n",
    "citylat=[52.1579, 43.6532, 66.5973]"
   ]
  },
  {
   "cell_type": "code",
   "execution_count": 5,
   "metadata": {},
   "outputs": [],
   "source": [
    "data = xr.open_dataset(\"/project/cas/islas/savs/python/ISD/T2M_ISD_1979_2014.nc\")\n",
    "t2m = data['t2m']\n",
    "lon = data['lon']\n",
    "lat = data['lat']"
   ]
  },
  {
   "cell_type": "code",
   "execution_count": 6,
   "metadata": {},
   "outputs": [],
   "source": [
    "# !!!!!! convert to celcius\n",
    "t2m = (t2m - 32)/1.8"
   ]
  },
  {
   "cell_type": "code",
   "execution_count": 9,
   "metadata": {},
   "outputs": [],
   "source": [
    "# only use the stations that have data on more than 80% of the days\n",
    "numnans = [np.count_nonzero(np.isnan(t2m[i,:])) for i in range(0,t2m['station'].size,1)]\n",
    "mask = (np.array(numnans) < (0.8*t2m.time.size))\n",
    "t2m = t2m[mask,:] ; lon = lon[mask] ; lat = lat[mask]"
   ]
  },
  {
   "cell_type": "code",
   "execution_count": 11,
   "metadata": {},
   "outputs": [],
   "source": [
    "lon[(lon < 0)] = lon[(lon < 0)] + 360"
   ]
  },
  {
   "cell_type": "code",
   "execution_count": 25,
   "metadata": {},
   "outputs": [
    {
     "name": "stdout",
     "output_type": "stream",
     "text": [
      "<xarray.DataArray 'lon' ()>\n",
      "array(253.3)\n",
      "Coordinates:\n",
      "    station  <U11 '71866099999' <xarray.DataArray 'lat' ()>\n",
      "array(52.167)\n",
      "Coordinates:\n",
      "    station  <U11 '71866099999'\n",
      "<xarray.DataArray 'lon' ()>\n",
      "array(280.369)\n",
      "Coordinates:\n",
      "    station  <U11 '71624099999' <xarray.DataArray 'lat' ()>\n",
      "array(43.677)\n",
      "Coordinates:\n",
      "    station  <U11 '71624099999'\n",
      "<xarray.DataArray 'lon' ()>\n",
      "array(84.328)\n",
      "Coordinates:\n",
      "    station  <U11 '23463099999' <xarray.DataArray 'lat' ()>\n",
      "array(65.983)\n",
      "Coordinates:\n",
      "    station  <U11 '23463099999'\n"
     ]
    }
   ],
   "source": [
    "isdtrefht = xr.DataArray(np.zeros([isd.time.size,3]), coords = [isd.time,cityname], dims=['time','city'], name='isd')\n",
    "for icity in np.arange(0,len(cityname),1):\n",
    "    distance = np.abs(lon-citylon[icity]) + np.abs(lat-citylat[icity])\n",
    "    index = np.argmin(np.array(distance))\n",
    "    isdtrefht[:,icity] = t2m[index, :]\n",
    "    print(lon[index],lat[index])"
   ]
  },
  {
   "cell_type": "code",
   "execution_count": 26,
   "metadata": {},
   "outputs": [],
   "source": [
    "isdtrefht.to_netcdf(path=pathout+\"ISD_TREFHT.nc\")"
   ]
  }
 ],
 "metadata": {
  "kernelspec": {
   "display_name": "Python [conda env:ecpaperenv]",
   "language": "python",
   "name": "conda-env-ecpaperenv-py"
  },
  "language_info": {
   "codemirror_mode": {
    "name": "ipython",
    "version": 3
   },
   "file_extension": ".py",
   "mimetype": "text/x-python",
   "name": "python",
   "nbconvert_exporter": "python",
   "pygments_lexer": "ipython3",
   "version": "3.6.11"
  }
 },
 "nbformat": 4,
 "nbformat_minor": 4
}
