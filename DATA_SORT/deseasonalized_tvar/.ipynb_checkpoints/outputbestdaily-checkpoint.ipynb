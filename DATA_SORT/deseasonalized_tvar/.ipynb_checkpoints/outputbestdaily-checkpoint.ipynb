{
 "cells": [
  {
   "cell_type": "code",
   "execution_count": 118,
   "metadata": {},
   "outputs": [
    {
     "data": {
      "text/plain": [
       "<module 'CASutils.calendar_utils' from '/home/islas/python/CASanalysis/CASutils/calendar_utils.py'>"
      ]
     },
     "execution_count": 118,
     "metadata": {},
     "output_type": "execute_result"
    }
   ],
   "source": [
    "import importlib\n",
    "import xarray as xr\n",
    "import numpy as np\n",
    "import matplotlib.pyplot as plt\n",
    "from CASutils import filter_utils as filt\n",
    "from CASutils import readdata_utils as read\n",
    "from CASutils import calendar_utils as cal\n",
    "import sys\n",
    "from datetime import timedelta, datetime\n",
    "import pandas as pd\n",
    "\n",
    "importlib.reload(filt)\n",
    "importlib.reload(read)\n",
    "importlib.reload(cal)"
   ]
  },
  {
   "cell_type": "code",
   "execution_count": 153,
   "metadata": {},
   "outputs": [],
   "source": [
    "ystart=1979 ; yend=2014 ; nyears=yend-ystart+1"
   ]
  },
  {
   "cell_type": "code",
   "execution_count": 9,
   "metadata": {},
   "outputs": [],
   "source": [
    "dat1970 = xr.open_dataset(\"/project/haggis/obs/BEST_daily/Complete_TAVG_Daily_LatLong1_1970.nc\")\n",
    "dat1980 = xr.open_dataset(\"/project/haggis/obs/BEST_daily/Complete_TAVG_Daily_LatLong1_1980.nc\")\n",
    "dat1990 = xr.open_dataset(\"/project/haggis/obs/BEST_daily/Complete_TAVG_Daily_LatLong1_1990.nc\")\n",
    "dat2000 = xr.open_dataset(\"/project/haggis/obs/BEST_daily/Complete_TAVG_Daily_LatLong1_2000.nc\")\n",
    "dat2010 = xr.open_dataset(\"/project/haggis/obs/BEST_daily/Complete_TAVG_Daily_LatLong1_2010.nc\")"
   ]
  },
  {
   "cell_type": "code",
   "execution_count": 128,
   "metadata": {},
   "outputs": [],
   "source": [
    "# convert the date_number into a useful time axis\n",
    "time = cal.fracofyear2date(np.array(dat1970.date_number))\n",
    "dat1970 = dat1970.assign_coords(time=time)\n",
    "\n",
    "time = cal.fracofyear2date(np.array(dat1980.date_number))\n",
    "dat1980 = dat1980.assign_coords(time=time)\n",
    "\n",
    "time = cal.fracofyear2date(np.array(dat1990.date_number))\n",
    "dat1990 = dat1990.assign_coords(time=time)\n",
    "\n",
    "time = cal.fracofyear2date(np.array(dat2000.date_number))\n",
    "dat2000 = dat2000.assign_coords(time=time)\n",
    "\n",
    "time = cal.fracofyear2date(np.array(dat2010.date_number))\n",
    "dat2010 = dat2010.assign_coords(time=time)"
   ]
  },
  {
   "cell_type": "code",
   "execution_count": 173,
   "metadata": {},
   "outputs": [],
   "source": [
    "# concatenate\n",
    "best = xr.concat([dat1970, dat1980, dat1990, dat2000, dat2010], \"time\", data_vars=[\"temperature\"])"
   ]
  },
  {
   "cell_type": "code",
   "execution_count": 204,
   "metadata": {},
   "outputs": [],
   "source": [
    "# remove Feb 29ths\n",
    "best = best.sel(time=~((best.time.dt.month==2) & (best.time.dt.day == 29)))\n",
    "best.time.encoding['calendar'] = \"noleap\""
   ]
  },
  {
   "cell_type": "code",
   "execution_count": 221,
   "metadata": {},
   "outputs": [
    {
     "name": "stdout",
     "output_type": "stream",
     "text": [
      "<xarray.DataArray 'dayofyear' ()>\n",
      "array(365)\n",
      "Coordinates:\n",
      "    time     datetime64[ns] 1980-12-30T12:00:00\n"
     ]
    }
   ],
   "source": [
    "print(best['time.dayofyear'][728])"
   ]
  },
  {
   "cell_type": "code",
   "execution_count": 205,
   "metadata": {},
   "outputs": [],
   "source": [
    "# select 1979-2014\n",
    "best = best.sel(time=slice(\"1979-01-01\",\"2014-12-31\"))"
   ]
  },
  {
   "cell_type": "code",
   "execution_count": 209,
   "metadata": {},
   "outputs": [
    {
     "ename": "AttributeError",
     "evalue": "'DataArray' object has no attribute 'dayofyear'",
     "output_type": "error",
     "traceback": [
      "\u001b[0;31m---------------------------------------------------------------------------\u001b[0m",
      "\u001b[0;31mAttributeError\u001b[0m                            Traceback (most recent call last)",
      "\u001b[0;32m<ipython-input-209-2f212a9d5fd3>\u001b[0m in \u001b[0;36m<module>\u001b[0;34m\u001b[0m\n\u001b[0;32m----> 1\u001b[0;31m \u001b[0mprint\u001b[0m\u001b[0;34m(\u001b[0m\u001b[0mbest\u001b[0m\u001b[0;34m.\u001b[0m\u001b[0mtime\u001b[0m\u001b[0;34m.\u001b[0m\u001b[0mdayofyear\u001b[0m\u001b[0;34m)\u001b[0m\u001b[0;34m\u001b[0m\u001b[0;34m\u001b[0m\u001b[0m\n\u001b[0m",
      "\u001b[0;32m/project/cas/islas/miniconda3/envs/ecpaperenv/lib/python3.6/site-packages/xarray/core/common.py\u001b[0m in \u001b[0;36m__getattr__\u001b[0;34m(self, name)\u001b[0m\n\u001b[1;32m    227\u001b[0m                     \u001b[0;32mreturn\u001b[0m \u001b[0msource\u001b[0m\u001b[0;34m[\u001b[0m\u001b[0mname\u001b[0m\u001b[0;34m]\u001b[0m\u001b[0;34m\u001b[0m\u001b[0;34m\u001b[0m\u001b[0m\n\u001b[1;32m    228\u001b[0m         raise AttributeError(\n\u001b[0;32m--> 229\u001b[0;31m             \u001b[0;34m\"{!r} object has no attribute {!r}\"\u001b[0m\u001b[0;34m.\u001b[0m\u001b[0mformat\u001b[0m\u001b[0;34m(\u001b[0m\u001b[0mtype\u001b[0m\u001b[0;34m(\u001b[0m\u001b[0mself\u001b[0m\u001b[0;34m)\u001b[0m\u001b[0;34m.\u001b[0m\u001b[0m__name__\u001b[0m\u001b[0;34m,\u001b[0m \u001b[0mname\u001b[0m\u001b[0;34m)\u001b[0m\u001b[0;34m\u001b[0m\u001b[0;34m\u001b[0m\u001b[0m\n\u001b[0m\u001b[1;32m    230\u001b[0m         )\n\u001b[1;32m    231\u001b[0m \u001b[0;34m\u001b[0m\u001b[0m\n",
      "\u001b[0;31mAttributeError\u001b[0m: 'DataArray' object has no attribute 'dayofyear'"
     ]
    }
   ],
   "source": [
    "print(best.time.dayofyear)"
   ]
  },
  {
   "cell_type": "code",
   "execution_count": 215,
   "metadata": {},
   "outputs": [
    {
     "name": "stdout",
     "output_type": "stream",
     "text": [
      "729\n",
      "2189\n",
      "3649\n",
      "5109\n",
      "6569\n",
      "8029\n",
      "9489\n",
      "10949\n",
      "12409\n"
     ]
    }
   ],
   "source": [
    "for i in range(0,best.time.size,1):\n",
    "    if (best[\"time.dayofyear\"][i]==366):\n",
    "        print(i)"
   ]
  },
  {
   "cell_type": "code",
   "execution_count": 183,
   "metadata": {},
   "outputs": [],
   "source": [
    "# repeat the climatology, assign appropriate coords and add to anomalies\n",
    "clim = np.repeat( np.array(best.climatology), nyears, axis=0)\n",
    "clim_xr = xr.DataArray(clim, dims = best.temperature.dims, coords = best.temperature.coords)\n",
    "best['temperature'] = best['temperature']+clim_xr"
   ]
  },
  {
   "cell_type": "code",
   "execution_count": 212,
   "metadata": {},
   "outputs": [
    {
     "name": "stdout",
     "output_type": "stream",
     "text": [
      "<xarray.DataArray 'time' (time: 13140)>\n",
      "array(['1979-01-01T12:00:00.000000000', '1979-01-02T12:00:00.000000000',\n",
      "       '1979-01-03T12:00:00.000000000', ..., '2014-12-29T12:00:00.000000000',\n",
      "       '2014-12-30T12:00:00.000000000', '2014-12-31T12:00:00.000000000'],\n",
      "      dtype='datetime64[ns]')\n",
      "Coordinates:\n",
      "  * time     (time) datetime64[ns] 1979-01-01T12:00:00 ... 2014-12-31T12:00:00\n"
     ]
    }
   ],
   "source": [
    "print(best.time)"
   ]
  },
  {
   "cell_type": "code",
   "execution_count": 213,
   "metadata": {},
   "outputs": [],
   "source": [
    "bestseason = best.temperature.groupby('time.dayofyear').mean('time')"
   ]
  },
  {
   "cell_type": "code",
   "execution_count": 214,
   "metadata": {},
   "outputs": [
    {
     "name": "stdout",
     "output_type": "stream",
     "text": [
      "<xarray.DataArray 'temperature' (dayofyear: 366, latitude: 180, longitude: 360)>\n",
      "array([[[-96.47499 , -96.428185, -96.3813  , ..., -96.614204,\n",
      "         -96.56883 , -96.52266 ],\n",
      "        [-98.19118 , -98.157166, -98.12076 , ..., -98.283676,\n",
      "         -98.25462 , -98.22452 ],\n",
      "        [-94.48772 , -94.32957 , -94.10203 , ..., -94.75258 ,\n",
      "         -94.68582 , -94.60131 ],\n",
      "        ...,\n",
      "        [       nan,        nan,        nan, ...,        nan,\n",
      "                nan,        nan],\n",
      "        [       nan,        nan,        nan, ...,        nan,\n",
      "                nan,        nan],\n",
      "        [       nan,        nan,        nan, ...,        nan,\n",
      "                nan,        nan]],\n",
      "\n",
      "       [[-96.77357 , -96.7264  , -96.679184, ..., -96.91388 ,\n",
      "         -96.868164, -96.821594],\n",
      "        [-98.45454 , -98.419624, -98.38228 , ..., -98.54978 ,\n",
      "         -98.519806, -98.4888  ],\n",
      "        [-94.71189 , -94.55237 , -94.323456, ..., -94.98083 ,\n",
      "         -94.91269 , -94.82683 ],\n",
      "...\n",
      "        [       nan,        nan,        nan, ...,        nan,\n",
      "                nan,        nan],\n",
      "        [       nan,        nan,        nan, ...,        nan,\n",
      "                nan,        nan],\n",
      "        [       nan,        nan,        nan, ...,        nan,\n",
      "                nan,        nan]],\n",
      "\n",
      "       [[-94.78154 , -94.733475, -94.68535 , ..., -94.92438 ,\n",
      "         -94.87782 , -94.83043 ],\n",
      "        [-96.63444 , -96.59783 , -96.55874 , ..., -96.73454 ,\n",
      "         -96.70301 , -96.67039 ],\n",
      "        [-93.08363 , -92.9223  , -92.69142 , ..., -93.3573  ,\n",
      "         -93.287735, -93.20028 ],\n",
      "        ...,\n",
      "        [       nan,        nan,        nan, ...,        nan,\n",
      "                nan,        nan],\n",
      "        [       nan,        nan,        nan, ...,        nan,\n",
      "                nan,        nan],\n",
      "        [       nan,        nan,        nan, ...,        nan,\n",
      "                nan,        nan]]], dtype=float32)\n",
      "Coordinates:\n",
      "  * longitude  (longitude) float32 -179.5 -178.5 -177.5 ... 177.5 178.5 179.5\n",
      "  * latitude   (latitude) float32 -89.5 -88.5 -87.5 -86.5 ... 87.5 88.5 89.5\n",
      "  * dayofyear  (dayofyear) int64 1 2 3 4 5 6 7 8 ... 360 361 362 363 364 365 366\n"
     ]
    }
   ],
   "source": [
    "print(bestseason)"
   ]
  },
  {
   "cell_type": "code",
   "execution_count": null,
   "metadata": {},
   "outputs": [],
   "source": [
    "trefht4harm = filt.calc_season_nharm(bestseason, 4, dimtime=0)"
   ]
  },
  {
   "cell_type": "code",
   "execution_count": null,
   "metadata": {},
   "outputs": [],
   "source": []
  }
 ],
 "metadata": {
  "kernelspec": {
   "display_name": "Python [conda env:ecpaperenv]",
   "language": "python",
   "name": "conda-env-ecpaperenv-py"
  },
  "language_info": {
   "codemirror_mode": {
    "name": "ipython",
    "version": 3
   },
   "file_extension": ".py",
   "mimetype": "text/x-python",
   "name": "python",
   "nbconvert_exporter": "python",
   "pygments_lexer": "ipython3",
   "version": "3.6.11"
  }
 },
 "nbformat": 4,
 "nbformat_minor": 4
}
