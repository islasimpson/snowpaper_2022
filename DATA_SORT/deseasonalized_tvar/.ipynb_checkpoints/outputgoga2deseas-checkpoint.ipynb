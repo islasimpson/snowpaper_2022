{
 "cells": [
  {
   "cell_type": "code",
   "execution_count": 198,
   "metadata": {},
   "outputs": [
    {
     "data": {
      "text/plain": [
       "<module 'CASutils.calendar_utils' from '/home/islas/python/CASanalysis/CASutils/calendar_utils.py'>"
      ]
     },
     "execution_count": 198,
     "metadata": {},
     "output_type": "execute_result"
    }
   ],
   "source": [
    "import importlib\n",
    "import xarray as xr\n",
    "import numpy as np\n",
    "import pandas as pd\n",
    "import matplotlib.pyplot as plt\n",
    "import netCDF4\n",
    "from CASutils import filter_utils as filt\n",
    "from CASutils import readdata_utils as read\n",
    "from CASutils import calendar_utils as cal\n",
    "import sys\n",
    "from math import nan as nan\n",
    "import datetime\n",
    "\n",
    "importlib.reload(filt)\n",
    "importlib.reload(read)\n",
    "importlib.reload(cal)"
   ]
  },
  {
   "cell_type": "markdown",
   "metadata": {},
   "source": [
    "GOGA1"
   ]
  },
  {
   "cell_type": "code",
   "execution_count": 199,
   "metadata": {},
   "outputs": [
    {
     "name": "stdout",
     "output_type": "stream",
     "text": [
      "01\n",
      "warning, you're reading CESM data but there's no time_bnds\n",
      "make sure you're reading in what you're expecting to\n",
      "02\n",
      "warning, you're reading CESM data but there's no time_bnds\n",
      "make sure you're reading in what you're expecting to\n",
      "03\n",
      "warning, you're reading CESM data but there's no time_bnds\n",
      "make sure you're reading in what you're expecting to\n",
      "04\n",
      "warning, you're reading CESM data but there's no time_bnds\n",
      "make sure you're reading in what you're expecting to\n",
      "05\n",
      "warning, you're reading CESM data but there's no time_bnds\n",
      "make sure you're reading in what you're expecting to\n",
      "06\n",
      "warning, you're reading CESM data but there's no time_bnds\n",
      "make sure you're reading in what you're expecting to\n",
      "07\n",
      "warning, you're reading CESM data but there's no time_bnds\n",
      "make sure you're reading in what you're expecting to\n",
      "08\n",
      "warning, you're reading CESM data but there's no time_bnds\n",
      "make sure you're reading in what you're expecting to\n",
      "09\n",
      "warning, you're reading CESM data but there's no time_bnds\n",
      "make sure you're reading in what you're expecting to\n",
      "10\n",
      "warning, you're reading CESM data but there's no time_bnds\n",
      "make sure you're reading in what you're expecting to\n"
     ]
    }
   ],
   "source": [
    "path=\"/project/cas02/islas/GOGA/day/TREFHT/\"\n",
    "nmems=10 ; mems = np.arange(1,nmems+1,1)\n",
    "for imem in range(0,nmems,1):\n",
    "    memstr=str(imem+1).zfill(2)\n",
    "    print(memstr)\n",
    "    fpath=path+\"ens\"+memstr+\"/*\"\n",
    "    dat = read.read_sfc_cesm(fpath,\"1979-01\", \"2014-12\")\n",
    "    datseason = dat.TREFHT.groupby('time.dayofyear').mean('time')\n",
    "    trefht4harm = filt.calc_season_nharm(datseason, 4, dimtime=0)\n",
    "    anoms = dat.TREFHT.groupby('time.dayofyear') - trefht4harm\n",
    "    djfanoms = cal.group_season_daily(anoms, 'DJF')\n",
    "    djfmean = djfanoms.mean('day')\n",
    "    djfanoms = djfanoms - djfmean\n",
    "    if (imem == 0):\n",
    "        goga1var = xr.DataArray(np.zeros([nmems, anoms.lat.size, anoms.lon.size]), coords=[mems, anoms.lat, anoms.lon], \n",
    "                                         dims = ['Member','lat','lon'], name='goga1var')\n",
    "    \n",
    "    goga1var[imem,:,:] = np.var(np.array(djfanoms), axis=(0,1))"
   ]
  },
  {
   "cell_type": "code",
   "execution_count": 200,
   "metadata": {},
   "outputs": [],
   "source": [
    "goga1var.to_netcdf(path=\"/project/cas/islas/savs/python/snowpaper/DATA_SORT/deseasonalized_tvar/TVAR_GOGA1.nc\")"
   ]
  },
  {
   "cell_type": "code",
   "execution_count": 183,
   "metadata": {},
   "outputs": [],
   "source": [
    "test = djfanoms.mean('day')"
   ]
  },
  {
   "cell_type": "code",
   "execution_count": 184,
   "metadata": {},
   "outputs": [],
   "source": [
    "test2 = djfanoms - test"
   ]
  },
  {
   "cell_type": "code",
   "execution_count": 188,
   "metadata": {},
   "outputs": [
    {
     "name": "stdout",
     "output_type": "stream",
     "text": [
      "<xarray.DataArray (year: 35)>\n",
      "array([-3.756836  ,  1.3804321 ,  0.88941956, -0.5721283 ,  6.1057587 ,\n",
      "       -1.5386658 , -2.5210419 , -0.1577301 ,  0.9386902 ,  2.6284943 ,\n",
      "        0.05950928, -2.1435852 , -0.74601746, -0.7794037 ,  1.3393707 ,\n",
      "       -2.496643  , -0.7476959 ,  0.7442169 ,  2.287384  ,  3.6346893 ,\n",
      "       -1.3160706 , -1.0137329 ,  0.15611267,  0.88949585,  0.22024536,\n",
      "       -1.3204346 ,  2.1990967 ,  0.8667755 , -0.91612244, -3.0299683 ,\n",
      "        1.440155  , -2.3770142 , -2.1576996 , -0.42892456,  1.7928314 ],\n",
      "      dtype=float32)\n",
      "Coordinates:\n",
      "  * year     (year) float64 1.979e+03 1.98e+03 1.981e+03 ... 2.012e+03 2.013e+03\n",
      "    day      int64 1\n",
      "    lat      float64 -90.0\n",
      "    lon      float64 0.0\n"
     ]
    }
   ],
   "source": [
    "print(djfanoms.isel(day=1, lat=0, lon=0))"
   ]
  },
  {
   "cell_type": "code",
   "execution_count": 192,
   "metadata": {},
   "outputs": [
    {
     "name": "stdout",
     "output_type": "stream",
     "text": [
      "<xarray.DataArray ()>\n",
      "array(-0.23120643, dtype=float32)\n",
      "Coordinates:\n",
      "    year     float64 1.98e+03\n",
      "    lat      float64 -90.0\n",
      "    lon      float64 0.0\n"
     ]
    }
   ],
   "source": [
    "print(test.isel(year=1, lat=0, lon=0))"
   ]
  },
  {
   "cell_type": "code",
   "execution_count": 190,
   "metadata": {},
   "outputs": [
    {
     "name": "stdout",
     "output_type": "stream",
     "text": [
      "<xarray.DataArray (year: 35)>\n",
      "array([-3.8243597 ,  1.6116385 ,  1.3262806 , -0.2548718 ,  5.7999825 ,\n",
      "       -1.9539571 , -1.681431  , -0.36991084,  0.81105787,  3.1016867 ,\n",
      "       -0.38916677, -2.3421311 , -1.045589  ,  0.5921544 ,  0.66330904,\n",
      "       -1.6988969 , -1.1910661 ,  0.39589912,  1.8606076 ,  3.1313534 ,\n",
      "       -1.0054307 , -0.2596159 ,  0.29350382,  0.37692058, -0.24514872,\n",
      "       -0.6791241 ,  2.1795473 ,  1.9733701 , -2.1419384 , -3.2145247 ,\n",
      "        0.6361996 , -3.862799  , -1.3963633 , -1.0448512 ,  1.8474274 ],\n",
      "      dtype=float32)\n",
      "Coordinates:\n",
      "  * year     (year) float64 1.979e+03 1.98e+03 1.981e+03 ... 2.012e+03 2.013e+03\n",
      "    day      int64 1\n",
      "    lat      float64 -90.0\n",
      "    lon      float64 0.0\n"
     ]
    }
   ],
   "source": [
    "print(test2.isel(day=1, lat=0, lon=0))"
   ]
  },
  {
   "cell_type": "code",
   "execution_count": 193,
   "metadata": {},
   "outputs": [
    {
     "name": "stdout",
     "output_type": "stream",
     "text": [
      "-1.61163853\n"
     ]
    }
   ],
   "source": [
    "print(-1.3804321 - 0.23120643)"
   ]
  },
  {
   "cell_type": "code",
   "execution_count": 95,
   "metadata": {},
   "outputs": [],
   "source": [
    "anoms_season = anoms.where(anoms['time.season'] == 'DJF')"
   ]
  },
  {
   "cell_type": "code",
   "execution_count": 164,
   "metadata": {},
   "outputs": [
    {
     "name": "stdout",
     "output_type": "stream",
     "text": [
      "35.0\n"
     ]
    }
   ],
   "source": [
    "result = cal.group_season_daily(anoms, 'DJF')"
   ]
  },
  {
   "cell_type": "code",
   "execution_count": 171,
   "metadata": {},
   "outputs": [],
   "source": [
    "test = np.var(np.array(result), axis=(0,1))"
   ]
  },
  {
   "cell_type": "code",
   "execution_count": 172,
   "metadata": {},
   "outputs": [
    {
     "name": "stdout",
     "output_type": "stream",
     "text": [
      "(192, 288)\n"
     ]
    }
   ],
   "source": [
    "print(test.shape)"
   ]
  },
  {
   "cell_type": "code",
   "execution_count": 165,
   "metadata": {},
   "outputs": [
    {
     "name": "stdout",
     "output_type": "stream",
     "text": [
      "<xarray.DataArray (year: 35, day: 90, lat: 192, lon: 288)>\n",
      "array([[[[-3.48348999e+00, -3.42845154e+00, -3.43287659e+00, ...,\n",
      "          -3.43191528e+00, -3.48162842e+00, -3.42025757e+00],\n",
      "         [-3.74499512e+00, -3.72631836e+00, -3.66972351e+00, ...,\n",
      "          -3.46615601e+00, -3.66842651e+00, -3.66592407e+00],\n",
      "         [-3.68780518e+00, -3.71247864e+00, -3.70225525e+00, ...,\n",
      "          -3.80426025e+00, -3.76187134e+00, -3.80450439e+00],\n",
      "         ...,\n",
      "         [-1.40228271e+00, -1.38566589e+00, -1.33355713e+00, ...,\n",
      "          -1.45845032e+00, -1.47502136e+00, -1.44746399e+00],\n",
      "         [ 1.18742371e+00,  1.16870117e+00,  1.22219849e+00, ...,\n",
      "           1.14031982e+00,  1.12696838e+00,  1.19061279e+00],\n",
      "         [ 7.59170532e-01,  7.59017944e-01,  7.58529663e-01, ...,\n",
      "           7.58316040e-01,  7.58300781e-01,  7.58590698e-01]],\n",
      "\n",
      "        [[-3.75683594e+00, -3.72961426e+00, -3.72956848e+00, ...,\n",
      "          -3.73725891e+00, -3.75419617e+00, -3.71025085e+00],\n",
      "         [-3.87037659e+00, -3.85504150e+00, -3.75498962e+00, ...,\n",
      "          -3.52311707e+00, -3.78193665e+00, -3.78041077e+00],\n",
      "         [-3.54248047e+00, -3.58224487e+00, -3.59416199e+00, ...,\n",
      "          -3.59963989e+00, -3.57257080e+00, -3.65325928e+00],\n",
      "...\n",
      "           1.10163879e+00,  1.45045471e+00,  1.76309204e+00],\n",
      "         [-1.80679321e-01, -7.51953125e-02,  4.04663086e-02, ...,\n",
      "          -3.62625122e-01, -2.91473389e-01, -2.38891602e-01],\n",
      "         [-1.13456726e+00, -1.13488770e+00, -1.13514709e+00, ...,\n",
      "          -1.13456726e+00, -1.13462830e+00, -1.13464355e+00]],\n",
      "\n",
      "        [[-2.74687195e+00, -2.76226807e+00, -2.76567078e+00, ...,\n",
      "          -2.75573730e+00, -2.73950195e+00, -2.73751831e+00],\n",
      "         [-2.52070618e+00, -2.53698730e+00, -2.56127930e+00, ...,\n",
      "          -2.62590027e+00, -2.49166870e+00, -2.48330688e+00],\n",
      "         [-1.62222290e+00, -1.61656189e+00, -1.61869812e+00, ...,\n",
      "          -1.73457336e+00, -1.64817810e+00, -1.71485901e+00],\n",
      "         ...,\n",
      "         [-5.11505127e-01, -5.83526611e-01, -5.25131226e-01, ...,\n",
      "          -2.70629883e-01, -3.38836670e-01, -4.36843872e-01],\n",
      "         [-9.52758789e-01, -6.94686890e-01, -4.46746826e-01, ...,\n",
      "          -8.30322266e-01, -8.82583618e-01, -9.24057007e-01],\n",
      "         [-6.41540527e-01, -6.41860962e-01, -6.42074585e-01, ...,\n",
      "          -6.41555786e-01, -6.41586304e-01, -6.41632080e-01]]]],\n",
      "      dtype=float32)\n",
      "Coordinates:\n",
      "  * year     (year) float64 1.979e+03 1.98e+03 1.981e+03 ... 2.012e+03 2.013e+03\n",
      "  * day      (day) int64 0 1 2 3 4 5 6 7 8 9 ... 80 81 82 83 84 85 86 87 88 89\n",
      "  * lat      (lat) float64 -90.0 -89.06 -88.12 -87.17 ... 87.17 88.12 89.06 90.0\n",
      "  * lon      (lon) float64 0.0 1.25 2.5 3.75 5.0 ... 355.0 356.2 357.5 358.8\n"
     ]
    }
   ],
   "source": [
    "print(result)"
   ]
  },
  {
   "cell_type": "code",
   "execution_count": 147,
   "metadata": {},
   "outputs": [
    {
     "name": "stdout",
     "output_type": "stream",
     "text": [
      "(35, 90, 192, 288)\n"
     ]
    }
   ],
   "source": [
    "print(result.shape)"
   ]
  },
  {
   "cell_type": "code",
   "execution_count": 157,
   "metadata": {},
   "outputs": [],
   "source": [
    "dims = anoms.dims\n",
    "dimout=['year','mon']\n",
    "outcoords = [('year', np.arange(35)), ('day', np.arange(90))]\n",
    "for icoord in range(1,len(dims)):\n",
    "    dimout.append(dims[icoord])\n",
    "    outcoords.append( (dims[icoord], anoms[dims[icoord]]))"
   ]
  },
  {
   "cell_type": "code",
   "execution_count": 158,
   "metadata": {},
   "outputs": [
    {
     "name": "stdout",
     "output_type": "stream",
     "text": [
      "[('year', array([ 0,  1,  2,  3,  4,  5,  6,  7,  8,  9, 10, 11, 12, 13, 14, 15, 16,\n",
      "       17, 18, 19, 20, 21, 22, 23, 24, 25, 26, 27, 28, 29, 30, 31, 32, 33,\n",
      "       34])), ('day', array([ 0,  1,  2,  3,  4,  5,  6,  7,  8,  9, 10, 11, 12, 13, 14, 15, 16,\n",
      "       17, 18, 19, 20, 21, 22, 23, 24, 25, 26, 27, 28, 29, 30, 31, 32, 33,\n",
      "       34, 35, 36, 37, 38, 39, 40, 41, 42, 43, 44, 45, 46, 47, 48, 49, 50,\n",
      "       51, 52, 53, 54, 55, 56, 57, 58, 59, 60, 61, 62, 63, 64, 65, 66, 67,\n",
      "       68, 69, 70, 71, 72, 73, 74, 75, 76, 77, 78, 79, 80, 81, 82, 83, 84,\n",
      "       85, 86, 87, 88, 89])), ('lat', <xarray.DataArray 'lat' (lat: 192)>\n",
      "array([-90.      , -89.057592, -88.115183, -87.172775, -86.230366, -85.287958,\n",
      "       -84.34555 , -83.403141, -82.460733, -81.518325, -80.575916, -79.633508,\n",
      "       -78.691099, -77.748691, -76.806283, -75.863874, -74.921466, -73.979058,\n",
      "       -73.036649, -72.094241, -71.151832, -70.209424, -69.267016, -68.324607,\n",
      "       -67.382199, -66.439791, -65.497382, -64.554974, -63.612565, -62.670157,\n",
      "       -61.727749, -60.78534 , -59.842932, -58.900524, -57.958115, -57.015707,\n",
      "       -56.073298, -55.13089 , -54.188482, -53.246073, -52.303665, -51.361257,\n",
      "       -50.418848, -49.47644 , -48.534031, -47.591623, -46.649215, -45.706806,\n",
      "       -44.764398, -43.82199 , -42.879581, -41.937173, -40.994764, -40.052356,\n",
      "       -39.109948, -38.167539, -37.225131, -36.282723, -35.340314, -34.397906,\n",
      "       -33.455497, -32.513089, -31.570681, -30.628272, -29.685864, -28.743455,\n",
      "       -27.801047, -26.858639, -25.91623 , -24.973822, -24.031414, -23.089005,\n",
      "       -22.146597, -21.204188, -20.26178 , -19.319372, -18.376963, -17.434555,\n",
      "       -16.492147, -15.549738, -14.60733 , -13.664921, -12.722513, -11.780105,\n",
      "       -10.837696,  -9.895288,  -8.95288 ,  -8.010471,  -7.068063,  -6.125654,\n",
      "        -5.183246,  -4.240838,  -3.298429,  -2.356021,  -1.413613,  -0.471204,\n",
      "         0.471204,   1.413613,   2.356021,   3.298429,   4.240838,   5.183246,\n",
      "         6.125654,   7.068063,   8.010471,   8.95288 ,   9.895288,  10.837696,\n",
      "        11.780105,  12.722513,  13.664921,  14.60733 ,  15.549738,  16.492147,\n",
      "        17.434555,  18.376963,  19.319372,  20.26178 ,  21.204188,  22.146597,\n",
      "        23.089005,  24.031414,  24.973822,  25.91623 ,  26.858639,  27.801047,\n",
      "        28.743455,  29.685864,  30.628272,  31.570681,  32.513089,  33.455497,\n",
      "        34.397906,  35.340314,  36.282723,  37.225131,  38.167539,  39.109948,\n",
      "        40.052356,  40.994764,  41.937173,  42.879581,  43.82199 ,  44.764398,\n",
      "        45.706806,  46.649215,  47.591623,  48.534031,  49.47644 ,  50.418848,\n",
      "        51.361257,  52.303665,  53.246073,  54.188482,  55.13089 ,  56.073298,\n",
      "        57.015707,  57.958115,  58.900524,  59.842932,  60.78534 ,  61.727749,\n",
      "        62.670157,  63.612565,  64.554974,  65.497382,  66.439791,  67.382199,\n",
      "        68.324607,  69.267016,  70.209424,  71.151832,  72.094241,  73.036649,\n",
      "        73.979058,  74.921466,  75.863874,  76.806283,  77.748691,  78.691099,\n",
      "        79.633508,  80.575916,  81.518325,  82.460733,  83.403141,  84.34555 ,\n",
      "        85.287958,  86.230366,  87.172775,  88.115183,  89.057592,  90.      ])\n",
      "Coordinates:\n",
      "  * lat      (lat) float64 -90.0 -89.06 -88.12 -87.17 ... 87.17 88.12 89.06 90.0\n",
      "Attributes:\n",
      "    units:      degrees_north\n",
      "    long_name:  latitude), ('lon', <xarray.DataArray 'lon' (lon: 288)>\n",
      "array([  0.  ,   1.25,   2.5 , ..., 356.25, 357.5 , 358.75])\n",
      "Coordinates:\n",
      "  * lon      (lon) float64 0.0 1.25 2.5 3.75 5.0 ... 355.0 356.2 357.5 358.8\n",
      "Attributes:\n",
      "    units:      degrees_east\n",
      "    long_name:  longitude)]\n"
     ]
    }
   ],
   "source": [
    "print(outcoords)"
   ]
  },
  {
   "cell_type": "code",
   "execution_count": 151,
   "metadata": {},
   "outputs": [
    {
     "name": "stdout",
     "output_type": "stream",
     "text": [
      "Coordinates:\n",
      "  * time       (time) object 1979-01-01 00:00:00 ... 2014-12-31 00:00:00\n",
      "  * lat        (lat) float64 -90.0 -89.06 -88.12 -87.17 ... 88.12 89.06 90.0\n",
      "  * lon        (lon) float64 0.0 1.25 2.5 3.75 5.0 ... 355.0 356.2 357.5 358.8\n",
      "    dayofyear  (time) int64 1 2 3 4 5 6 7 8 ... 358 359 360 361 362 363 364 365\n",
      "time\n",
      "lat\n",
      "lon\n",
      "dayofyear\n"
     ]
    }
   ],
   "source": [
    "print(anoms.coords)\n",
    "for icoord in anoms.coords:\n",
    "    print(icoord)"
   ]
  },
  {
   "cell_type": "code",
   "execution_count": 115,
   "metadata": {},
   "outputs": [],
   "source": [
    "resultnp = np.array(result)"
   ]
  },
  {
   "cell_type": "code",
   "execution_count": 132,
   "metadata": {},
   "outputs": [],
   "source": [
    "dimnew = [35, int(3150/35)]"
   ]
  },
  {
   "cell_type": "code",
   "execution_count": 124,
   "metadata": {},
   "outputs": [
    {
     "name": "stdout",
     "output_type": "stream",
     "text": [
      "192\n",
      "288\n"
     ]
    }
   ],
   "source": [
    "for i in resultnp.shape[1::]:\n",
    "    print(i)"
   ]
  },
  {
   "cell_type": "code",
   "execution_count": 134,
   "metadata": {},
   "outputs": [],
   "source": [
    "for i in resultnp.shape[1::]:\n",
    "    dimnew.append(i)"
   ]
  },
  {
   "cell_type": "code",
   "execution_count": 135,
   "metadata": {},
   "outputs": [
    {
     "name": "stdout",
     "output_type": "stream",
     "text": [
      "[35, 90, 192, 288]\n"
     ]
    }
   ],
   "source": [
    "print(dimnew)"
   ]
  },
  {
   "cell_type": "code",
   "execution_count": 136,
   "metadata": {},
   "outputs": [],
   "source": [
    "test = np.reshape(resultnp, dimnew)"
   ]
  },
  {
   "cell_type": "code",
   "execution_count": 138,
   "metadata": {},
   "outputs": [
    {
     "name": "stdout",
     "output_type": "stream",
     "text": [
      "(35, 90, 192, 288)\n"
     ]
    }
   ],
   "source": [
    "print(test.shape)"
   ]
  },
  {
   "cell_type": "code",
   "execution_count": 117,
   "metadata": {},
   "outputs": [
    {
     "name": "stdout",
     "output_type": "stream",
     "text": [
      "(3150, 192, 288)\n"
     ]
    }
   ],
   "source": [
    "print(resultnp.shape)"
   ]
  },
  {
   "cell_type": "code",
   "execution_count": 91,
   "metadata": {},
   "outputs": [
    {
     "name": "stdout",
     "output_type": "stream",
     "text": [
      "<xarray.DataArray 'month' (time: 13140)>\n",
      "array([ 1,  1,  1, ..., 12, 12, 12])\n",
      "Coordinates:\n",
      "  * time       (time) object 1979-01-01 00:00:00 ... 2014-12-31 00:00:00\n",
      "    dayofyear  (time) int64 1 2 3 4 5 6 7 8 ... 358 359 360 361 362 363 364 365\n"
     ]
    }
   ],
   "source": [
    "print(result['time.month'])"
   ]
  },
  {
   "cell_type": "code",
   "execution_count": 90,
   "metadata": {},
   "outputs": [
    {
     "name": "stdout",
     "output_type": "stream",
     "text": [
      "[ 0.7276001   0.6165161   0.03915405 -0.45593262 -1.1682129   0.9360962\n",
      "  3.0532837   2.1142578  -0.8768616  -2.261383   -2.6352844  -0.8911743\n",
      "  1.3909607  -0.6488342  -1.0241699   0.3229065   2.2559814  -1.3062134\n",
      " -2.5610352  -0.14038086 -0.5592041  -1.1373596  -2.6445923  -0.15667725\n",
      "  1.9782104   1.1804199   2.1741638   2.2674255   3.9401245  -1.5558167\n",
      " -1.8057556   0.50271606  1.8742371  -1.1705933   1.479065    0.9120178\n",
      "  1.335846    2.3738708   2.3625488   1.37677   ]\n"
     ]
    }
   ],
   "source": [
    "print(result[13100:13140,50,50].values)"
   ]
  },
  {
   "cell_type": "code",
   "execution_count": 63,
   "metadata": {},
   "outputs": [],
   "source": [
    "#test = anoms.where(~((anoms['time.year']==1979) and (anoms['time.mon']==1)))\n",
    "#test = anoms[~((anoms['time.year']==1979) and (anoms['time.mon']==1))]\n",
    "test = anoms.where(~((anoms['time.year'] == 1979) & ((anoms['time.month'] == 1) | (anoms['time.month'] == 2))))\n",
    "\n",
    "\n",
    "#years = anoms['time.year']\n",
    "#months = anoms['time.mon']"
   ]
  },
  {
   "cell_type": "code",
   "execution_count": 65,
   "metadata": {},
   "outputs": [
    {
     "name": "stdout",
     "output_type": "stream",
     "text": [
      "[-1.976471    0.08929443  1.907959    1.0290222   0.57995605 -0.9366455\n",
      "  0.59902954 -2.841217   -1.6538391  -0.27633667 -1.3638     -0.38079834\n",
      "  1.699707    1.9898682   1.1806641  -2.2598877  -1.7908325   1.2299194\n",
      " -1.5084534  -1.0809326  -0.29421997  1.3473206   2.8972168   1.2390747\n",
      " -2.0095825  -1.9260559   1.212738   -0.11404419 -0.7204895   0.5921936\n",
      "  1.5239563   2.1125793   2.2996826  -1.0649414  -4.3254395  -4.1418457\n",
      " -3.4353943  -2.4819336  -0.06237793  1.5430908   1.2096558  -1.135376\n",
      "  0.05328369 -1.7395325  -0.90789795  0.53201294  2.4835205   0.5664673\n",
      " -2.4263306  -0.06790161  0.735199    1.010376    0.52407837  2.5548096\n",
      "  0.02893066  0.93359375 -0.89242554  1.3370056  -0.3288269  -0.5834961\n",
      " -1.3739319  -0.55566406  0.3302002   0.99279785  1.6217957   2.354187\n",
      "  2.8066406   3.2254028   2.4407349  -2.8538513  -1.1914368   0.89523315\n",
      " -2.3434143  -1.3915405  -1.9199219  -0.13641357  1.701294    0.5082092\n",
      " -0.71209717  2.6307373  -2.1055908  -2.8022156  -2.09964     0.41879272\n",
      "  1.9790955   2.519989   -0.4915161  -2.6109314  -3.1549683  -3.0680542 ]\n"
     ]
    }
   ],
   "source": [
    "print(test[365+0:365+90,50,50].values)"
   ]
  },
  {
   "cell_type": "code",
   "execution_count": 47,
   "metadata": {},
   "outputs": [
    {
     "name": "stdout",
     "output_type": "stream",
     "text": [
      "[-1.8249817   3.035553   -1.1166077  -0.03173828 -3.009735   -3.503418\n",
      " -1.1030273  -0.2036438  -1.4895935   1.0993347  -0.74050903  1.7750244\n",
      " -2.2301636   1.0817261   0.2434082   0.9873047   2.21286     2.2216797\n",
      "  0.07617188 -3.75943    -1.994751    0.70440674 -2.565155   -0.4109192\n",
      " -2.0959778  -1.0176086   1.4555969  -1.6490173  -1.1570435  -2.0870361\n",
      " -0.19515991  1.7833252   0.56689453  1.6804504   1.1191101  -1.9536438\n",
      " -1.5810547   1.1078186   1.5927429   0.8335571  -3.3855286  -0.6168518\n",
      "  2.0568542   0.90701294  1.6783447  -2.9855347  -3.2550964  -2.0435486\n",
      "  0.54907227  1.1983337  -0.05334473  0.13656616 -2.3252258  -2.7616882\n",
      "  0.1529541   0.23565674  0.30715942 -0.92626953  1.1850281          nan\n",
      "         nan         nan         nan         nan         nan         nan\n",
      "         nan         nan         nan         nan         nan         nan\n",
      "         nan         nan         nan         nan         nan         nan\n",
      "         nan         nan         nan         nan         nan         nan\n",
      "         nan         nan         nan         nan         nan         nan\n",
      "         nan         nan         nan         nan         nan         nan\n",
      "         nan         nan         nan         nan         nan         nan\n",
      "         nan         nan         nan         nan         nan         nan\n",
      "         nan         nan         nan         nan         nan         nan\n",
      "         nan         nan         nan         nan         nan         nan\n",
      "         nan         nan         nan         nan         nan         nan\n",
      "         nan         nan         nan         nan         nan         nan\n",
      "         nan         nan         nan         nan         nan         nan\n",
      "         nan         nan         nan         nan         nan         nan\n",
      "         nan         nan         nan         nan         nan         nan\n",
      "         nan         nan         nan         nan         nan         nan\n",
      "         nan         nan         nan         nan         nan         nan\n",
      "         nan         nan         nan         nan         nan         nan\n",
      "         nan         nan         nan         nan         nan         nan\n",
      "         nan         nan         nan         nan         nan         nan\n",
      "         nan         nan         nan         nan         nan         nan\n",
      "         nan         nan         nan         nan         nan         nan\n",
      "         nan         nan         nan         nan         nan         nan\n",
      "         nan         nan         nan         nan         nan         nan\n",
      "         nan         nan         nan         nan         nan         nan\n",
      "         nan         nan         nan         nan         nan         nan\n",
      "         nan         nan         nan         nan         nan         nan\n",
      "         nan         nan         nan         nan         nan         nan\n",
      "         nan         nan         nan         nan         nan         nan\n",
      "         nan         nan         nan         nan         nan         nan\n",
      "         nan         nan         nan         nan         nan         nan\n",
      "         nan         nan         nan         nan         nan         nan\n",
      "         nan         nan         nan         nan         nan         nan\n",
      "         nan         nan         nan         nan         nan         nan\n",
      "         nan         nan         nan         nan         nan         nan\n",
      "         nan         nan         nan         nan         nan         nan\n",
      "         nan         nan         nan         nan         nan         nan\n",
      "         nan         nan         nan         nan         nan         nan\n",
      "         nan         nan         nan         nan         nan         nan\n",
      "         nan         nan         nan         nan         nan         nan\n",
      "         nan         nan         nan         nan         nan         nan\n",
      "         nan         nan         nan         nan         nan         nan\n",
      "         nan         nan         nan         nan         nan         nan\n",
      "         nan         nan         nan         nan         nan         nan\n",
      "         nan         nan         nan         nan         nan         nan\n",
      "         nan         nan         nan         nan -0.15264893 -0.1505127\n",
      "  0.18945312  0.4362793  -1.         -2.2546082  -0.76474    -0.40542603\n",
      " -0.26776123 -0.44799805 -2.055542    0.42910767  1.54599     0.10675049\n",
      " -0.0539856   0.7793884   0.32989502  0.82724     2.6896973  -1.5313721\n",
      " -0.60009766 -1.2423706  -0.5270386   0.02664185  1.980957   -1.0264893\n",
      " -0.22009277  0.26437378  1.1861267   1.3225708   0.3209839  -1.976471\n",
      "  0.08929443  1.907959    1.0290222   0.57995605 -0.9366455   0.59902954\n",
      " -2.841217   -1.6538391  -0.27633667 -1.3638     -0.38079834  1.699707\n",
      "  1.9898682   1.1806641  -2.2598877  -1.7908325   1.2299194  -1.5084534\n",
      " -1.0809326  -0.29421997  1.3473206   2.8972168   1.2390747  -2.0095825\n",
      " -1.9260559   1.212738   -0.11404419 -0.7204895   0.5921936   1.5239563\n",
      "  2.1125793   2.2996826  -1.0649414  -4.3254395  -4.1418457  -3.4353943\n",
      " -2.4819336  -0.06237793  1.5430908   1.2096558  -1.135376    0.05328369\n",
      " -1.7395325  -0.90789795  0.53201294  2.4835205   0.5664673  -2.4263306\n",
      " -0.06790161  0.735199    1.010376    0.52407837  2.5548096   0.02893066\n",
      "  0.93359375 -0.89242554  1.3370056  -0.3288269          nan         nan\n",
      "         nan         nan         nan         nan         nan         nan\n",
      "         nan         nan         nan         nan         nan         nan\n",
      "         nan         nan         nan         nan         nan         nan\n",
      "         nan         nan         nan         nan         nan         nan\n",
      "         nan         nan         nan         nan         nan         nan\n",
      "         nan         nan         nan         nan         nan         nan\n",
      "         nan         nan         nan         nan         nan         nan\n",
      "         nan         nan         nan         nan         nan         nan\n",
      "         nan         nan         nan         nan         nan         nan\n",
      "         nan         nan         nan         nan         nan         nan\n",
      "         nan         nan         nan         nan         nan         nan\n",
      "         nan         nan         nan         nan         nan         nan\n",
      "         nan         nan         nan         nan         nan         nan\n",
      "         nan         nan         nan         nan         nan         nan\n",
      "         nan         nan         nan         nan         nan         nan\n",
      "         nan         nan         nan         nan         nan         nan\n",
      "         nan         nan         nan         nan         nan         nan\n",
      "         nan         nan         nan         nan         nan         nan\n",
      "         nan         nan         nan         nan         nan         nan\n",
      "         nan         nan         nan         nan         nan         nan\n",
      "         nan         nan         nan         nan         nan         nan\n",
      "         nan         nan         nan         nan         nan         nan\n",
      "         nan         nan         nan         nan         nan         nan\n",
      "         nan         nan         nan         nan         nan         nan\n",
      "         nan         nan         nan         nan         nan         nan\n",
      "         nan         nan         nan         nan         nan         nan\n",
      "         nan         nan         nan         nan         nan         nan\n",
      "         nan         nan         nan         nan         nan         nan\n",
      "         nan         nan         nan         nan         nan         nan\n",
      "         nan         nan         nan         nan         nan         nan\n",
      "         nan         nan         nan         nan         nan         nan\n",
      "         nan         nan         nan         nan         nan         nan\n",
      "         nan         nan         nan         nan         nan         nan\n",
      "         nan         nan         nan         nan         nan         nan\n",
      "         nan         nan         nan         nan         nan         nan\n",
      "         nan         nan         nan         nan         nan         nan\n",
      "         nan         nan         nan         nan         nan         nan\n",
      "         nan         nan         nan         nan         nan         nan\n",
      "         nan         nan         nan         nan         nan         nan\n",
      "         nan         nan         nan         nan         nan         nan\n",
      "         nan         nan         nan         nan         nan         nan\n",
      "         nan         nan         nan         nan         nan         nan\n",
      "         nan         nan         nan         nan         nan         nan\n",
      "         nan         nan         nan         nan         nan         nan\n",
      "         nan         nan         nan         nan         nan         nan\n",
      "         nan         nan         nan  2.2358093 ]\n"
     ]
    }
   ],
   "source": [
    "print(anoms_season[0:700,50,50].values)"
   ]
  },
  {
   "cell_type": "code",
   "execution_count": 27,
   "metadata": {},
   "outputs": [
    {
     "name": "stdout",
     "output_type": "stream",
     "text": [
      "<xarray.DataArray 'year' (time: 13140)>\n",
      "array([1979, 1979, 1979, ..., 2014, 2014, 2014])\n",
      "Coordinates:\n",
      "  * time       (time) object 1979-01-01 00:00:00 ... 2014-12-31 00:00:00\n",
      "    dayofyear  (time) int64 1 2 3 4 5 6 7 8 ... 358 359 360 361 362 363 364 365\n"
     ]
    }
   ],
   "source": [
    "print(anoms['time.year'])"
   ]
  },
  {
   "cell_type": "code",
   "execution_count": 29,
   "metadata": {},
   "outputs": [
    {
     "name": "stdout",
     "output_type": "stream",
     "text": [
      "<xarray.DataArray (time: 13140, lat: 192, lon: 288)>\n",
      "dask.array<getitem, shape=(13140, 192, 288), dtype=float32, chunksize=(1, 192, 288), chunktype=numpy.ndarray>\n",
      "Coordinates:\n",
      "  * time       (time) object 1979-01-01 00:00:00 ... 2014-12-31 00:00:00\n",
      "  * lat        (lat) float64 -90.0 -89.06 -88.12 -87.17 ... 88.12 89.06 90.0\n",
      "  * lon        (lon) float64 0.0 1.25 2.5 3.75 5.0 ... 355.0 356.2 357.5 358.8\n",
      "    dayofyear  (time) int64 1 2 3 4 5 6 7 8 ... 358 359 360 361 362 363 364 365\n"
     ]
    }
   ],
   "source": [
    "print(anoms)"
   ]
  },
  {
   "cell_type": "code",
   "execution_count": 39,
   "metadata": {},
   "outputs": [
    {
     "name": "stdout",
     "output_type": "stream",
     "text": [
      "<xarray.DataArray 'year' (time: 13140)>\n",
      "array([1979, 1979, 1979, ..., 2014, 2014, 2014])\n",
      "Coordinates:\n",
      "  * time       (time) object 1979-01-01 00:00:00 ... 2014-12-31 00:00:00\n",
      "    dayofyear  (time) int64 1 2 3 4 5 6 7 8 ... 358 359 360 361 362 363 364 365\n"
     ]
    }
   ],
   "source": [
    "print(anoms['time.year'])"
   ]
  },
  {
   "cell_type": "code",
   "execution_count": 41,
   "metadata": {},
   "outputs": [
    {
     "name": "stdout",
     "output_type": "stream",
     "text": [
      "<xarray.DataArray 'year' (time: 13140)>\n",
      "array([1979, 1979, 1979, ..., 2014, 2014, 2014])\n",
      "Coordinates:\n",
      "  * time       (time) object 1979-01-01 00:00:00 ... 2014-12-31 00:00:00\n",
      "    dayofyear  (time) int64 1 2 3 4 5 6 7 8 ... 358 359 360 361 362 363 364 365\n",
      "1979\n",
      "2014\n"
     ]
    }
   ],
   "source": [
    "cal.group_season_daily(anoms, 'DJF')"
   ]
  },
  {
   "cell_type": "code",
   "execution_count": 15,
   "metadata": {},
   "outputs": [
    {
     "name": "stdout",
     "output_type": "stream",
     "text": [
      "DataArrayGroupBy, grouped over 'year' \n",
      "36 groups with labels 1979, 1980, 1981, ..., 2013, 2014.\n"
     ]
    }
   ],
   "source": [
    "print(test)"
   ]
  },
  {
   "cell_type": "code",
   "execution_count": null,
   "metadata": {},
   "outputs": [],
   "source": [
    "test = anoms_season.dropna(\"time\", how=\"all\")"
   ]
  },
  {
   "cell_type": "code",
   "execution_count": 8,
   "metadata": {},
   "outputs": [
    {
     "ename": "SyntaxError",
     "evalue": "can't assign to function call (<ipython-input-8-ffb91a1ed8c9>, line 2)",
     "output_type": "error",
     "traceback": [
      "\u001b[0;36m  File \u001b[0;32m\"<ipython-input-8-ffb91a1ed8c9>\"\u001b[0;36m, line \u001b[0;32m2\u001b[0m\n\u001b[0;31m    test2.isel(time=[0,60]) = nan\u001b[0m\n\u001b[0m                                 ^\u001b[0m\n\u001b[0;31mSyntaxError\u001b[0m\u001b[0;31m:\u001b[0m can't assign to function call\n"
     ]
    }
   ],
   "source": [
    "test2 = anoms_season\n",
    "test2.isel(time=[0,60]) = nan"
   ]
  },
  {
   "cell_type": "code",
   "execution_count": 4,
   "metadata": {},
   "outputs": [
    {
     "name": "stdout",
     "output_type": "stream",
     "text": [
      "[-1.8249817   3.035553   -1.1166077  -0.03173828 -3.009735   -3.503418\n",
      " -1.1030273  -0.2036438  -1.4895935   1.0993347  -0.74050903  1.7750244\n",
      " -2.2301636   1.0817261   0.2434082   0.9873047   2.21286     2.2216797\n",
      "  0.07617188 -3.75943    -1.994751    0.70440674 -2.565155   -0.4109192\n",
      " -2.0959778  -1.0176086   1.4555969  -1.6490173  -1.1570435  -2.0870361\n",
      " -0.19515991  1.7833252   0.56689453  1.6804504   1.1191101  -1.9536438\n",
      " -1.5810547   1.1078186   1.5927429   0.8335571  -3.3855286  -0.6168518\n",
      "  2.0568542   0.90701294  1.6783447  -2.9855347  -3.2550964  -2.0435486\n",
      "  0.54907227  1.1983337  -0.05334473  0.13656616 -2.3252258  -2.7616882\n",
      "  0.1529541   0.23565674  0.30715942 -0.92626953  1.1850281          nan\n",
      "         nan         nan         nan         nan         nan         nan\n",
      "         nan         nan         nan         nan         nan         nan\n",
      "         nan         nan         nan         nan         nan         nan\n",
      "         nan         nan         nan         nan         nan         nan\n",
      "         nan         nan         nan         nan         nan         nan\n",
      "         nan         nan         nan         nan         nan         nan\n",
      "         nan         nan         nan         nan         nan         nan\n",
      "         nan         nan         nan         nan         nan         nan\n",
      "         nan         nan         nan         nan         nan         nan\n",
      "         nan         nan         nan         nan         nan         nan\n",
      "         nan         nan         nan         nan         nan         nan\n",
      "         nan         nan         nan         nan         nan         nan\n",
      "         nan         nan         nan         nan         nan         nan\n",
      "         nan         nan         nan         nan         nan         nan\n",
      "         nan         nan         nan         nan         nan         nan\n",
      "         nan         nan         nan         nan         nan         nan\n",
      "         nan         nan         nan         nan         nan         nan\n",
      "         nan         nan         nan         nan         nan         nan\n",
      "         nan         nan         nan         nan         nan         nan\n",
      "         nan         nan         nan         nan         nan         nan\n",
      "         nan         nan         nan         nan         nan         nan\n",
      "         nan         nan         nan         nan         nan         nan\n",
      "         nan         nan         nan         nan         nan         nan\n",
      "         nan         nan         nan         nan         nan         nan\n",
      "         nan         nan         nan         nan         nan         nan\n",
      "         nan         nan         nan         nan         nan         nan\n",
      "         nan         nan         nan         nan         nan         nan\n",
      "         nan         nan         nan         nan         nan         nan\n",
      "         nan         nan         nan         nan         nan         nan\n",
      "         nan         nan         nan         nan         nan         nan\n",
      "         nan         nan         nan         nan         nan         nan\n",
      "         nan         nan         nan         nan         nan         nan\n",
      "         nan         nan         nan         nan         nan         nan\n",
      "         nan         nan         nan         nan         nan         nan\n",
      "         nan         nan         nan         nan         nan         nan\n",
      "         nan         nan         nan         nan         nan         nan\n",
      "         nan         nan         nan         nan         nan         nan\n",
      "         nan         nan         nan         nan         nan         nan\n",
      "         nan         nan         nan         nan         nan         nan\n",
      "         nan         nan         nan         nan         nan         nan\n",
      "         nan         nan         nan         nan         nan         nan\n",
      "         nan         nan         nan         nan         nan         nan\n",
      "         nan         nan         nan         nan         nan         nan\n",
      "         nan         nan         nan         nan         nan         nan\n",
      "         nan         nan         nan         nan         nan         nan\n",
      "         nan         nan         nan         nan -0.15264893 -0.1505127\n",
      "  0.18945312  0.4362793  -1.         -2.2546082  -0.76474    -0.40542603\n",
      " -0.26776123 -0.44799805 -2.055542    0.42910767  1.54599     0.10675049\n",
      " -0.0539856   0.7793884   0.32989502  0.82724     2.6896973  -1.5313721\n",
      " -0.60009766 -1.2423706  -0.5270386   0.02664185  1.980957   -1.0264893\n",
      " -0.22009277  0.26437378  1.1861267   1.3225708   0.3209839  -1.976471\n",
      "  0.08929443  1.907959    1.0290222   0.57995605 -0.9366455   0.59902954\n",
      " -2.841217   -1.6538391  -0.27633667 -1.3638     -0.38079834  1.699707\n",
      "  1.9898682   1.1806641  -2.2598877  -1.7908325   1.2299194  -1.5084534\n",
      " -1.0809326  -0.29421997  1.3473206   2.8972168   1.2390747  -2.0095825\n",
      " -1.9260559   1.212738   -0.11404419 -0.7204895   0.5921936   1.5239563\n",
      "  2.1125793   2.2996826  -1.0649414  -4.3254395  -4.1418457  -3.4353943\n",
      " -2.4819336  -0.06237793  1.5430908   1.2096558  -1.135376    0.05328369\n",
      " -1.7395325  -0.90789795  0.53201294  2.4835205   0.5664673  -2.4263306\n",
      " -0.06790161  0.735199    1.010376    0.52407837  2.5548096   0.02893066\n",
      "  0.93359375 -0.89242554  1.3370056  -0.3288269          nan         nan\n",
      "         nan         nan         nan         nan         nan         nan\n",
      "         nan         nan         nan         nan         nan         nan\n",
      "         nan         nan         nan         nan         nan         nan\n",
      "         nan         nan         nan         nan         nan         nan\n",
      "         nan         nan         nan         nan         nan         nan\n",
      "         nan         nan         nan         nan         nan         nan\n",
      "         nan         nan         nan         nan         nan         nan\n",
      "         nan         nan         nan         nan         nan         nan\n",
      "         nan         nan         nan         nan         nan         nan\n",
      "         nan         nan         nan         nan         nan         nan\n",
      "         nan         nan         nan         nan         nan         nan\n",
      "         nan         nan         nan         nan         nan         nan\n",
      "         nan         nan         nan         nan         nan         nan\n",
      "         nan         nan         nan         nan         nan         nan\n",
      "         nan         nan         nan         nan         nan         nan\n",
      "         nan         nan         nan         nan         nan         nan\n",
      "         nan         nan         nan         nan         nan         nan\n",
      "         nan         nan         nan         nan         nan         nan\n",
      "         nan         nan         nan         nan         nan         nan\n",
      "         nan         nan         nan         nan         nan         nan\n",
      "         nan         nan         nan         nan         nan         nan\n",
      "         nan         nan         nan         nan         nan         nan\n",
      "         nan         nan         nan         nan         nan         nan\n",
      "         nan         nan         nan         nan         nan         nan\n",
      "         nan         nan         nan         nan         nan         nan\n",
      "         nan         nan         nan         nan         nan         nan\n",
      "         nan         nan         nan         nan         nan         nan\n",
      "         nan         nan         nan         nan         nan         nan\n",
      "         nan         nan         nan         nan         nan         nan\n",
      "         nan         nan         nan         nan         nan         nan\n",
      "         nan         nan         nan         nan         nan         nan\n",
      "         nan         nan         nan         nan         nan         nan\n",
      "         nan         nan         nan         nan         nan         nan\n",
      "         nan         nan         nan         nan         nan         nan\n",
      "         nan         nan         nan         nan         nan         nan\n",
      "         nan         nan         nan         nan         nan         nan\n",
      "         nan         nan         nan         nan         nan         nan\n",
      "         nan         nan         nan         nan         nan         nan\n",
      "         nan         nan         nan         nan         nan         nan\n",
      "         nan         nan         nan         nan         nan         nan\n",
      "         nan         nan         nan         nan         nan         nan\n",
      "         nan         nan         nan         nan         nan         nan\n",
      "         nan         nan         nan         nan         nan         nan\n",
      "         nan         nan         nan         nan         nan         nan\n",
      "         nan         nan         nan         nan         nan         nan\n",
      "         nan         nan         nan  2.2358093 ]\n"
     ]
    }
   ],
   "source": [
    "print(anoms_season[0:700,50,50].values)"
   ]
  },
  {
   "cell_type": "code",
   "execution_count": 76,
   "metadata": {},
   "outputs": [],
   "source": [
    "seasmean = djfdat.groupby('time.year').mean('time')"
   ]
  },
  {
   "cell_type": "code",
   "execution_count": 79,
   "metadata": {},
   "outputs": [
    {
     "name": "stdout",
     "output_type": "stream",
     "text": [
      "[-0.24838427 -0.11738044  0.06033732  0.33237067 -0.12522481  0.26598647\n",
      " -0.21393941 -0.1843967   0.41117588 -0.30231458 -0.4554457  -0.06632826\n",
      " -0.1436259  -0.01939223 -0.01002231 -0.22827114 -0.32964137 -0.24783088\n",
      "  1.0992985   0.27138332  0.2363495   0.66154104  1.0387108  -0.05625577\n",
      " -0.20810784 -0.3701633  -0.41548598 -0.04619208  0.47583923 -0.24318203\n",
      " -0.78652036 -0.19282667  0.45018142  0.0677653  -0.34996778 -0.36672565]\n"
     ]
    }
   ],
   "source": [
    "print(seasmean[:,50,50].values)"
   ]
  },
  {
   "cell_type": "code",
   "execution_count": 61,
   "metadata": {},
   "outputs": [
    {
     "data": {
      "text/plain": [
       "[<matplotlib.lines.Line2D at 0x7f91ed59e358>]"
      ]
     },
     "execution_count": 61,
     "metadata": {},
     "output_type": "execute_result"
    },
    {
     "data": {
      "image/png": "[encoded data removed]",
      "text/plain": [
       "<Figure size 432x288 with 1 Axes>"
      ]
     },
     "metadata": {
      "needs_background": "light"
     },
     "output_type": "display_data"
    }
   ],
   "source": [
    "plt.plot(datseason[:,50,50])\n",
    "plt.plot(trefht4harm[:,50,50])"
   ]
  },
  {
   "cell_type": "code",
   "execution_count": 60,
   "metadata": {},
   "outputs": [
    {
     "name": "stdout",
     "output_type": "stream",
     "text": [
      "<xarray.DataArray 'TREFHT' (dayofyear: 365, lat: 192, lon: 288)>\n",
      "dask.array<stack, shape=(365, 192, 288), dtype=float32, chunksize=(1, 192, 288), chunktype=numpy.ndarray>\n",
      "Coordinates:\n",
      "  * lat        (lat) float64 -90.0 -89.06 -88.12 -87.17 ... 88.12 89.06 90.0\n",
      "  * lon        (lon) float64 0.0 1.25 2.5 3.75 5.0 ... 355.0 356.2 357.5 358.8\n",
      "  * dayofyear  (dayofyear) int64 1 2 3 4 5 6 7 8 ... 359 360 361 362 363 364 365\n"
     ]
    }
   ],
   "source": [
    "print(datseason)"
   ]
  },
  {
   "cell_type": "code",
   "execution_count": null,
   "metadata": {},
   "outputs": [],
   "source": []
  },
  {
   "cell_type": "code",
   "execution_count": null,
   "metadata": {},
   "outputs": [],
   "source": []
  }
 ],
 "metadata": {
  "kernelspec": {
   "display_name": "Python [conda env:ecpaperenv]",
   "language": "python",
   "name": "conda-env-ecpaperenv-py"
  },
  "language_info": {
   "codemirror_mode": {
    "name": "ipython",
    "version": 3
   },
   "file_extension": ".py",
   "mimetype": "text/x-python",
   "name": "python",
   "nbconvert_exporter": "python",
   "pygments_lexer": "ipython3",
   "version": "3.6.11"
  }
 },
 "nbformat": 4,
 "nbformat_minor": 4
}
