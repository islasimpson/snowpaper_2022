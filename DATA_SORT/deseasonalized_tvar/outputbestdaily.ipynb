{
 "cells": [
  {
   "cell_type": "code",
   "execution_count": 25,
   "metadata": {},
   "outputs": [
    {
     "data": {
      "text/plain": [
       "<module 'CASutils.calendar_utils' from '/home/islas/python/CASanalysis/CASutils/calendar_utils.py'>"
      ]
     },
     "execution_count": 25,
     "metadata": {},
     "output_type": "execute_result"
    }
   ],
   "source": [
    "import importlib\n",
    "import xarray as xr\n",
    "import numpy as np\n",
    "import matplotlib.pyplot as plt\n",
    "from CASutils import filter_utils as filt\n",
    "from CASutils import readdata_utils as read\n",
    "from CASutils import calendar_utils as cal\n",
    "import sys\n",
    "from datetime import timedelta, datetime\n",
    "import pandas as pd\n",
    "\n",
    "importlib.reload(filt)\n",
    "importlib.reload(read)\n",
    "importlib.reload(cal)"
   ]
  },
  {
   "cell_type": "code",
   "execution_count": 2,
   "metadata": {},
   "outputs": [],
   "source": [
    "ystart=1979 ; yend=2014 ; nyears=yend-ystart+1"
   ]
  },
  {
   "cell_type": "code",
   "execution_count": 3,
   "metadata": {},
   "outputs": [],
   "source": [
    "dat1970 = xr.open_dataset(\"/project/haggis/obs/BEST_daily/Complete_TAVG_Daily_LatLong1_1970.nc\")\n",
    "dat1980 = xr.open_dataset(\"/project/haggis/obs/BEST_daily/Complete_TAVG_Daily_LatLong1_1980.nc\")\n",
    "dat1990 = xr.open_dataset(\"/project/haggis/obs/BEST_daily/Complete_TAVG_Daily_LatLong1_1990.nc\")\n",
    "dat2000 = xr.open_dataset(\"/project/haggis/obs/BEST_daily/Complete_TAVG_Daily_LatLong1_2000.nc\")\n",
    "dat2010 = xr.open_dataset(\"/project/haggis/obs/BEST_daily/Complete_TAVG_Daily_LatLong1_2010.nc\")"
   ]
  },
  {
   "cell_type": "code",
   "execution_count": 4,
   "metadata": {},
   "outputs": [],
   "source": [
    "# convert the date_number into a useful time axis\n",
    "time = cal.fracofyear2date(np.array(dat1970.date_number))\n",
    "dat1970 = dat1970.assign_coords(time=time)\n",
    "\n",
    "time = cal.fracofyear2date(np.array(dat1980.date_number))\n",
    "dat1980 = dat1980.assign_coords(time=time)\n",
    "\n",
    "time = cal.fracofyear2date(np.array(dat1990.date_number))\n",
    "dat1990 = dat1990.assign_coords(time=time)\n",
    "\n",
    "time = cal.fracofyear2date(np.array(dat2000.date_number))\n",
    "dat2000 = dat2000.assign_coords(time=time)\n",
    "\n",
    "time = cal.fracofyear2date(np.array(dat2010.date_number))\n",
    "dat2010 = dat2010.assign_coords(time=time)"
   ]
  },
  {
   "cell_type": "code",
   "execution_count": 5,
   "metadata": {},
   "outputs": [],
   "source": [
    "# concatenate\n",
    "best = xr.concat([dat1970, dat1980, dat1990, dat2000, dat2010], \"time\", data_vars=[\"temperature\"])"
   ]
  },
  {
   "cell_type": "code",
   "execution_count": 6,
   "metadata": {},
   "outputs": [],
   "source": [
    "# remove Feb 29ths\n",
    "best = best.sel(time=~((best.time.dt.month==2) & (best.time.dt.day == 29)))\n",
    "best.time.encoding['calendar'] = \"noleap\""
   ]
  },
  {
   "cell_type": "code",
   "execution_count": 7,
   "metadata": {},
   "outputs": [],
   "source": [
    "# grab out 1979-2014\n",
    "best = best.sel(time=slice(\"1979-01-01\",\"2014-12-31\"))"
   ]
  },
  {
   "cell_type": "code",
   "execution_count": 9,
   "metadata": {},
   "outputs": [],
   "source": [
    "# repeat the climatology, assign appropriate coords and add to anomalies\n",
    "#clim = np.repeat( np.array(best.climatology), nyears, axis=0)\n",
    "clim = np.tile(best.climatology, (nyears, 1,1))\n",
    "clim_xr = xr.DataArray(clim, dims = best.temperature.dims, coords = best.temperature.coords)\n",
    "best['temperature'] = best['temperature']+clim_xr"
   ]
  },
  {
   "cell_type": "code",
   "execution_count": 26,
   "metadata": {},
   "outputs": [
    {
     "name": "stdout",
     "output_type": "stream",
     "text": [
      "you got nans\n"
     ]
    }
   ],
   "source": [
    "# making day string for grouping since we have removed leap years\n",
    "daystr = xr.DataArray(best.indexes['time'].strftime('%m-%d'), coords = best.time.coords, name=\"daystr\")\n",
    "bestseason = best.temperature.groupby(daystr).mean('time')\n",
    "trefht4harm = filt.calc_season_nharm(bestseason, 4, dimtime=0)\n",
    "anoms = best.temperature.groupby(daystr)-trefht4harm\n",
    "djfanoms = cal.group_season_daily(anoms,'DJF')\n",
    "djfmean = djfanoms.mean('day')\n",
    "djfanoms = djfanoms - djfmean"
   ]
  },
  {
   "cell_type": "code",
   "execution_count": 40,
   "metadata": {},
   "outputs": [
    {
     "name": "stderr",
     "output_type": "stream",
     "text": [
      "/project/cas/islas/miniconda3/envs/ecpaperenv/lib/python3.6/site-packages/xarray/core/nputils.py:227: RuntimeWarning: Degrees of freedom <= 0 for slice.\n",
      "  result = getattr(npmodule, name)(values, axis=axis, **kwargs)\n"
     ]
    }
   ],
   "source": [
    "bestvar = np.var(djfanoms, axis=(0,1))\n",
    "bestvar = bestvar.rename('bestvar')"
   ]
  },
  {
   "cell_type": "code",
   "execution_count": 41,
   "metadata": {},
   "outputs": [],
   "source": [
    "bestvar.to_netcdf(path=\"/project/cas/islas/savs/python/snowpaper/DATA_SORT/deseasonalized_tvar/TVAR_BEST.nc\")"
   ]
  },
  {
   "cell_type": "code",
   "execution_count": null,
   "metadata": {},
   "outputs": [],
   "source": []
  }
 ],
 "metadata": {
  "kernelspec": {
   "display_name": "Python [conda env:ecpaperenv]",
   "language": "python",
   "name": "conda-env-ecpaperenv-py"
  },
  "language_info": {
   "codemirror_mode": {
    "name": "ipython",
    "version": 3
   },
   "file_extension": ".py",
   "mimetype": "text/x-python",
   "name": "python",
   "nbconvert_exporter": "python",
   "pygments_lexer": "ipython3",
   "version": "3.6.11"
  }
 },
 "nbformat": 4,
 "nbformat_minor": 4
}
