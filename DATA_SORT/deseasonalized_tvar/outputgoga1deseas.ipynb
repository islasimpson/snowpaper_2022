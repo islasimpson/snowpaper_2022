{
 "cells": [
  {
   "cell_type": "code",
   "execution_count": 1,
   "metadata": {},
   "outputs": [
    {
     "data": {
      "text/plain": [
       "<module 'CASutils.calendar_utils' from '/home/islas/python/CASanalysis/CASutils/calendar_utils.py'>"
      ]
     },
     "execution_count": 1,
     "metadata": {},
     "output_type": "execute_result"
    }
   ],
   "source": [
    "import importlib\n",
    "import xarray as xr\n",
    "import numpy as np\n",
    "import pandas as pd\n",
    "import matplotlib.pyplot as plt\n",
    "import netCDF4\n",
    "from CASutils import filter_utils as filt\n",
    "from CASutils import readdata_utils as read\n",
    "from CASutils import calendar_utils as cal\n",
    "import sys\n",
    "from math import nan as nan\n",
    "import datetime\n",
    "\n",
    "importlib.reload(filt)\n",
    "importlib.reload(read)\n",
    "importlib.reload(cal)"
   ]
  },
  {
   "cell_type": "markdown",
   "metadata": {},
   "source": [
    "GOGA1"
   ]
  },
  {
   "cell_type": "code",
   "execution_count": 2,
   "metadata": {},
   "outputs": [
    {
     "name": "stdout",
     "output_type": "stream",
     "text": [
      "01\n",
      "warning, you're reading CESM data but there's no time_bnds\n",
      "make sure you're reading in what you're expecting to\n",
      "nyears=35.0\n",
      "nyears=36.0\n",
      "02\n",
      "warning, you're reading CESM data but there's no time_bnds\n",
      "make sure you're reading in what you're expecting to\n",
      "nyears=35.0\n",
      "nyears=36.0\n",
      "03\n",
      "warning, you're reading CESM data but there's no time_bnds\n",
      "make sure you're reading in what you're expecting to\n",
      "nyears=35.0\n",
      "nyears=36.0\n",
      "04\n",
      "warning, you're reading CESM data but there's no time_bnds\n",
      "make sure you're reading in what you're expecting to\n",
      "nyears=35.0\n",
      "nyears=36.0\n",
      "05\n",
      "warning, you're reading CESM data but there's no time_bnds\n",
      "make sure you're reading in what you're expecting to\n",
      "nyears=35.0\n",
      "nyears=36.0\n",
      "06\n",
      "warning, you're reading CESM data but there's no time_bnds\n",
      "make sure you're reading in what you're expecting to\n",
      "nyears=35.0\n",
      "nyears=36.0\n",
      "07\n",
      "warning, you're reading CESM data but there's no time_bnds\n",
      "make sure you're reading in what you're expecting to\n",
      "nyears=35.0\n",
      "nyears=36.0\n",
      "08\n",
      "warning, you're reading CESM data but there's no time_bnds\n",
      "make sure you're reading in what you're expecting to\n",
      "nyears=35.0\n",
      "nyears=36.0\n",
      "09\n",
      "warning, you're reading CESM data but there's no time_bnds\n",
      "make sure you're reading in what you're expecting to\n",
      "nyears=35.0\n",
      "nyears=36.0\n",
      "10\n",
      "warning, you're reading CESM data but there's no time_bnds\n",
      "make sure you're reading in what you're expecting to\n",
      "nyears=35.0\n",
      "nyears=36.0\n"
     ]
    }
   ],
   "source": [
    "path=\"/project/cas02/islas/GOGA/day/TREFHT/\"\n",
    "nmems=10 ; mems = np.arange(1,nmems+1,1)\n",
    "for imem in range(0,nmems,1):\n",
    "    memstr=str(imem+1).zfill(2)\n",
    "    print(memstr)\n",
    "    fpath=path+\"ens\"+memstr+\"/*\"\n",
    "    dat = read.read_sfc_cesm(fpath,\"1979-01\", \"2014-12\")\n",
    "    datseason = dat.TREFHT.groupby('time.dayofyear').mean('time')\n",
    "    trefht4harm = filt.calc_season_nharm(datseason, 4, dimtime=0)\n",
    "    anoms = dat.TREFHT.groupby('time.dayofyear') - trefht4harm\n",
    "    djfanoms = cal.group_season_daily(anoms, 'DJF')\n",
    "    djfmean = djfanoms.mean('day')\n",
    "    djfanoms = djfanoms - djfmean\n",
    "    \n",
    "    jjaanoms = cal.group_season_daily(anoms,'JJA')\n",
    "    jjamean = jjaanoms.mean('day')\n",
    "    jjaanoms = jjaanoms - jjamean\n",
    "    \n",
    "    if (imem == 0):\n",
    "        goga1var_djf = xr.DataArray(np.zeros([nmems, anoms.lat.size, anoms.lon.size]), coords=[mems, anoms.lat, anoms.lon], \n",
    "                                         dims = ['Member','lat','lon'], name='goga1var_djf')\n",
    "        goga1var_jja = xr.DataArray(np.zeros([nmems, anoms.lat.size, anoms.lon.size]), coords=[mems, anoms.lat, anoms.lon],\n",
    "                                   dims = ['Member','lat','lon'], name='goga1var_jja')\n",
    "    \n",
    "    goga1var_djf[imem,:,:] = np.var(np.array(djfanoms), axis=(0,1))\n",
    "    goga1var_jja[imem,:,:] = np.var(np.array(jjaanoms), axis=(0,1))"
   ]
  },
  {
   "cell_type": "code",
   "execution_count": 3,
   "metadata": {},
   "outputs": [],
   "source": [
    "goga1var_djf.to_netcdf(path=\"/project/cas/islas/python_savs/snowpaper/DATA_SORT/deseasonalized_tvar/TVAR_GOGA1.nc\")\n",
    "goga1var_jja.to_netcdf(path=\"/project/cas/islas/python_savs/snowpaper/DATA_SORT/deseasonalized_tvar/TVAR_GOGA1.nc\", mode=\"a\")"
   ]
  },
  {
   "cell_type": "code",
   "execution_count": null,
   "metadata": {},
   "outputs": [],
   "source": []
  }
 ],
 "metadata": {
  "kernelspec": {
   "display_name": "Python [conda env:ecpaperenv]",
   "language": "python",
   "name": "conda-env-ecpaperenv-py"
  },
  "language_info": {
   "codemirror_mode": {
    "name": "ipython",
    "version": 3
   },
   "file_extension": ".py",
   "mimetype": "text/x-python",
   "name": "python",
   "nbconvert_exporter": "python",
   "pygments_lexer": "ipython3",
   "version": "3.6.11"
  }
 },
 "nbformat": 4,
 "nbformat_minor": 4
}
