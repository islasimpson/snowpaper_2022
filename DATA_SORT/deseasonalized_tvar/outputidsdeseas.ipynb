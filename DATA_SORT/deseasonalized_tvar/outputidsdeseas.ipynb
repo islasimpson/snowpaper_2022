{
 "cells": [
  {
   "cell_type": "code",
   "execution_count": 2,
   "metadata": {},
   "outputs": [
    {
     "data": {
      "text/plain": [
       "<module 'CASutils.calendar_utils' from '/home/islas/python/CASanalysis/CASutils/calendar_utils.py'>"
      ]
     },
     "execution_count": 2,
     "metadata": {},
     "output_type": "execute_result"
    }
   ],
   "source": [
    "import importlib\n",
    "import xarray as xr\n",
    "import numpy as np\n",
    "import pandas as pd\n",
    "from CASutils import filter_utils as filt\n",
    "from CASutils import calendar_utils as cal\n",
    "import sys\n",
    "\n",
    "importlib.reload(filt)\n",
    "importlib.reload(cal)"
   ]
  },
  {
   "cell_type": "code",
   "execution_count": 3,
   "metadata": {},
   "outputs": [],
   "source": [
    "data = xr.open_dataset(\"/project/cas/islas/savs/python/ISD/T2M_ISD_1979_2014.nc\")\n",
    "t2m = data['t2m']\n",
    "lon = data['lon']\n",
    "lat = data['lat']"
   ]
  },
  {
   "cell_type": "code",
   "execution_count": 6,
   "metadata": {},
   "outputs": [],
   "source": [
    "# convert to celsius !!! I should change this to do it at the read stage\n",
    "t2m = (t2m - 32)/1.8"
   ]
  },
  {
   "cell_type": "code",
   "execution_count": 9,
   "metadata": {},
   "outputs": [],
   "source": [
    "# only use the stations that have data on more than 80% of the days\n",
    "numnans = [np.count_nonzero(np.isnan(t2m[i,:])) for i in range(0,t2m['station'].size,1)]\n",
    "mask = (np.array(numnans) < (0.8*t2m.time.size))\n",
    "t2m = t2m[mask,:] ; lon = lon[mask] ; lat = lat[mask]"
   ]
  },
  {
   "cell_type": "code",
   "execution_count": 10,
   "metadata": {},
   "outputs": [
    {
     "name": "stdout",
     "output_type": "stream",
     "text": [
      "you got nans\n"
     ]
    }
   ],
   "source": [
    "# calculate the seasonal cycle for each station and subtract to produce anomalies.  \n",
    "t2mseason = t2m.groupby('time.dayofyear').mean('time', skipna=True)\n",
    "t2m4harm = filt.calc_season_nharm(t2mseason, 4, dimtime=1)\n",
    "anoms = t2m.groupby('time.dayofyear') - t2m4harm"
   ]
  },
  {
   "cell_type": "code",
   "execution_count": 11,
   "metadata": {},
   "outputs": [
    {
     "name": "stdout",
     "output_type": "stream",
     "text": [
      "moving time axis to the start\n"
     ]
    }
   ],
   "source": [
    "# group by djfs and subtract the DJF mean\n",
    "djfanoms = cal.group_season_daily(anoms, 'DJF')\n",
    "djfmean = djfanoms.mean('day', skipna=True)\n",
    "djfanoms = djfanoms - djfmean"
   ]
  },
  {
   "cell_type": "code",
   "execution_count": 12,
   "metadata": {},
   "outputs": [
    {
     "name": "stderr",
     "output_type": "stream",
     "text": [
      "/project/cas/islas/miniconda3/envs/ecpaperenv/lib/python3.6/site-packages/xarray/core/nputils.py:227: RuntimeWarning: Degrees of freedom <= 0 for slice.\n",
      "  result = getattr(npmodule, name)(values, axis=axis, **kwargs)\n"
     ]
    }
   ],
   "source": [
    "isdvar = np.var(djfanoms, axis=(0,1))\n",
    "isdvar = isdvar.rename(\"isdvar\")"
   ]
  },
  {
   "cell_type": "code",
   "execution_count": 14,
   "metadata": {},
   "outputs": [],
   "source": [
    "isdvar.to_netcdf(\"/project/cas/islas/savs/python/snowpaper/DATA_SORT/deseasonalized_tvar/TVAR_ISD.nc\")\n",
    "lon.to_netcdf(\"/project/cas/islas/savs/python/snowpaper/DATA_SORT/deseasonalized_tvar/TVAR_ISD.nc\", mode=\"a\")\n",
    "lat.to_netcdf(\"/project/cas/islas/savs/python/snowpaper/DATA_SORT/deseasonalized_tvar/TVAR_ISD.nc\", mode=\"a\")"
   ]
  },
  {
   "cell_type": "code",
   "execution_count": null,
   "metadata": {},
   "outputs": [],
   "source": []
  }
 ],
 "metadata": {
  "kernelspec": {
   "display_name": "Python [conda env:ecpaperenv]",
   "language": "python",
   "name": "conda-env-ecpaperenv-py"
  },
  "language_info": {
   "codemirror_mode": {
    "name": "ipython",
    "version": 3
   },
   "file_extension": ".py",
   "mimetype": "text/x-python",
   "name": "python",
   "nbconvert_exporter": "python",
   "pygments_lexer": "ipython3",
   "version": "3.6.11"
  }
 },
 "nbformat": 4,
 "nbformat_minor": 4
}
