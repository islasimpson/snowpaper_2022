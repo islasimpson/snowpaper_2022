{
 "cells": [
  {
   "cell_type": "code",
   "execution_count": 14,
   "metadata": {},
   "outputs": [
    {
     "data": {
      "text/plain": [
       "<module 'CASutils.calendar_utils' from '/home/islas/python/CASanalysis/CASutils/calendar_utils.py'>"
      ]
     },
     "execution_count": 14,
     "metadata": {},
     "output_type": "execute_result"
    }
   ],
   "source": [
    "import importlib\n",
    "import xarray as xr\n",
    "import numpy as np\n",
    "import pandas as pd\n",
    "import matplotlib.pyplot as plt\n",
    "import sys\n",
    "import os\n",
    "\n",
    "from glob import glob\n",
    "\n",
    "from CASutils import filter_utils as filt\n",
    "from CASutils import calendar_utils as cal\n",
    "from CASutils import linfit_utils as linfit\n",
    "\n",
    "importlib.reload(filt)\n",
    "importlib.reload(cal)"
   ]
  },
  {
   "cell_type": "code",
   "execution_count": 21,
   "metadata": {},
   "outputs": [],
   "source": [
    "datadir=\"/project/cas/islas/python_savs/fluxnet/\"\n",
    "datadircesm=\"/project/cas/islas/python_savs/snowpaper/DATA_SORT/fluxnetlocs/\"\n",
    "datadirera5=\"/project/cas/islas/python_savs/snowpaper/DATA_SORT/fluxnetlocs_era5/\""
   ]
  },
  {
   "cell_type": "code",
   "execution_count": 3,
   "metadata": {},
   "outputs": [],
   "source": [
    "# deseasonalize by filtering out the first 4 harmonics of the seasonal cycle and then removing the seasonal mean of each year\n",
    "def calcdeseas(da):\n",
    "    datseas = da.groupby('time.dayofyear').mean('time')\n",
    "    dat4harm = filt.calc_season_nharm(datseas, 4, dimtime=0)\n",
    "    anoms = da.groupby('time.dayofyear') - dat4harm\n",
    "    datdeseas = cal.group_season_daily(anoms, 'DJF')\n",
    "    seasmean = datdeseas.mean('day')\n",
    "    datdeseas = datdeseas - seasmean\n",
    "    datdeseas = np.array(datdeseas).flatten()\n",
    "    return datdeseas"
   ]
  },
  {
   "cell_type": "code",
   "execution_count": 4,
   "metadata": {},
   "outputs": [],
   "source": [
    "# sort out the fluxnet data.  Only use the data with quality control flag > 0.5 (!! not sure how appropriate this is!!)\n",
    "def sortfnetdata(fnetdata):\n",
    "    data = xr.open_dataset(fnetdata)\n",
    "    # get rid of 29th Feb on leap years\n",
    "    data = data.sel(time=~((data.time.dt.month == 2) & (data.time.dt.day == 29)))\n",
    "    \n",
    "    # quality control\n",
    "    shflx = data.shflx.where(data.shflx_qc > 0.5)\n",
    "    tas = data.tas.where(data.tas_qc > 0.5)\n",
    "    g = data.g.where( (data.g_qc > 0.5) & (data.g > -999))\n",
    "    netrad = data.netrad.where( (data.netrad_qc > 0.5))\n",
    "    \n",
    "    daystr = xr.DataArray(data.indexes['time'].strftime('%m-%d'), coords = data.time.coords, name='daystr')\n",
    "    \n",
    "    shflxseason = shflx.groupby(daystr).mean('time', skipna=True)\n",
    "    shflx4harm = filt.calc_season_nharm(shflxseason, 4, dimtime=0)\n",
    "    shflxanoms = shflx.groupby(daystr) - shflx4harm\n",
    "\n",
    "    tasseason = tas.groupby(daystr).mean('time', skipna=True)\n",
    "    tas4harm = filt.calc_season_nharm(tasseason, 4, dimtime=0)\n",
    "    tasanoms = tas.groupby(daystr) - tas4harm\n",
    "    \n",
    "#    gseason = g.groupby(daystr).mean('time', skipna=True)\n",
    "#    g4harm = filt.calc_season_nharm(gseason, 4, dimtime=0)\n",
    "#    ganoms = g.groupby(daystr) - g4harm\n",
    "\n",
    "    netradseason = netrad.groupby(daystr).mean('time', skipna=True)\n",
    "    netrad4harm = filt.calc_season_nharm(netradseason, 4, dimtime=0)\n",
    "    netradanoms = netrad.groupby(daystr) - netrad4harm\n",
    "\n",
    "    djfshflx = cal.group_season_daily(shflxanoms, 'DJF')\n",
    "    djfshflxm = djfshflx.mean('day', skipna=True)\n",
    "    djfshflx = djfshflx - djfshflxm\n",
    "\n",
    "    djftas = cal.group_season_daily(tasanoms, 'DJF')\n",
    "    djftasm = djftas.mean('day', skipna=True)\n",
    "    djftas = djftas - djftasm\n",
    "    \n",
    "#    djfg = cal.group_season_daily(ganoms, 'DJF')\n",
    "#    djfgm = djfg.mean('day', skipna=True)\n",
    "#    djfg = djfg - djfgm\n",
    "    \n",
    "    djfnetrad = cal.group_season_daily(netradanoms, 'DJF')\n",
    "    djfnetradm = djfnetrad.mean('day', skipna=True)\n",
    "    djfnetrad = djfnetrad - djfnetradm    \n",
    "\n",
    "    nyears = djftas.year.size   \n",
    "\n",
    "    djftas = np.array(djftas).flatten()\n",
    "    djfshflx = np.array(djfshflx).flatten()\n",
    "#    djfg = np.array(djfg).flatten()\n",
    "    djfnetrad = np.array(djfnetrad).flatten()\n",
    "    \n",
    "    return djftas, djfshflx, djfnetrad, nyears   "
   ]
  },
  {
   "cell_type": "code",
   "execution_count": 47,
   "metadata": {},
   "outputs": [
    {
     "name": "stdout",
     "output_type": "stream",
     "text": [
      "CA-Gro\n",
      "nyears=11.0\n",
      "nyears=11.0\n",
      "nyears=11.0\n"
     ]
    },
    {
     "name": "stderr",
     "output_type": "stream",
     "text": [
      "/project/cas/islas/miniconda3/envs/ecpaperenv/lib/python3.6/site-packages/xarray/conventions.py:520: SerializationWarning: variable 'lat' has multiple fill values {1e+36, -900.0}, decoding all values to NaN.\n",
      "  decode_timedelta=decode_timedelta,\n",
      "/project/cas/islas/miniconda3/envs/ecpaperenv/lib/python3.6/site-packages/xarray/conventions.py:520: SerializationWarning: variable 'lon' has multiple fill values {1e+36, -900.0}, decoding all values to NaN.\n",
      "  decode_timedelta=decode_timedelta,\n"
     ]
    },
    {
     "name": "stdout",
     "output_type": "stream",
     "text": [
      "nyears=35.0\n",
      "nyears=35.0\n",
      "nyears=35.0\n",
      "nyears=35.0\n",
      "nyears=35.0\n",
      "nyears=35.0\n",
      "nyears=35.0\n",
      "nyears=35.0\n",
      "nyears=35.0\n",
      "nyears=35.0\n",
      "nyears=35.0\n",
      "nyears=35.0\n",
      "nyears=35.0\n",
      "nyears=35.0\n",
      "nyears=35.0\n",
      "nyears=35.0\n",
      "nyears=35.0\n",
      "nyears=35.0\n",
      "nyears=35.0\n",
      "nyears=35.0\n"
     ]
    },
    {
     "ename": "SystemExit",
     "evalue": "",
     "output_type": "error",
     "traceback": [
      "An exception has occurred, use %tb to see the full traceback.\n",
      "\u001b[0;31mSystemExit\u001b[0m\n"
     ]
    },
    {
     "name": "stderr",
     "output_type": "stream",
     "text": [
      "/project/cas/islas/miniconda3/envs/ecpaperenv/lib/python3.6/site-packages/IPython/core/interactiveshell.py:3351: UserWarning: To exit: use 'exit', 'quit', or Ctrl-D.\n",
      "  warn(\"To exit: use 'exit', 'quit', or Ctrl-D.\", stacklevel=1)\n"
     ]
    }
   ],
   "source": [
    "# read in the stations\n",
    "stations = [os.path.basename(x) for x in glob(datadir+'/*')]\n",
    "count=0\n",
    "for istation in stations:\n",
    "    name  = istation[0:6]\n",
    "    print(name)\n",
    "    \n",
    "    # read fluxnet data\n",
    "    fname = datadir+'/'+istation\n",
    "    fnet_trefht, fnet_shflx, fnet_netrad, nyears = sortfnetdata(fname)\n",
    "    \n",
    "    # read in the CESM Data\n",
    "    fname = datadircesm+'/'+istation\n",
    "    cesmdat = xr.open_dataset(fname)\n",
    "    \n",
    "    # read in ERA5 data\n",
    "    fname=datadirera5+\"/\"+istation\n",
    "    era5dat = xr.open_dataset(fname)\n",
    "    era5dat = era5dat.sel(time=~((era5dat.time.dt.month==2) & (era5dat.time.dt.day == 29)))\n",
    "\n",
    "    era5_trefht = calcdeseas(era5dat.era5_trefht)\n",
    "    era5_shflx = calcdeseas(era5dat.era5_shflx)\n",
    "    era5_shflx = -1.*era5_shflx\n",
    "    era5_lhflx = calcdeseas(era5dat.era5_lhflx)\n",
    "    era5_lhflx = -1.*era5_lhflx\n",
    "    era5_flns = calcdeseas(era5dat.era5_flns)\n",
    "    era5_flns = -1.*era5_flns\n",
    "    era5_fsns = calcdeseas(era5dat.era5_fsns)\n",
    "    netrad = -1.*era5dat.era5_flns - era5dat.era5_fsns\n",
    "    era5_netrad = calcdeseas(netrad)\n",
    "    \n",
    "    clm5_trefht = calcdeseas(cesmdat.clm5_trefht)\n",
    "    clm5_shflx = calcdeseas(cesmdat.clm5_shflx)\n",
    "    clm5_fgr = calcdeseas(cesmdat.clm5_fgr)\n",
    "    clm5_flns = calcdeseas(cesmdat.clm5_flns)\n",
    "    clm5_fsns = calcdeseas(cesmdat.clm5_fsns)\n",
    "    clm5_lhflx = calcdeseas(cesmdat.clm5_lhflx)\n",
    "    netrad = cesmdat.clm5_flns - cesmdat.clm5_fsns\n",
    "    clm5_netrad = calcdeseas(netrad)\n",
    "        \n",
    "    snowd_trefht = calcdeseas(cesmdat.snowd_trefht)\n",
    "    snowd_shflx = calcdeseas(cesmdat.snowd_shflx)\n",
    "    snowd_fgr = calcdeseas(cesmdat.snowd_fgr)\n",
    "    snowd_flns = calcdeseas(cesmdat.snowd_flns)\n",
    "    snowd_fsns = calcdeseas(cesmdat.snowd_fsns)\n",
    "    snowd_lhflx = calcdeseas(cesmdat.snowd_lhflx)\n",
    "    netrad = cesmdat.snowd_flns - cesmdat.snowd_fsns\n",
    "    snowd_netrad = calcdeseas(netrad)\n",
    "    \n",
    "    ashflx_clm5, bshflx_clm5 = linfit.linfit_xy(clm5_trefht, clm5_shflx)\n",
    "    ashflx_snowd, bshflx_snowd = linfit.linfit_xy(snowd_trefht, snowd_shflx)\n",
    "    ashflx_era5, bshflx_era5 = linfit.linfit_xy(era5_trefht, era5_shflx) \n",
    "    ifnet = np.argwhere( ~np.isnan(fnet_trefht) & ~np.isnan(fnet_shflx))\n",
    "    ifnet = ifnet[:,0]\n",
    "    ashflx_fnet, bshflx_fnet = linfit.linfit_xy(fnet_trefht[ifnet], fnet_shflx[ifnet])\n",
    "\n",
    "    anetrad_clm5, bnetrad_clm5 = linfit.linfit_xy(clm5_trefht, clm5_netrad)\n",
    "    anetrad_snowd, bnetrad_snowd = linfit.linfit_xy(snowd_trefht, snowd_netrad)\n",
    "    anetrad_era5, bnetrad_era5 = linfit.linfit_xy(era5_trefht, era5_netrad)\n",
    "    ifnet = np.argwhere( ~np.isnan(fnet_trefht) & ~np.isnan(fnet_netrad))\n",
    "    ifnet = ifnet[:,0]\n",
    "    anetrad_fnet, bnetrad_fnet = linfit.linfit_xy(fnet_trefht[ifnet], fnet_netrad[ifnet])\n",
    "    \n",
    "    if (count == 0):\n",
    "        nyearsout = np.zeros([len(stations)])\n",
    "        stationnameout=[]\n",
    "        lonout = np.zeros([len(stations)])\n",
    "        latout = np.zeros([len(stations)])\n",
    "        b_shflx_clm5 = np.zeros([len(stations)])\n",
    "        b_shflx_snowd = np.zeros([len(stations)])\n",
    "        b_shflx_era5 = np.zeros([len(stations)])\n",
    "        b_shflx_fnet = np.zeros([len(stations)])\n",
    "        \n",
    "        b_netrad_clm5 = np.zeros([len(stations)])\n",
    "        b_netrad_snowd = np.zeros([len(stations)])\n",
    "        b_netrad_era5 = np.zeros([len(stations)])\n",
    "        b_netrad_fnet = np.zeros([len(stations)])\n",
    "    \n",
    "    b_shflx_clm5[count] = bshflx_clm5\n",
    "    b_shflx_snowd[count] = bshflx_snowd\n",
    "    b_shflx_era5[count] = bshflx_era5\n",
    "    b_shflx_fnet[count] = bshflx_fnet\n",
    "    \n",
    "    b_netrad_clm5[count] = bnetrad_clm5\n",
    "    b_netrad_snowd[count] = bnetrad_snowd\n",
    "    b_netrad_era5[count] = bnetrad_era5\n",
    "    b_netrad_fnet[count] = bnetrad_fnet\n",
    "        \n",
    "    stationnameout.append(name)\n",
    "    lonout[count] = cesmdat.lon.values\n",
    "    latout[count] = cesmdat.lat.values\n",
    "    nyearsout[count] = nyears\n",
    "        \n",
    "    count=count+1"
   ]
  },
  {
   "cell_type": "code",
   "execution_count": 26,
   "metadata": {},
   "outputs": [
    {
     "ename": "NameError",
     "evalue": "name 'era5_trefht' is not defined",
     "output_type": "error",
     "traceback": [
      "\u001b[0;31m---------------------------------------------------------------------------\u001b[0m",
      "\u001b[0;31mNameError\u001b[0m                                 Traceback (most recent call last)",
      "\u001b[0;32m<ipython-input-26-558c2865ffaa>\u001b[0m in \u001b[0;36m<module>\u001b[0;34m\u001b[0m\n\u001b[0;32m----> 1\u001b[0;31m \u001b[0mprint\u001b[0m\u001b[0;34m(\u001b[0m\u001b[0mera5_trefht\u001b[0m\u001b[0;34m)\u001b[0m\u001b[0;34m\u001b[0m\u001b[0;34m\u001b[0m\u001b[0m\n\u001b[0m",
      "\u001b[0;31mNameError\u001b[0m: name 'era5_trefht' is not defined"
     ]
    }
   ],
   "source": [
    "print(era5_trefht)"
   ]
  },
  {
   "cell_type": "code",
   "execution_count": 48,
   "metadata": {},
   "outputs": [],
   "source": [
    "ashflx_clm5, bshflx_clm5 = linfit.linfit_xy(clm5_trefht, clm5_shflx)\n",
    "ashflx_snowd, bshflx_snowd = linfit.linfit_xy(snowd_trefht, snowd_shflx)\n",
    "ashflx_era5, bshflx_era5 = linfit.linfit_xy(era5_trefht, era5_shflx)\n",
    "\n",
    "ifnet = np.argwhere( ~np.isnan(fnet_trefht) & ~np.isnan(fnet_shflx))\n",
    "ifnet = ifnet[:,0]\n",
    "ashflx_fnet, bshflx_fnet = linfit.linfit_xy(fnet_trefht[ifnet], fnet_shflx[ifnet])"
   ]
  },
  {
   "cell_type": "code",
   "execution_count": 49,
   "metadata": {},
   "outputs": [
    {
     "data": {
      "text/plain": [
       "[<matplotlib.lines.Line2D at 0x7f2df39a9c18>]"
      ]
     },
     "execution_count": 49,
     "metadata": {},
     "output_type": "execute_result"
    },
    {
     "data": {
      "image/png": "[encoded data removed]",
      "text/plain": [
       "<Figure size 432x288 with 1 Axes>"
      ]
     },
     "metadata": {
      "needs_background": "light"
     },
     "output_type": "display_data"
    }
   ],
   "source": [
    "xvals = np.arange(0,40,1)-20\n",
    "plt.plot(snowd_trefht, snowd_shflx,\"o\", color='black')\n",
    "plt.plot(xvals,ashflx_snowd + bshflx_snowd*xvals, color='black')\n",
    "plt.plot(clm5_trefht, clm5_shflx,\"o\", color='red')\n",
    "plt.plot(xvals, ashflx_clm5 + bshflx_clm5*xvals, color='red')\n",
    "plt.plot(era5_trefht, era5_shflx,\"o\", color='green')\n",
    "plt.plot(xvals, ashflx_era5 + bshflx_era5*xvals, color='green')\n",
    "plt.plot(fnet_trefht, fnet_shflx,\"o\", color='royalblue')\n",
    "plt.plot(xvals, ashflx_fnet + bshflx_fnet*xvals, color='royalblue')"
   ]
  },
  {
   "cell_type": "code",
   "execution_count": 11,
   "metadata": {},
   "outputs": [
    {
     "data": {
      "text/plain": [
       "[<matplotlib.lines.Line2D at 0x7f2dfea405f8>]"
      ]
     },
     "execution_count": 11,
     "metadata": {},
     "output_type": "execute_result"
    },
    {
     "data": {
      "image/png": "[encoded data removed]",
      "text/plain": [
       "<Figure size 432x288 with 1 Axes>"
      ]
     },
     "metadata": {
      "needs_background": "light"
     },
     "output_type": "display_data"
    }
   ],
   "source": [
    "plt.plot(clm5_trefht, clm5_shflx, \"o\")"
   ]
  },
  {
   "cell_type": "code",
   "execution_count": null,
   "metadata": {},
   "outputs": [],
   "source": []
  }
 ],
 "metadata": {
  "kernelspec": {
   "display_name": "Python [conda env:ecpaperenv]",
   "language": "python",
   "name": "conda-env-ecpaperenv-py"
  },
  "language_info": {
   "codemirror_mode": {
    "name": "ipython",
    "version": 3
   },
   "file_extension": ".py",
   "mimetype": "text/x-python",
   "name": "python",
   "nbconvert_exporter": "python",
   "pygments_lexer": "ipython3",
   "version": "3.6.11"
  }
 },
 "nbformat": 4,
 "nbformat_minor": 4
}
