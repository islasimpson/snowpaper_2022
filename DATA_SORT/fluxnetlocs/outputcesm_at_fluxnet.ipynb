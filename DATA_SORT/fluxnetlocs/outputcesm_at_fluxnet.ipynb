{
 "cells": [
  {
   "cell_type": "markdown",
   "metadata": {},
   "source": [
    "Output CESM data at the location of the fluxnet sites.\n"
   ]
  },
  {
   "cell_type": "code",
   "execution_count": 1,
   "metadata": {},
   "outputs": [],
   "source": [
    "import importlib\n",
    "import xarray as xr\n",
    "import numpy as np\n",
    "import pandas as pd\n",
    "import matplotlib.pyplot as plt\n",
    "import sys"
   ]
  },
  {
   "cell_type": "code",
   "execution_count": 2,
   "metadata": {},
   "outputs": [],
   "source": [
    "#stationinfo = pd.read_csv(\"/home/islas/python/fluxnet/stationinfo.csv\")\n",
    "stationinfo = pd.read_csv(\"/home/islas/python/snowpaper/DATA_SORT/fluxnetlocs/stationinfo.csv\")"
   ]
  },
  {
   "cell_type": "code",
   "execution_count": 3,
   "metadata": {},
   "outputs": [],
   "source": [
    "datdir=\"/project/cas02/islas/CLM5_CLM4/raw/\"\n",
    "pathout=\"/project/cas02/islas/CLM5_CLM4/fluxnetlocs/\""
   ]
  },
  {
   "cell_type": "code",
   "execution_count": 4,
   "metadata": {},
   "outputs": [
    {
     "name": "stdout",
     "output_type": "stream",
     "text": [
      "CA-Gro\n",
      "CA-Man\n",
      "CA-Oas\n",
      "CA-Obs\n",
      "CA-TP4\n",
      "RU-Cok\n",
      "RU-Fyo\n",
      "US-ARM\n",
      "US-Los\n",
      "US-MMS\n",
      "US-Me2\n",
      "US-NR1\n",
      "US-Ne2\n",
      "US-Ne3\n",
      "US-Oho\n",
      "US-SRM\n",
      "US-Syv\n",
      "US-UMB\n",
      "US-Var\n",
      "US-WCr\n",
      "US-Wkg\n"
     ]
    }
   ],
   "source": [
    "for index, station in stationinfo.Station.iteritems():\n",
    "    print(station)\n",
    "    lonstat = stationinfo.loc[index,'Lon']\n",
    "    latstat = stationinfo.loc[index,'Lat']\n",
    "\n",
    "    if (lonstat < 0):\n",
    "        lonstat = 360+lonstat\n",
    "   \n",
    "    clm5_trefht = xr.open_mfdataset(datdir+\"Isla_CAM6_CLM5_002/day/TREFHT/*.nc\", \n",
    "                                  coords=\"minimal\", join=\"override\", decode_times=True).sel(lon=lonstat, lat=latstat, method=\"nearest\")\n",
    "    clm5_trefht = clm5_trefht.rename(TREFHT='clm5_trefht')\n",
    "    clm5_trefht.to_netcdf(path=pathout+station+\".nc\")\n",
    "    del clm5_trefht\n",
    "    \n",
    "    clm5_shflx = xr.open_mfdataset(datdir+\"Isla_CAM6_CLM5_002/day/SHFLX/*.nc\", \n",
    "                                 coords=\"minimal\", join=\"override\", decode_times=True).sel(lon=lonstat, lat=latstat, method=\"nearest\")\n",
    "    clm5_shflx = clm5_shflx.rename(SHFLX='clm5_shflx')\n",
    "    clm5_shflx.to_netcdf(path=pathout+station+\".nc\", mode=\"a\")\n",
    "    del clm5_shflx\n",
    "    \n",
    "    \n",
    "    clm5_fgr = xr.open_mfdataset(datdir+\"Isla_CAM6_CLM5_002/day/FGR/*.nc\", \n",
    "                                 coords=\"minimal\", join=\"override\", decode_times=True).sel(lon=lonstat, lat=latstat, method=\"nearest\")\n",
    "    clm5_fgr = clm5_fgr.rename(FGR='clm5_fgr')\n",
    "    clm5_fgr.to_netcdf(path=pathout+station+\".nc\", mode=\"a\")\n",
    "    del clm5_fgr\n",
    "    \n",
    "    \n",
    "    clm5_flns = xr.open_mfdataset(datdir+\"Isla_CAM6_CLM5_002/day/FLNS/*.nc\", \n",
    "                                 coords=\"minimal\", join=\"override\", decode_times=True).sel(lon=lonstat, lat=latstat, method=\"nearest\")\n",
    "    clm5_flns = clm5_flns.rename(FLNS='clm5_flns')\n",
    "    clm5_flns.to_netcdf(path=pathout+station+\".nc\", mode=\"a\")\n",
    "    del clm5_flns\n",
    "    \n",
    "    \n",
    "    clm5_fsns = xr.open_mfdataset(datdir+\"Isla_CAM6_CLM5_002/day/FSNS/*.nc\", \n",
    "                                 coords=\"minimal\", join=\"override\", decode_times=True).sel(lon=lonstat, lat=latstat, method=\"nearest\")\n",
    "    clm5_fsns = clm5_fsns.rename(FSNS='clm5_fsns')\n",
    "    clm5_fsns.to_netcdf(path=pathout+station+\".nc\", mode=\"a\")\n",
    "    del clm5_fsns\n",
    "    \n",
    "    \n",
    "    clm5_lhflx = xr.open_mfdataset(datdir+\"Isla_CAM6_CLM5_002/day/LHFLX/*.nc\", \n",
    "                                 coords=\"minimal\", join=\"override\", decode_times=True).sel(lon=lonstat, lat=latstat, method=\"nearest\")\n",
    "    clm5_lhflx = clm5_lhflx.rename(LHFLX='clm5_lhflx')\n",
    "    clm5_lhflx.to_netcdf(path=pathout+station+\".nc\", mode=\"a\")\n",
    "    del clm5_lhflx\n",
    "    \n",
    "    snowd_trefht = xr.open_mfdataset(datdir+\"CAM6_CLM5_snowdensity_002/day/TREFHT/*.nc\", \n",
    "                                   coords=\"minimal\", join=\"override\", decode_times=True).sel(lon=lonstat, lat=latstat, method=\"nearest\")\n",
    "    snowd_trefht = snowd_trefht.rename(TREFHT='snowd_trefht')\n",
    "    snowd_trefht.to_netcdf(path=pathout+station+\".nc\", mode=\"a\")\n",
    "    del snowd_trefht\n",
    "    \n",
    "    snowd_shflx = xr.open_mfdataset(datdir+\"CAM6_CLM5_snowdensity_002/day/SHFLX/*.nc\", \n",
    "                                  coords=\"minimal\", join=\"override\", decode_times=True).sel(lon=lonstat, lat=latstat, method=\"nearest\")\n",
    "    snowd_shflx = snowd_shflx.rename(SHFLX='snowd_shflx')\n",
    "    snowd_shflx.to_netcdf(path=pathout+station+\".nc\", mode=\"a\")\n",
    "    del snowd_shflx\n",
    "    \n",
    "    snowd_fgr = xr.open_mfdataset(datdir+\"CAM6_CLM5_snowdensity_002/day/FGR/*.nc\", \n",
    "                                 coords=\"minimal\", join=\"override\", decode_times=True).sel(lon=lonstat, lat=latstat, method=\"nearest\")\n",
    "    snowd_fgr = snowd_fgr.rename(FGR='snowd_fgr')\n",
    "    snowd_fgr.to_netcdf(path=pathout+station+\".nc\", mode=\"a\")\n",
    "    del snowd_fgr\n",
    "    \n",
    "    snowd_flns = xr.open_mfdataset(datdir+\"CAM6_CLM5_snowdensity_002/day/FLNS/*.nc\", \n",
    "                                 coords=\"minimal\", join=\"override\", decode_times=True).sel(lon=lonstat, lat=latstat, method=\"nearest\")\n",
    "    snowd_flns = snowd_flns.rename(FLNS='snowd_flns')\n",
    "    snowd_flns.to_netcdf(path=pathout+station+\".nc\", mode=\"a\")\n",
    "    del snowd_flns\n",
    "    \n",
    "    snowd_fsns = xr.open_mfdataset(datdir+\"CAM6_CLM5_snowdensity_002/day/FSNS/*.nc\", \n",
    "                                 coords=\"minimal\", join=\"override\", decode_times=True).sel(lon=lonstat, lat=latstat, method=\"nearest\")\n",
    "    snowd_fsns = snowd_fsns.rename(FSNS='snowd_fsns')\n",
    "    snowd_fsns.to_netcdf(path=pathout+station+\".nc\", mode=\"a\")\n",
    "    del snowd_fsns\n",
    "    \n",
    "    snowd_lhflx = xr.open_mfdataset(datdir+\"CAM6_CLM5_snowdensity_002/day/LHFLX/*.nc\", \n",
    "                                 coords=\"minimal\", join=\"override\", decode_times=True).sel(lon=lonstat, lat=latstat, method=\"nearest\")\n",
    "    snowd_lhflx = snowd_lhflx.rename(LHFLX='snowd_lhflx')\n",
    "    snowd_lhflx.to_netcdf(path=pathout+station+\".nc\", mode=\"a\")\n",
    "    del snowd_lhflx\n",
    "    \n",
    "\n",
    "    #clm5_trefht = clm5_trefht.rename(TREFHT='clm5_trefht')\n",
    "    #snowd_trefht = snowd_trefht.rename(TREFHT='snowd_trefht')\n",
    "    #clm5_shflx = clm5_shflx.rename(SHFLX='clm5_shflx')\n",
    "    #snowd_shflx = snowd_shflx.rename(SHFLX='snowd_shflx')\n",
    "    #clm5_fgr = clm5_fgr.rename(FGR='clm5_fgr')\n",
    "    #snowd_fgr = snowd_fgr.rename(FGR='snowd_fgr')\n",
    "    #clm5_flns = clm5_flns.rename(FLNS='clm5_flns')\n",
    "    #snowd_flns = snowd_flns.rename(FLNS='snowd_flns')\n",
    "    #clm5_fsns = clm5_fsns.rename(FSNS='clm5_fsns')\n",
    "    #snowd_fsns = snowd_fsns.rename(FSNS='snowd_fsns')\n",
    "    #clm5_lhflx = clm5_lhflx.rename(LHFLX='clm5_lhflx')\n",
    "    #snowd_lhflx = snowd_lhflx.rename(LHFLX='snowd_lhflx')\n",
    "    \n",
    "    #clm5_trefht.to_netcdf(path=pathout+station+\".nc\")\n",
    "    #snowd_trefht.to_netcdf(path=pathout+station+\".nc\", mode=\"a\")\n",
    "    #clm5_shflx.to_netcdf(path=pathout+station+\".nc\", mode=\"a\")\n",
    "    #snowd_shflx.to_netcdf(path=pathout+station+\".nc\", mode=\"a\")\n",
    "    #clm5_lhflx.to_netcdf(path=pathout+station+\".nc\", mode=\"a\")\n",
    "    #snowd_lhflx.to_netcdf(path=pathout+station+\".nc\", mode=\"a\")\n",
    "    #clm5_fgr.to_netcdf(path=pathout+station+\".nc\", mode=\"a\")\n",
    "    #snowd_fgr.to_netcdf(path=pathout+station+\".nc\", mode=\"a\")\n",
    "    #clm5_flns.to_netcdf(path=pathout+station+\".nc\", mode=\"a\")\n",
    "    #snowd_flns.to_netcdf(path=pathout+station+\".nc\", mode=\"a\")\n",
    "    #clm5_fsns.to_netcdf(path=pathout+station+\".nc\", mode=\"a\")\n",
    "    #snowd_fsns.to_netcdf(path=pathout+station+\".nc\", mode=\"a\")    "
   ]
  },
  {
   "cell_type": "code",
   "execution_count": 9,
   "metadata": {},
   "outputs": [],
   "source": [
    "test = clm5_trefht.rename(TREFHT='clm5_trehft')"
   ]
  },
  {
   "cell_type": "code",
   "execution_count": 10,
   "metadata": {},
   "outputs": [
    {
     "name": "stdout",
     "output_type": "stream",
     "text": [
      "<xarray.Dataset>\n",
      "Dimensions:      (time: 13140)\n",
      "Coordinates:\n",
      "  * time         (time) object 1979-01-01 00:00:00 ... 2014-12-31 00:00:00\n",
      "    lat          float64 55.13\n",
      "    lon          float64 90.0\n",
      "Data variables:\n",
      "    clm5_trehft  (time) float32 dask.array<chunksize=(365,), meta=np.ndarray>\n"
     ]
    }
   ],
   "source": [
    "print(test)"
   ]
  },
  {
   "cell_type": "code",
   "execution_count": 6,
   "metadata": {},
   "outputs": [
    {
     "name": "stdout",
     "output_type": "stream",
     "text": [
      "<xarray.Dataset>\n",
      "Dimensions:  (time: 13140)\n",
      "Coordinates:\n",
      "  * time     (time) object 1979-01-01 00:00:00 ... 2014-12-31 00:00:00\n",
      "    lat      float64 55.13\n",
      "    lon      float64 90.0\n",
      "Data variables:\n",
      "    TREFHT   (time) float32 dask.array<chunksize=(365,), meta=np.ndarray>\n"
     ]
    }
   ],
   "source": [
    "print(clm5_trefht)"
   ]
  },
  {
   "cell_type": "code",
   "execution_count": null,
   "metadata": {},
   "outputs": [],
   "source": []
  }
 ],
 "metadata": {
  "kernelspec": {
   "display_name": "Python [conda env:ecpaperenv]",
   "language": "python",
   "name": "conda-env-ecpaperenv-py"
  },
  "language_info": {
   "codemirror_mode": {
    "name": "ipython",
    "version": 3
   },
   "file_extension": ".py",
   "mimetype": "text/x-python",
   "name": "python",
   "nbconvert_exporter": "python",
   "pygments_lexer": "ipython3",
   "version": "3.6.11"
  }
 },
 "nbformat": 4,
 "nbformat_minor": 4
}
