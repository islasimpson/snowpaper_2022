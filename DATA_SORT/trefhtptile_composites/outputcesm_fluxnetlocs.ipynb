{
 "cells": [
  {
   "cell_type": "markdown",
   "metadata": {},
   "source": [
    "Output composites conditioned on TREFHT for both CESM and fluxnet stations"
   ]
  },
  {
   "cell_type": "code",
   "execution_count": 6,
   "metadata": {},
   "outputs": [
    {
     "data": {
      "text/plain": [
       "<module 'CASutils.calendar_utils' from '/home/islas/python/CASanalysis/CASutils/calendar_utils.py'>"
      ]
     },
     "execution_count": 6,
     "metadata": {},
     "output_type": "execute_result"
    }
   ],
   "source": [
    "import importlib\n",
    "import xarray as xr\n",
    "import numpy as np\n",
    "import pandas as pd\n",
    "import matplotlib.pyplot as plt\n",
    "import sys\n",
    "import os\n",
    "\n",
    "from glob import glob\n",
    "\n",
    "from CASutils import filter_utils as filt\n",
    "from CASutils import calendar_utils as cal\n",
    "\n",
    "importlib.reload(filt)\n",
    "importlib.reload(cal)"
   ]
  },
  {
   "cell_type": "code",
   "execution_count": 7,
   "metadata": {},
   "outputs": [],
   "source": [
    "datadir=\"/project/cas/islas/python_savs/fluxnet/\"\n",
    "datadircesm=\"/project/cas/islas/python_savs/snowpaper/DATA_SORT/fluxnetlocs/\"\n",
    "outfile=\"/project/cas/islas/python_savs/snowpaper/DATA_SORT/trefhtptile_composites/fluxnetcomposites.nc\""
   ]
  },
  {
   "cell_type": "code",
   "execution_count": 8,
   "metadata": {},
   "outputs": [],
   "source": [
    "# deseasonalize by filtering out the first 4 harmonics of the seasonal cycle and then removing the seasonal mean of each year\n",
    "def calcdeseas(da):\n",
    "    datseas = da.groupby('time.dayofyear').mean('time')\n",
    "    dat4harm = filt.calc_season_nharm(datseas, 4, dimtime=0)\n",
    "    anoms = da.groupby('time.dayofyear') - dat4harm\n",
    "    datdeseas = cal.group_season_daily(anoms, 'DJF')\n",
    "    seasmean = datdeseas.mean('day')\n",
    "    datdeseas = datdeseas - seasmean\n",
    "    datdeseas = np.array(datdeseas).flatten()\n",
    "    return datdeseas"
   ]
  },
  {
   "cell_type": "code",
   "execution_count": 11,
   "metadata": {},
   "outputs": [],
   "source": [
    "# sort out the fluxnet data.  Only use the data with quality control flag > 0.5 (!! not sure how appropriate this is!!)\n",
    "def sortfnetdata(fnetdata):\n",
    "    data = xr.open_dataset(fnetdata)\n",
    "    # get rid of 29th Feb on leap years\n",
    "    data = data.sel(time=~((data.time.dt.month == 2) & (data.time.dt.day == 29)))\n",
    "    \n",
    "    # quality control\n",
    "    shflx = data.shflx.where(data.shflx_qc > 0.5)\n",
    "    tas = data.tas.where(data.tas_qc > 0.5)\n",
    "    g = data.g.where( (data.g_qc > 0.5) & (data.g > -999))\n",
    "    netrad = data.netrad.where( (data.netrad_qc > 0.5))\n",
    "    \n",
    "    daystr = xr.DataArray(data.indexes['time'].strftime('%m-%d'), coords = data.time.coords, name='daystr')\n",
    "    \n",
    "    shflxseason = shflx.groupby(daystr).mean('time', skipna=True)\n",
    "    shflx4harm = filt.calc_season_nharm(shflxseason, 4, dimtime=0)\n",
    "    shflxanoms = shflx.groupby(daystr) - shflx4harm\n",
    "\n",
    "    tasseason = tas.groupby(daystr).mean('time', skipna=True)\n",
    "    tas4harm = filt.calc_season_nharm(tasseason, 4, dimtime=0)\n",
    "    tasanoms = tas.groupby(daystr) - tas4harm\n",
    "    \n",
    "#    gseason = g.groupby(daystr).mean('time', skipna=True)\n",
    "#    g4harm = filt.calc_season_nharm(gseason, 4, dimtime=0)\n",
    "#    ganoms = g.groupby(daystr) - g4harm\n",
    "\n",
    "    netradseason = netrad.groupby(daystr).mean('time', skipna=True)\n",
    "    netrad4harm = filt.calc_season_nharm(netradseason, 4, dimtime=0)\n",
    "    netradanoms = netrad.groupby(daystr) - netrad4harm\n",
    "\n",
    "    djfshflx = cal.group_season_daily(shflxanoms, 'DJF')\n",
    "    djfshflxm = djfshflx.mean('day', skipna=True)\n",
    "    djfshflx = djfshflx - djfshflxm\n",
    "\n",
    "    djftas = cal.group_season_daily(tasanoms, 'DJF')\n",
    "    djftasm = djftas.mean('day', skipna=True)\n",
    "    djftas = djftas - djftasm\n",
    "    \n",
    "#    djfg = cal.group_season_daily(ganoms, 'DJF')\n",
    "#    djfgm = djfg.mean('day', skipna=True)\n",
    "#    djfg = djfg - djfgm\n",
    "    \n",
    "    djfnetrad = cal.group_season_daily(netradanoms, 'DJF')\n",
    "    djfnetradm = djfnetrad.mean('day', skipna=True)\n",
    "    djfnetrad = djfnetrad - djfnetradm    \n",
    "\n",
    "    nyears = djftas.year.size   \n",
    "\n",
    "    djftas = np.array(djftas).flatten()\n",
    "    djfshflx = np.array(djfshflx).flatten()\n",
    "#    djfg = np.array(djfg).flatten()\n",
    "    djfnetrad = np.array(djfnetrad).flatten()\n",
    "    \n",
    "    return djftas, djfshflx, djfnetrad, nyears   "
   ]
  },
  {
   "cell_type": "code",
   "execution_count": 14,
   "metadata": {},
   "outputs": [
    {
     "name": "stdout",
     "output_type": "stream",
     "text": [
      "nyears=11.0\n",
      "nyears=11.0\n",
      "nyears=11.0\n"
     ]
    },
    {
     "name": "stderr",
     "output_type": "stream",
     "text": [
      "/project/cas/islas/miniconda3/envs/ecpaperenv/lib/python3.6/site-packages/xarray/conventions.py:500: SerializationWarning: variable 'lat' has multiple fill values {1e+36, -900.0}, decoding all values to NaN.\n",
      "  decode_timedelta=decode_timedelta,\n",
      "/project/cas/islas/miniconda3/envs/ecpaperenv/lib/python3.6/site-packages/xarray/conventions.py:500: SerializationWarning: variable 'lon' has multiple fill values {1e+36, -900.0}, decoding all values to NaN.\n",
      "  decode_timedelta=decode_timedelta,\n"
     ]
    },
    {
     "name": "stdout",
     "output_type": "stream",
     "text": [
      "nyears=35.0\n",
      "nyears=35.0\n",
      "nyears=35.0\n",
      "nyears=35.0\n",
      "nyears=35.0\n",
      "nyears=35.0\n",
      "nyears=35.0\n",
      "nyears=35.0\n",
      "nyears=35.0\n",
      "nyears=35.0\n",
      "nyears=35.0\n",
      "nyears=35.0\n",
      "nyears=35.0\n",
      "nyears=35.0\n"
     ]
    },
    {
     "name": "stderr",
     "output_type": "stream",
     "text": [
      "/project/cas/islas/miniconda3/envs/ecpaperenv/lib/python3.6/site-packages/ipykernel_launcher.py:73: RuntimeWarning: invalid value encountered in greater_equal\n",
      "/project/cas/islas/miniconda3/envs/ecpaperenv/lib/python3.6/site-packages/ipykernel_launcher.py:73: RuntimeWarning: invalid value encountered in less\n",
      "/project/cas/islas/miniconda3/envs/ecpaperenv/lib/python3.6/site-packages/ipykernel_launcher.py:74: RuntimeWarning: invalid value encountered in greater_equal\n",
      "/project/cas/islas/miniconda3/envs/ecpaperenv/lib/python3.6/site-packages/ipykernel_launcher.py:74: RuntimeWarning: invalid value encountered in less\n",
      "/project/cas/islas/miniconda3/envs/ecpaperenv/lib/python3.6/site-packages/ipykernel_launcher.py:75: RuntimeWarning: invalid value encountered in greater_equal\n",
      "/project/cas/islas/miniconda3/envs/ecpaperenv/lib/python3.6/site-packages/ipykernel_launcher.py:75: RuntimeWarning: invalid value encountered in less\n"
     ]
    },
    {
     "name": "stdout",
     "output_type": "stream",
     "text": [
      "nyears=14.0\n",
      "nyears=14.0\n",
      "nyears=14.0\n"
     ]
    },
    {
     "name": "stderr",
     "output_type": "stream",
     "text": [
      "/project/cas/islas/miniconda3/envs/ecpaperenv/lib/python3.6/site-packages/xarray/conventions.py:500: SerializationWarning: variable 'lat' has multiple fill values {1e+36, -900.0}, decoding all values to NaN.\n",
      "  decode_timedelta=decode_timedelta,\n",
      "/project/cas/islas/miniconda3/envs/ecpaperenv/lib/python3.6/site-packages/xarray/conventions.py:500: SerializationWarning: variable 'lon' has multiple fill values {1e+36, -900.0}, decoding all values to NaN.\n",
      "  decode_timedelta=decode_timedelta,\n"
     ]
    },
    {
     "name": "stdout",
     "output_type": "stream",
     "text": [
      "nyears=35.0\n",
      "nyears=35.0\n",
      "nyears=35.0\n",
      "nyears=35.0\n",
      "nyears=35.0\n",
      "nyears=35.0\n",
      "nyears=35.0\n",
      "nyears=35.0\n",
      "nyears=35.0\n",
      "nyears=35.0\n",
      "nyears=35.0\n",
      "nyears=35.0\n",
      "nyears=35.0\n",
      "nyears=35.0\n"
     ]
    },
    {
     "name": "stderr",
     "output_type": "stream",
     "text": [
      "/project/cas/islas/miniconda3/envs/ecpaperenv/lib/python3.6/site-packages/ipykernel_launcher.py:73: RuntimeWarning: invalid value encountered in greater_equal\n",
      "/project/cas/islas/miniconda3/envs/ecpaperenv/lib/python3.6/site-packages/ipykernel_launcher.py:73: RuntimeWarning: invalid value encountered in less\n",
      "/project/cas/islas/miniconda3/envs/ecpaperenv/lib/python3.6/site-packages/ipykernel_launcher.py:74: RuntimeWarning: invalid value encountered in greater_equal\n",
      "/project/cas/islas/miniconda3/envs/ecpaperenv/lib/python3.6/site-packages/ipykernel_launcher.py:74: RuntimeWarning: invalid value encountered in less\n",
      "/project/cas/islas/miniconda3/envs/ecpaperenv/lib/python3.6/site-packages/ipykernel_launcher.py:75: RuntimeWarning: invalid value encountered in greater_equal\n",
      "/project/cas/islas/miniconda3/envs/ecpaperenv/lib/python3.6/site-packages/ipykernel_launcher.py:75: RuntimeWarning: invalid value encountered in less\n"
     ]
    },
    {
     "name": "stdout",
     "output_type": "stream",
     "text": [
      "nyears=14.0\n",
      "nyears=14.0\n",
      "nyears=14.0\n"
     ]
    },
    {
     "name": "stderr",
     "output_type": "stream",
     "text": [
      "/project/cas/islas/miniconda3/envs/ecpaperenv/lib/python3.6/site-packages/xarray/conventions.py:500: SerializationWarning: variable 'lat' has multiple fill values {1e+36, -900.0}, decoding all values to NaN.\n",
      "  decode_timedelta=decode_timedelta,\n",
      "/project/cas/islas/miniconda3/envs/ecpaperenv/lib/python3.6/site-packages/xarray/conventions.py:500: SerializationWarning: variable 'lon' has multiple fill values {1e+36, -900.0}, decoding all values to NaN.\n",
      "  decode_timedelta=decode_timedelta,\n"
     ]
    },
    {
     "name": "stdout",
     "output_type": "stream",
     "text": [
      "nyears=35.0\n",
      "nyears=35.0\n",
      "nyears=35.0\n",
      "nyears=35.0\n",
      "nyears=35.0\n",
      "nyears=35.0\n",
      "nyears=35.0\n",
      "nyears=35.0\n",
      "nyears=35.0\n",
      "nyears=35.0\n",
      "nyears=35.0\n",
      "nyears=35.0\n",
      "nyears=35.0\n",
      "nyears=35.0\n",
      "nyears=13.0\n",
      "nyears=13.0\n",
      "nyears=13.0\n"
     ]
    },
    {
     "name": "stderr",
     "output_type": "stream",
     "text": [
      "/project/cas/islas/miniconda3/envs/ecpaperenv/lib/python3.6/site-packages/xarray/conventions.py:500: SerializationWarning: variable 'lat' has multiple fill values {1e+36, -900.0}, decoding all values to NaN.\n",
      "  decode_timedelta=decode_timedelta,\n",
      "/project/cas/islas/miniconda3/envs/ecpaperenv/lib/python3.6/site-packages/xarray/conventions.py:500: SerializationWarning: variable 'lon' has multiple fill values {1e+36, -900.0}, decoding all values to NaN.\n",
      "  decode_timedelta=decode_timedelta,\n"
     ]
    },
    {
     "name": "stdout",
     "output_type": "stream",
     "text": [
      "nyears=35.0\n",
      "nyears=35.0\n",
      "nyears=35.0\n",
      "nyears=35.0\n",
      "nyears=35.0\n",
      "nyears=35.0\n",
      "nyears=35.0\n",
      "nyears=35.0\n",
      "nyears=35.0\n",
      "nyears=35.0\n",
      "nyears=35.0\n",
      "nyears=35.0\n",
      "nyears=35.0\n",
      "nyears=35.0\n"
     ]
    },
    {
     "name": "stderr",
     "output_type": "stream",
     "text": [
      "/project/cas/islas/miniconda3/envs/ecpaperenv/lib/python3.6/site-packages/ipykernel_launcher.py:73: RuntimeWarning: invalid value encountered in greater_equal\n",
      "/project/cas/islas/miniconda3/envs/ecpaperenv/lib/python3.6/site-packages/ipykernel_launcher.py:73: RuntimeWarning: invalid value encountered in less\n",
      "/project/cas/islas/miniconda3/envs/ecpaperenv/lib/python3.6/site-packages/ipykernel_launcher.py:74: RuntimeWarning: invalid value encountered in greater_equal\n",
      "/project/cas/islas/miniconda3/envs/ecpaperenv/lib/python3.6/site-packages/ipykernel_launcher.py:74: RuntimeWarning: invalid value encountered in less\n",
      "/project/cas/islas/miniconda3/envs/ecpaperenv/lib/python3.6/site-packages/ipykernel_launcher.py:75: RuntimeWarning: invalid value encountered in greater_equal\n",
      "/project/cas/islas/miniconda3/envs/ecpaperenv/lib/python3.6/site-packages/ipykernel_launcher.py:75: RuntimeWarning: invalid value encountered in less\n"
     ]
    },
    {
     "name": "stdout",
     "output_type": "stream",
     "text": [
      "nyears=12.0\n",
      "nyears=12.0\n",
      "nyears=12.0\n"
     ]
    },
    {
     "name": "stderr",
     "output_type": "stream",
     "text": [
      "/project/cas/islas/miniconda3/envs/ecpaperenv/lib/python3.6/site-packages/xarray/conventions.py:500: SerializationWarning: variable 'lat' has multiple fill values {1e+36, -900.0}, decoding all values to NaN.\n",
      "  decode_timedelta=decode_timedelta,\n",
      "/project/cas/islas/miniconda3/envs/ecpaperenv/lib/python3.6/site-packages/xarray/conventions.py:500: SerializationWarning: variable 'lon' has multiple fill values {1e+36, -900.0}, decoding all values to NaN.\n",
      "  decode_timedelta=decode_timedelta,\n"
     ]
    },
    {
     "name": "stdout",
     "output_type": "stream",
     "text": [
      "nyears=35.0\n",
      "nyears=35.0\n",
      "nyears=35.0\n",
      "nyears=35.0\n",
      "nyears=35.0\n",
      "nyears=35.0\n",
      "nyears=35.0\n",
      "nyears=35.0\n",
      "nyears=35.0\n",
      "nyears=35.0\n",
      "nyears=35.0\n",
      "nyears=35.0\n",
      "nyears=35.0\n",
      "nyears=35.0\n"
     ]
    },
    {
     "name": "stderr",
     "output_type": "stream",
     "text": [
      "/project/cas/islas/miniconda3/envs/ecpaperenv/lib/python3.6/site-packages/ipykernel_launcher.py:73: RuntimeWarning: invalid value encountered in greater_equal\n",
      "/project/cas/islas/miniconda3/envs/ecpaperenv/lib/python3.6/site-packages/ipykernel_launcher.py:73: RuntimeWarning: invalid value encountered in less\n",
      "/project/cas/islas/miniconda3/envs/ecpaperenv/lib/python3.6/site-packages/ipykernel_launcher.py:74: RuntimeWarning: invalid value encountered in greater_equal\n",
      "/project/cas/islas/miniconda3/envs/ecpaperenv/lib/python3.6/site-packages/ipykernel_launcher.py:74: RuntimeWarning: invalid value encountered in less\n",
      "/project/cas/islas/miniconda3/envs/ecpaperenv/lib/python3.6/site-packages/ipykernel_launcher.py:75: RuntimeWarning: invalid value encountered in greater_equal\n",
      "/project/cas/islas/miniconda3/envs/ecpaperenv/lib/python3.6/site-packages/ipykernel_launcher.py:75: RuntimeWarning: invalid value encountered in less\n"
     ]
    },
    {
     "name": "stdout",
     "output_type": "stream",
     "text": [
      "nyears=12.0\n",
      "nyears=12.0\n",
      "nyears=12.0\n"
     ]
    },
    {
     "name": "stderr",
     "output_type": "stream",
     "text": [
      "/project/cas/islas/miniconda3/envs/ecpaperenv/lib/python3.6/site-packages/xarray/conventions.py:500: SerializationWarning: variable 'lat' has multiple fill values {1e+36, -900.0}, decoding all values to NaN.\n",
      "  decode_timedelta=decode_timedelta,\n",
      "/project/cas/islas/miniconda3/envs/ecpaperenv/lib/python3.6/site-packages/xarray/conventions.py:500: SerializationWarning: variable 'lon' has multiple fill values {1e+36, -900.0}, decoding all values to NaN.\n",
      "  decode_timedelta=decode_timedelta,\n"
     ]
    },
    {
     "name": "stdout",
     "output_type": "stream",
     "text": [
      "nyears=35.0\n",
      "nyears=35.0\n",
      "nyears=35.0\n",
      "nyears=35.0\n",
      "nyears=35.0\n",
      "nyears=35.0\n",
      "nyears=35.0\n",
      "nyears=35.0\n",
      "nyears=35.0\n",
      "nyears=35.0\n",
      "nyears=35.0\n",
      "nyears=35.0\n",
      "nyears=35.0\n",
      "nyears=35.0\n"
     ]
    },
    {
     "name": "stderr",
     "output_type": "stream",
     "text": [
      "/project/cas/islas/miniconda3/envs/ecpaperenv/lib/python3.6/site-packages/ipykernel_launcher.py:73: RuntimeWarning: invalid value encountered in greater_equal\n",
      "/project/cas/islas/miniconda3/envs/ecpaperenv/lib/python3.6/site-packages/ipykernel_launcher.py:73: RuntimeWarning: invalid value encountered in less\n",
      "/project/cas/islas/miniconda3/envs/ecpaperenv/lib/python3.6/site-packages/ipykernel_launcher.py:74: RuntimeWarning: invalid value encountered in greater_equal\n",
      "/project/cas/islas/miniconda3/envs/ecpaperenv/lib/python3.6/site-packages/ipykernel_launcher.py:74: RuntimeWarning: invalid value encountered in less\n",
      "/project/cas/islas/miniconda3/envs/ecpaperenv/lib/python3.6/site-packages/ipykernel_launcher.py:75: RuntimeWarning: invalid value encountered in greater_equal\n",
      "/project/cas/islas/miniconda3/envs/ecpaperenv/lib/python3.6/site-packages/ipykernel_launcher.py:75: RuntimeWarning: invalid value encountered in less\n"
     ]
    },
    {
     "name": "stdout",
     "output_type": "stream",
     "text": [
      "nyears=12.0\n",
      "nyears=12.0\n",
      "nyears=12.0\n"
     ]
    },
    {
     "name": "stderr",
     "output_type": "stream",
     "text": [
      "/project/cas/islas/miniconda3/envs/ecpaperenv/lib/python3.6/site-packages/xarray/conventions.py:500: SerializationWarning: variable 'lat' has multiple fill values {1e+36, -900.0}, decoding all values to NaN.\n",
      "  decode_timedelta=decode_timedelta,\n",
      "/project/cas/islas/miniconda3/envs/ecpaperenv/lib/python3.6/site-packages/xarray/conventions.py:500: SerializationWarning: variable 'lon' has multiple fill values {1e+36, -900.0}, decoding all values to NaN.\n",
      "  decode_timedelta=decode_timedelta,\n"
     ]
    },
    {
     "name": "stdout",
     "output_type": "stream",
     "text": [
      "nyears=35.0\n",
      "nyears=35.0\n",
      "nyears=35.0\n",
      "nyears=35.0\n",
      "nyears=35.0\n",
      "nyears=35.0\n",
      "nyears=35.0\n",
      "nyears=35.0\n",
      "nyears=35.0\n",
      "nyears=35.0\n",
      "nyears=35.0\n",
      "nyears=35.0\n",
      "nyears=35.0\n",
      "nyears=35.0\n",
      "nyears=11.0\n",
      "nyears=11.0\n",
      "nyears=11.0\n"
     ]
    },
    {
     "name": "stderr",
     "output_type": "stream",
     "text": [
      "/project/cas/islas/miniconda3/envs/ecpaperenv/lib/python3.6/site-packages/xarray/conventions.py:500: SerializationWarning: variable 'lat' has multiple fill values {1e+36, -900.0}, decoding all values to NaN.\n",
      "  decode_timedelta=decode_timedelta,\n",
      "/project/cas/islas/miniconda3/envs/ecpaperenv/lib/python3.6/site-packages/xarray/conventions.py:500: SerializationWarning: variable 'lon' has multiple fill values {1e+36, -900.0}, decoding all values to NaN.\n",
      "  decode_timedelta=decode_timedelta,\n"
     ]
    },
    {
     "name": "stdout",
     "output_type": "stream",
     "text": [
      "nyears=35.0\n",
      "nyears=35.0\n",
      "nyears=35.0\n",
      "nyears=35.0\n",
      "nyears=35.0\n",
      "nyears=35.0\n",
      "nyears=35.0\n",
      "nyears=35.0\n",
      "nyears=35.0\n",
      "nyears=35.0\n",
      "nyears=35.0\n",
      "nyears=35.0\n",
      "nyears=35.0\n",
      "nyears=35.0\n"
     ]
    },
    {
     "name": "stderr",
     "output_type": "stream",
     "text": [
      "/project/cas/islas/miniconda3/envs/ecpaperenv/lib/python3.6/site-packages/ipykernel_launcher.py:73: RuntimeWarning: invalid value encountered in greater_equal\n",
      "/project/cas/islas/miniconda3/envs/ecpaperenv/lib/python3.6/site-packages/ipykernel_launcher.py:73: RuntimeWarning: invalid value encountered in less\n",
      "/project/cas/islas/miniconda3/envs/ecpaperenv/lib/python3.6/site-packages/ipykernel_launcher.py:74: RuntimeWarning: invalid value encountered in greater_equal\n",
      "/project/cas/islas/miniconda3/envs/ecpaperenv/lib/python3.6/site-packages/ipykernel_launcher.py:74: RuntimeWarning: invalid value encountered in less\n",
      "/project/cas/islas/miniconda3/envs/ecpaperenv/lib/python3.6/site-packages/ipykernel_launcher.py:74: RuntimeWarning: Mean of empty slice\n",
      "/project/cas/islas/miniconda3/envs/ecpaperenv/lib/python3.6/site-packages/ipykernel_launcher.py:75: RuntimeWarning: invalid value encountered in greater_equal\n",
      "/project/cas/islas/miniconda3/envs/ecpaperenv/lib/python3.6/site-packages/ipykernel_launcher.py:75: RuntimeWarning: invalid value encountered in less\n"
     ]
    },
    {
     "name": "stdout",
     "output_type": "stream",
     "text": [
      "nyears=16.0\n",
      "nyears=16.0\n",
      "nyears=16.0\n"
     ]
    },
    {
     "name": "stderr",
     "output_type": "stream",
     "text": [
      "/project/cas/islas/miniconda3/envs/ecpaperenv/lib/python3.6/site-packages/xarray/conventions.py:500: SerializationWarning: variable 'lat' has multiple fill values {1e+36, -900.0}, decoding all values to NaN.\n",
      "  decode_timedelta=decode_timedelta,\n",
      "/project/cas/islas/miniconda3/envs/ecpaperenv/lib/python3.6/site-packages/xarray/conventions.py:500: SerializationWarning: variable 'lon' has multiple fill values {1e+36, -900.0}, decoding all values to NaN.\n",
      "  decode_timedelta=decode_timedelta,\n"
     ]
    },
    {
     "name": "stdout",
     "output_type": "stream",
     "text": [
      "nyears=35.0\n",
      "nyears=35.0\n",
      "nyears=35.0\n",
      "nyears=35.0\n",
      "nyears=35.0\n",
      "nyears=35.0\n",
      "nyears=35.0\n",
      "nyears=35.0\n",
      "nyears=35.0\n",
      "nyears=35.0\n",
      "nyears=35.0\n",
      "nyears=35.0\n",
      "nyears=35.0\n",
      "nyears=35.0\n",
      "nyears=10.0\n",
      "nyears=10.0\n",
      "nyears=10.0\n"
     ]
    },
    {
     "name": "stderr",
     "output_type": "stream",
     "text": [
      "/project/cas/islas/miniconda3/envs/ecpaperenv/lib/python3.6/site-packages/xarray/conventions.py:500: SerializationWarning: variable 'lat' has multiple fill values {1e+36, -900.0}, decoding all values to NaN.\n",
      "  decode_timedelta=decode_timedelta,\n",
      "/project/cas/islas/miniconda3/envs/ecpaperenv/lib/python3.6/site-packages/xarray/conventions.py:500: SerializationWarning: variable 'lon' has multiple fill values {1e+36, -900.0}, decoding all values to NaN.\n",
      "  decode_timedelta=decode_timedelta,\n"
     ]
    },
    {
     "name": "stdout",
     "output_type": "stream",
     "text": [
      "nyears=35.0\n",
      "nyears=35.0\n",
      "nyears=35.0\n",
      "nyears=35.0\n",
      "nyears=35.0\n",
      "nyears=35.0\n",
      "nyears=35.0\n",
      "nyears=35.0\n",
      "nyears=35.0\n",
      "nyears=35.0\n",
      "nyears=35.0\n",
      "nyears=35.0\n",
      "nyears=35.0\n",
      "nyears=35.0\n",
      "nyears=21.0\n",
      "nyears=21.0\n",
      "nyears=21.0\n"
     ]
    },
    {
     "name": "stderr",
     "output_type": "stream",
     "text": [
      "/project/cas/islas/miniconda3/envs/ecpaperenv/lib/python3.6/site-packages/xarray/conventions.py:500: SerializationWarning: variable 'lat' has multiple fill values {1e+36, -900.0}, decoding all values to NaN.\n",
      "  decode_timedelta=decode_timedelta,\n",
      "/project/cas/islas/miniconda3/envs/ecpaperenv/lib/python3.6/site-packages/xarray/conventions.py:500: SerializationWarning: variable 'lon' has multiple fill values {1e+36, -900.0}, decoding all values to NaN.\n",
      "  decode_timedelta=decode_timedelta,\n"
     ]
    },
    {
     "name": "stdout",
     "output_type": "stream",
     "text": [
      "nyears=35.0\n",
      "nyears=35.0\n",
      "nyears=35.0\n",
      "nyears=35.0\n",
      "nyears=35.0\n",
      "nyears=35.0\n",
      "nyears=35.0\n",
      "nyears=35.0\n",
      "nyears=35.0\n",
      "nyears=35.0\n",
      "nyears=35.0\n",
      "nyears=35.0\n",
      "nyears=35.0\n",
      "nyears=35.0\n"
     ]
    },
    {
     "name": "stderr",
     "output_type": "stream",
     "text": [
      "/project/cas/islas/miniconda3/envs/ecpaperenv/lib/python3.6/site-packages/ipykernel_launcher.py:73: RuntimeWarning: invalid value encountered in greater_equal\n",
      "/project/cas/islas/miniconda3/envs/ecpaperenv/lib/python3.6/site-packages/ipykernel_launcher.py:73: RuntimeWarning: invalid value encountered in less\n",
      "/project/cas/islas/miniconda3/envs/ecpaperenv/lib/python3.6/site-packages/ipykernel_launcher.py:74: RuntimeWarning: invalid value encountered in greater_equal\n",
      "/project/cas/islas/miniconda3/envs/ecpaperenv/lib/python3.6/site-packages/ipykernel_launcher.py:74: RuntimeWarning: invalid value encountered in less\n",
      "/project/cas/islas/miniconda3/envs/ecpaperenv/lib/python3.6/site-packages/ipykernel_launcher.py:75: RuntimeWarning: invalid value encountered in greater_equal\n",
      "/project/cas/islas/miniconda3/envs/ecpaperenv/lib/python3.6/site-packages/ipykernel_launcher.py:75: RuntimeWarning: invalid value encountered in less\n"
     ]
    },
    {
     "name": "stdout",
     "output_type": "stream",
     "text": [
      "nyears=14.0\n",
      "nyears=14.0\n",
      "nyears=14.0\n"
     ]
    },
    {
     "name": "stderr",
     "output_type": "stream",
     "text": [
      "/project/cas/islas/miniconda3/envs/ecpaperenv/lib/python3.6/site-packages/xarray/conventions.py:500: SerializationWarning: variable 'lat' has multiple fill values {1e+36, -900.0}, decoding all values to NaN.\n",
      "  decode_timedelta=decode_timedelta,\n",
      "/project/cas/islas/miniconda3/envs/ecpaperenv/lib/python3.6/site-packages/xarray/conventions.py:500: SerializationWarning: variable 'lon' has multiple fill values {1e+36, -900.0}, decoding all values to NaN.\n",
      "  decode_timedelta=decode_timedelta,\n"
     ]
    },
    {
     "name": "stdout",
     "output_type": "stream",
     "text": [
      "nyears=35.0\n",
      "nyears=35.0\n",
      "nyears=35.0\n",
      "nyears=35.0\n",
      "nyears=35.0\n",
      "nyears=35.0\n",
      "nyears=35.0\n",
      "nyears=35.0\n",
      "nyears=35.0\n",
      "nyears=35.0\n",
      "nyears=35.0\n",
      "nyears=35.0\n",
      "nyears=35.0\n",
      "nyears=35.0\n"
     ]
    },
    {
     "name": "stderr",
     "output_type": "stream",
     "text": [
      "/project/cas/islas/miniconda3/envs/ecpaperenv/lib/python3.6/site-packages/ipykernel_launcher.py:73: RuntimeWarning: invalid value encountered in greater_equal\n",
      "/project/cas/islas/miniconda3/envs/ecpaperenv/lib/python3.6/site-packages/ipykernel_launcher.py:73: RuntimeWarning: invalid value encountered in less\n",
      "/project/cas/islas/miniconda3/envs/ecpaperenv/lib/python3.6/site-packages/ipykernel_launcher.py:74: RuntimeWarning: invalid value encountered in greater_equal\n",
      "/project/cas/islas/miniconda3/envs/ecpaperenv/lib/python3.6/site-packages/ipykernel_launcher.py:74: RuntimeWarning: invalid value encountered in less\n",
      "/project/cas/islas/miniconda3/envs/ecpaperenv/lib/python3.6/site-packages/ipykernel_launcher.py:75: RuntimeWarning: invalid value encountered in greater_equal\n",
      "/project/cas/islas/miniconda3/envs/ecpaperenv/lib/python3.6/site-packages/ipykernel_launcher.py:75: RuntimeWarning: invalid value encountered in less\n"
     ]
    },
    {
     "name": "stdout",
     "output_type": "stream",
     "text": [
      "nyears=12.0\n",
      "nyears=12.0\n",
      "nyears=12.0\n"
     ]
    },
    {
     "name": "stderr",
     "output_type": "stream",
     "text": [
      "/project/cas/islas/miniconda3/envs/ecpaperenv/lib/python3.6/site-packages/xarray/conventions.py:500: SerializationWarning: variable 'lat' has multiple fill values {1e+36, -900.0}, decoding all values to NaN.\n",
      "  decode_timedelta=decode_timedelta,\n",
      "/project/cas/islas/miniconda3/envs/ecpaperenv/lib/python3.6/site-packages/xarray/conventions.py:500: SerializationWarning: variable 'lon' has multiple fill values {1e+36, -900.0}, decoding all values to NaN.\n",
      "  decode_timedelta=decode_timedelta,\n"
     ]
    },
    {
     "name": "stdout",
     "output_type": "stream",
     "text": [
      "nyears=35.0\n",
      "nyears=35.0\n",
      "nyears=35.0\n",
      "nyears=35.0\n",
      "nyears=35.0\n",
      "nyears=35.0\n",
      "nyears=35.0\n",
      "nyears=35.0\n",
      "nyears=35.0\n",
      "nyears=35.0\n",
      "nyears=35.0\n",
      "nyears=35.0\n",
      "nyears=35.0\n",
      "nyears=35.0\n"
     ]
    },
    {
     "name": "stderr",
     "output_type": "stream",
     "text": [
      "/project/cas/islas/miniconda3/envs/ecpaperenv/lib/python3.6/site-packages/ipykernel_launcher.py:73: RuntimeWarning: invalid value encountered in greater_equal\n",
      "/project/cas/islas/miniconda3/envs/ecpaperenv/lib/python3.6/site-packages/ipykernel_launcher.py:73: RuntimeWarning: invalid value encountered in less\n",
      "/project/cas/islas/miniconda3/envs/ecpaperenv/lib/python3.6/site-packages/ipykernel_launcher.py:74: RuntimeWarning: invalid value encountered in greater_equal\n",
      "/project/cas/islas/miniconda3/envs/ecpaperenv/lib/python3.6/site-packages/ipykernel_launcher.py:74: RuntimeWarning: invalid value encountered in less\n",
      "/project/cas/islas/miniconda3/envs/ecpaperenv/lib/python3.6/site-packages/ipykernel_launcher.py:75: RuntimeWarning: invalid value encountered in greater_equal\n",
      "/project/cas/islas/miniconda3/envs/ecpaperenv/lib/python3.6/site-packages/ipykernel_launcher.py:75: RuntimeWarning: invalid value encountered in less\n"
     ]
    },
    {
     "name": "stdout",
     "output_type": "stream",
     "text": [
      "nyears=16.0\n",
      "nyears=16.0\n",
      "nyears=16.0\n"
     ]
    },
    {
     "name": "stderr",
     "output_type": "stream",
     "text": [
      "/project/cas/islas/miniconda3/envs/ecpaperenv/lib/python3.6/site-packages/xarray/conventions.py:500: SerializationWarning: variable 'lat' has multiple fill values {1e+36, -900.0}, decoding all values to NaN.\n",
      "  decode_timedelta=decode_timedelta,\n",
      "/project/cas/islas/miniconda3/envs/ecpaperenv/lib/python3.6/site-packages/xarray/conventions.py:500: SerializationWarning: variable 'lon' has multiple fill values {1e+36, -900.0}, decoding all values to NaN.\n",
      "  decode_timedelta=decode_timedelta,\n"
     ]
    },
    {
     "name": "stdout",
     "output_type": "stream",
     "text": [
      "nyears=35.0\n",
      "nyears=35.0\n",
      "nyears=35.0\n",
      "nyears=35.0\n",
      "nyears=35.0\n",
      "nyears=35.0\n",
      "nyears=35.0\n",
      "nyears=35.0\n",
      "nyears=35.0\n",
      "nyears=35.0\n",
      "nyears=35.0\n",
      "nyears=35.0\n",
      "nyears=35.0\n",
      "nyears=35.0\n",
      "nyears=12.0\n",
      "nyears=12.0\n",
      "nyears=12.0\n"
     ]
    },
    {
     "name": "stderr",
     "output_type": "stream",
     "text": [
      "/project/cas/islas/miniconda3/envs/ecpaperenv/lib/python3.6/site-packages/xarray/conventions.py:500: SerializationWarning: variable 'lat' has multiple fill values {1e+36, -900.0}, decoding all values to NaN.\n",
      "  decode_timedelta=decode_timedelta,\n",
      "/project/cas/islas/miniconda3/envs/ecpaperenv/lib/python3.6/site-packages/xarray/conventions.py:500: SerializationWarning: variable 'lon' has multiple fill values {1e+36, -900.0}, decoding all values to NaN.\n",
      "  decode_timedelta=decode_timedelta,\n"
     ]
    },
    {
     "name": "stdout",
     "output_type": "stream",
     "text": [
      "nyears=35.0\n",
      "nyears=35.0\n",
      "nyears=35.0\n",
      "nyears=35.0\n",
      "nyears=35.0\n",
      "nyears=35.0\n",
      "nyears=35.0\n",
      "nyears=35.0\n",
      "nyears=35.0\n",
      "nyears=35.0\n",
      "nyears=35.0\n",
      "nyears=35.0\n",
      "nyears=35.0\n",
      "nyears=35.0\n",
      "nyears=12.0\n",
      "nyears=12.0\n",
      "nyears=12.0\n"
     ]
    },
    {
     "name": "stderr",
     "output_type": "stream",
     "text": [
      "/project/cas/islas/miniconda3/envs/ecpaperenv/lib/python3.6/site-packages/xarray/conventions.py:500: SerializationWarning: variable 'lat' has multiple fill values {1e+36, -900.0}, decoding all values to NaN.\n",
      "  decode_timedelta=decode_timedelta,\n",
      "/project/cas/islas/miniconda3/envs/ecpaperenv/lib/python3.6/site-packages/xarray/conventions.py:500: SerializationWarning: variable 'lon' has multiple fill values {1e+36, -900.0}, decoding all values to NaN.\n",
      "  decode_timedelta=decode_timedelta,\n"
     ]
    },
    {
     "name": "stdout",
     "output_type": "stream",
     "text": [
      "nyears=35.0\n",
      "nyears=35.0\n",
      "nyears=35.0\n",
      "nyears=35.0\n",
      "nyears=35.0\n",
      "nyears=35.0\n",
      "nyears=35.0\n",
      "nyears=35.0\n",
      "nyears=35.0\n",
      "nyears=35.0\n",
      "nyears=35.0\n",
      "nyears=35.0\n",
      "nyears=35.0\n",
      "nyears=35.0\n",
      "nyears=9.0\n",
      "nyears=9.0\n",
      "nyears=9.0\n"
     ]
    },
    {
     "name": "stderr",
     "output_type": "stream",
     "text": [
      "/project/cas/islas/miniconda3/envs/ecpaperenv/lib/python3.6/site-packages/xarray/conventions.py:500: SerializationWarning: variable 'lat' has multiple fill values {1e+36, -900.0}, decoding all values to NaN.\n",
      "  decode_timedelta=decode_timedelta,\n",
      "/project/cas/islas/miniconda3/envs/ecpaperenv/lib/python3.6/site-packages/xarray/conventions.py:500: SerializationWarning: variable 'lon' has multiple fill values {1e+36, -900.0}, decoding all values to NaN.\n",
      "  decode_timedelta=decode_timedelta,\n"
     ]
    },
    {
     "name": "stdout",
     "output_type": "stream",
     "text": [
      "nyears=35.0\n",
      "nyears=35.0\n",
      "nyears=35.0\n",
      "nyears=35.0\n",
      "nyears=35.0\n",
      "nyears=35.0\n",
      "nyears=35.0\n",
      "nyears=35.0\n",
      "nyears=35.0\n",
      "nyears=35.0\n",
      "nyears=35.0\n",
      "nyears=35.0\n",
      "nyears=35.0\n",
      "nyears=35.0\n"
     ]
    },
    {
     "name": "stderr",
     "output_type": "stream",
     "text": [
      "/project/cas/islas/miniconda3/envs/ecpaperenv/lib/python3.6/site-packages/ipykernel_launcher.py:73: RuntimeWarning: invalid value encountered in greater_equal\n",
      "/project/cas/islas/miniconda3/envs/ecpaperenv/lib/python3.6/site-packages/ipykernel_launcher.py:73: RuntimeWarning: invalid value encountered in less\n",
      "/project/cas/islas/miniconda3/envs/ecpaperenv/lib/python3.6/site-packages/ipykernel_launcher.py:74: RuntimeWarning: invalid value encountered in greater_equal\n",
      "/project/cas/islas/miniconda3/envs/ecpaperenv/lib/python3.6/site-packages/ipykernel_launcher.py:74: RuntimeWarning: invalid value encountered in less\n",
      "/project/cas/islas/miniconda3/envs/ecpaperenv/lib/python3.6/site-packages/ipykernel_launcher.py:75: RuntimeWarning: invalid value encountered in greater_equal\n",
      "/project/cas/islas/miniconda3/envs/ecpaperenv/lib/python3.6/site-packages/ipykernel_launcher.py:75: RuntimeWarning: invalid value encountered in less\n"
     ]
    },
    {
     "name": "stdout",
     "output_type": "stream",
     "text": [
      "nyears=13.0\n",
      "nyears=13.0\n",
      "nyears=13.0\n"
     ]
    },
    {
     "name": "stderr",
     "output_type": "stream",
     "text": [
      "/project/cas/islas/miniconda3/envs/ecpaperenv/lib/python3.6/site-packages/xarray/conventions.py:500: SerializationWarning: variable 'lat' has multiple fill values {1e+36, -900.0}, decoding all values to NaN.\n",
      "  decode_timedelta=decode_timedelta,\n",
      "/project/cas/islas/miniconda3/envs/ecpaperenv/lib/python3.6/site-packages/xarray/conventions.py:500: SerializationWarning: variable 'lon' has multiple fill values {1e+36, -900.0}, decoding all values to NaN.\n",
      "  decode_timedelta=decode_timedelta,\n"
     ]
    },
    {
     "name": "stdout",
     "output_type": "stream",
     "text": [
      "nyears=35.0\n",
      "nyears=35.0\n",
      "nyears=35.0\n",
      "nyears=35.0\n",
      "nyears=35.0\n",
      "nyears=35.0\n",
      "nyears=35.0\n",
      "nyears=35.0\n",
      "nyears=35.0\n",
      "nyears=35.0\n",
      "nyears=35.0\n",
      "nyears=35.0\n",
      "nyears=35.0\n",
      "nyears=35.0\n"
     ]
    },
    {
     "name": "stderr",
     "output_type": "stream",
     "text": [
      "/project/cas/islas/miniconda3/envs/ecpaperenv/lib/python3.6/site-packages/ipykernel_launcher.py:73: RuntimeWarning: invalid value encountered in greater_equal\n",
      "/project/cas/islas/miniconda3/envs/ecpaperenv/lib/python3.6/site-packages/ipykernel_launcher.py:73: RuntimeWarning: invalid value encountered in less\n",
      "/project/cas/islas/miniconda3/envs/ecpaperenv/lib/python3.6/site-packages/ipykernel_launcher.py:74: RuntimeWarning: invalid value encountered in greater_equal\n",
      "/project/cas/islas/miniconda3/envs/ecpaperenv/lib/python3.6/site-packages/ipykernel_launcher.py:74: RuntimeWarning: invalid value encountered in less\n",
      "/project/cas/islas/miniconda3/envs/ecpaperenv/lib/python3.6/site-packages/ipykernel_launcher.py:75: RuntimeWarning: invalid value encountered in greater_equal\n",
      "/project/cas/islas/miniconda3/envs/ecpaperenv/lib/python3.6/site-packages/ipykernel_launcher.py:75: RuntimeWarning: invalid value encountered in less\n"
     ]
    },
    {
     "name": "stdout",
     "output_type": "stream",
     "text": [
      "nyears=14.0\n",
      "nyears=14.0\n",
      "nyears=14.0\n"
     ]
    },
    {
     "name": "stderr",
     "output_type": "stream",
     "text": [
      "/project/cas/islas/miniconda3/envs/ecpaperenv/lib/python3.6/site-packages/xarray/conventions.py:500: SerializationWarning: variable 'lat' has multiple fill values {1e+36, -900.0}, decoding all values to NaN.\n",
      "  decode_timedelta=decode_timedelta,\n",
      "/project/cas/islas/miniconda3/envs/ecpaperenv/lib/python3.6/site-packages/xarray/conventions.py:500: SerializationWarning: variable 'lon' has multiple fill values {1e+36, -900.0}, decoding all values to NaN.\n",
      "  decode_timedelta=decode_timedelta,\n"
     ]
    },
    {
     "name": "stdout",
     "output_type": "stream",
     "text": [
      "nyears=35.0\n",
      "nyears=35.0\n",
      "nyears=35.0\n",
      "nyears=35.0\n",
      "nyears=35.0\n",
      "nyears=35.0\n",
      "nyears=35.0\n",
      "nyears=35.0\n",
      "nyears=35.0\n",
      "nyears=35.0\n",
      "nyears=35.0\n",
      "nyears=35.0\n",
      "nyears=35.0\n",
      "nyears=35.0\n",
      "nyears=15.0\n",
      "nyears=15.0\n",
      "nyears=15.0\n"
     ]
    },
    {
     "name": "stderr",
     "output_type": "stream",
     "text": [
      "/project/cas/islas/miniconda3/envs/ecpaperenv/lib/python3.6/site-packages/xarray/conventions.py:500: SerializationWarning: variable 'lat' has multiple fill values {1e+36, -900.0}, decoding all values to NaN.\n",
      "  decode_timedelta=decode_timedelta,\n",
      "/project/cas/islas/miniconda3/envs/ecpaperenv/lib/python3.6/site-packages/xarray/conventions.py:500: SerializationWarning: variable 'lon' has multiple fill values {1e+36, -900.0}, decoding all values to NaN.\n",
      "  decode_timedelta=decode_timedelta,\n"
     ]
    },
    {
     "name": "stdout",
     "output_type": "stream",
     "text": [
      "nyears=35.0\n",
      "nyears=35.0\n",
      "nyears=35.0\n",
      "nyears=35.0\n",
      "nyears=35.0\n",
      "nyears=35.0\n",
      "nyears=35.0\n",
      "nyears=35.0\n",
      "nyears=35.0\n",
      "nyears=35.0\n",
      "nyears=35.0\n",
      "nyears=35.0\n",
      "nyears=35.0\n",
      "nyears=35.0\n"
     ]
    },
    {
     "name": "stderr",
     "output_type": "stream",
     "text": [
      "/project/cas/islas/miniconda3/envs/ecpaperenv/lib/python3.6/site-packages/ipykernel_launcher.py:73: RuntimeWarning: invalid value encountered in greater_equal\n",
      "/project/cas/islas/miniconda3/envs/ecpaperenv/lib/python3.6/site-packages/ipykernel_launcher.py:73: RuntimeWarning: invalid value encountered in less\n",
      "/project/cas/islas/miniconda3/envs/ecpaperenv/lib/python3.6/site-packages/ipykernel_launcher.py:74: RuntimeWarning: invalid value encountered in greater_equal\n",
      "/project/cas/islas/miniconda3/envs/ecpaperenv/lib/python3.6/site-packages/ipykernel_launcher.py:74: RuntimeWarning: invalid value encountered in less\n",
      "/project/cas/islas/miniconda3/envs/ecpaperenv/lib/python3.6/site-packages/ipykernel_launcher.py:75: RuntimeWarning: invalid value encountered in greater_equal\n",
      "/project/cas/islas/miniconda3/envs/ecpaperenv/lib/python3.6/site-packages/ipykernel_launcher.py:75: RuntimeWarning: invalid value encountered in less\n"
     ]
    }
   ],
   "source": [
    "# read in the stations\n",
    "stations = [os.path.basename(x) for x in glob(datadir+'/*')]\n",
    "count=0\n",
    "for istation in stations:\n",
    "    name  = istation[0:6]\n",
    "    \n",
    "    # read fluxnet data\n",
    "    fname = datadir+'/'+istation\n",
    "    fnet_trefht, fnet_shflx, fnet_netrad, nyears = sortfnetdata(fname)\n",
    "    \n",
    "    # read in the CESM Data\n",
    "    fname = datadircesm+'/'+istation\n",
    "    cesmdat = xr.open_dataset(fname)\n",
    "    \n",
    "    clm5_trefht = calcdeseas(cesmdat.clm5_trefht)\n",
    "    clm5_shflx = calcdeseas(cesmdat.clm5_shflx)\n",
    "    clm5_fgr = calcdeseas(cesmdat.clm5_fgr)\n",
    "    clm5_flns = calcdeseas(cesmdat.clm5_flns)\n",
    "    clm5_fsns = calcdeseas(cesmdat.clm5_fsns)\n",
    "    clm5_lhflx = calcdeseas(cesmdat.clm5_lhflx)\n",
    "    netrad = cesmdat.clm5_flns - cesmdat.clm5_fsns\n",
    "    clm5_netrad = calcdeseas(netrad)\n",
    "        \n",
    "    snowd_trefht = calcdeseas(cesmdat.snowd_trefht)\n",
    "    snowd_shflx = calcdeseas(cesmdat.snowd_shflx)\n",
    "    snowd_fgr = calcdeseas(cesmdat.snowd_fgr)\n",
    "    snowd_flns = calcdeseas(cesmdat.snowd_flns)\n",
    "    snowd_fsns = calcdeseas(cesmdat.snowd_fsns)\n",
    "    snowd_lhflx = calcdeseas(cesmdat.snowd_lhflx)\n",
    "    netrad = cesmdat.snowd_flns - cesmdat.snowd_fsns\n",
    "    snowd_netrad = calcdeseas(netrad)\n",
    "    \n",
    "    # calculate ptile bin ranges\n",
    "    nblocks=10\n",
    "    binmin = np.empty([nblocks]) ; binmax = np.empty([nblocks])\n",
    "    for iblock in np.arange(0,nblocks,1):\n",
    "        binmin[iblock] = np.percentile(clm5_trefht,iblock*10)\n",
    "        binmax[iblock] = np.percentile(clm5_trefht,iblock*10+10)\n",
    "        if (iblock == 0):\n",
    "            binmin[iblock] = np.percentile(clm5_trefht,1)\n",
    "        if (iblock == (nblocks-1)):\n",
    "            binmax[iblock] = np.percentile(clm5_trefht,99)\n",
    "    \n",
    "    if (count == 0):\n",
    "        nyearsout = np.zeros([len(stations)])\n",
    "        stationnameout=[]\n",
    "        lonout = np.zeros([len(stations)])\n",
    "        latout = np.zeros([len(stations)])\n",
    "        trefhtcomp_clm5 = np.zeros([nblocks,len(stations)])\n",
    "        shflxcomp_clm5 = np.zeros([nblocks,len(stations)])\n",
    "        fgrcomp_clm5 = np.zeros([nblocks, len(stations)])\n",
    "        netradcomp_clm5 = np.zeros([nblocks, len(stations)])\n",
    "        trefhtcomp_snowd = np.zeros([nblocks,len(stations)])\n",
    "        shflxcomp_snowd = np.zeros([nblocks,len(stations)])\n",
    "        fgrcomp_snowd = np.zeros([nblocks, len(stations)])\n",
    "        netradcomp_snowd = np.zeros([nblocks, len(stations)])\n",
    "        trefhtcomp_fnet = np.zeros([nblocks,len(stations)])\n",
    "        shflxcomp_fnet = np.zeros([nblocks,len(stations)])\n",
    "        netradcomp_fnet = np.zeros([nblocks, len(stations)])\n",
    "        \n",
    "    for iblock in np.arange(0,nblocks,1):\n",
    "        \n",
    "        trefhtcomp_clm5[iblock,count] = (clm5_trefht[ (clm5_trefht >= binmin[iblock]) & (clm5_trefht <binmax[iblock])]).mean()\n",
    "        shflxcomp_clm5[iblock,count] = (clm5_shflx[ (clm5_trefht >= binmin[iblock]) & (clm5_trefht < binmax[iblock])]).mean()\n",
    "        fgrcomp_clm5[iblock,count] = (clm5_fgr[ (clm5_trefht >= binmin[iblock]) & (clm5_trefht < binmax[iblock])]).mean()\n",
    "        netradcomp_clm5[iblock,count] = (clm5_netrad[(clm5_trefht >= binmin[iblock]) & (clm5_trefht < binmax[iblock])]).mean()\n",
    "        \n",
    "        trefhtcomp_snowd[iblock,count] = (snowd_trefht[ (snowd_trefht >= binmin[iblock]) & (snowd_trefht <binmax[iblock])]).mean()\n",
    "        shflxcomp_snowd[iblock,count] = (snowd_shflx[ (snowd_trefht >= binmin[iblock]) & (snowd_trefht < binmax[iblock])]).mean()\n",
    "        fgrcomp_snowd[iblock,count] = (snowd_fgr[ (snowd_trefht >= binmin[iblock]) & (snowd_trefht < binmax[iblock])]).mean()\n",
    "        netradcomp_snowd[iblock,count] = (snowd_netrad[(snowd_trefht >= binmin[iblock]) & (snowd_trefht < binmax[iblock])]).mean()\n",
    "        \n",
    "        trefhtcomp_fnet[iblock,count] = np.nanmean(fnet_trefht[ (fnet_trefht >= binmin[iblock]) & (fnet_trefht < binmax[iblock])])\n",
    "        shflxcomp_fnet[iblock,count] = np.nanmean(fnet_shflx[ (fnet_trefht >= binmin[iblock]) & (fnet_trefht < binmax[iblock])]) \n",
    "        netradcomp_fnet[iblock,count] = np.nanmean(fnet_netrad[ (fnet_trefht >= binmin[iblock]) & (fnet_trefht < binmax[iblock])])\n",
    "        \n",
    "    stationnameout.append(name)\n",
    "    lonout[count] = cesmdat.lon.values\n",
    "    latout[count] = cesmdat.lat.values\n",
    "    nyearsout[count] = nyears\n",
    "        \n",
    "    count=count+1"
   ]
  },
  {
   "cell_type": "code",
   "execution_count": 13,
   "metadata": {},
   "outputs": [
    {
     "name": "stdout",
     "output_type": "stream",
     "text": [
      "11\n"
     ]
    }
   ],
   "source": [
    "print(nyears)"
   ]
  },
  {
   "cell_type": "code",
   "execution_count": 15,
   "metadata": {},
   "outputs": [
    {
     "name": "stdout",
     "output_type": "stream",
     "text": [
      "(990,)\n"
     ]
    }
   ],
   "source": [
    "print(fnet_trefht.shape)"
   ]
  },
  {
   "cell_type": "code",
   "execution_count": 16,
   "metadata": {},
   "outputs": [],
   "source": [
    "ptile = np.arange(0,10,1)+0.5\n",
    "trefhtcomp_clm5_xr = xr.DataArray(trefhtcomp_clm5, name='trefhtcomp_clm5', coords=[ptile, stationnameout], dims=['ptile','station'])\n",
    "shflxcomp_clm5_xr = xr.DataArray(shflxcomp_clm5, name='shflxcomp_clm5', coords = [ptile, stationnameout], dims=['ptile','station'])\n",
    "fgrcomp_clm5_xr = xr.DataArray(fgrcomp_clm5, name='fgrcomp_clm5', coords=[ptile, stationnameout], dims=['ptile','station'])\n",
    "netradcomp_clm5_xr = xr.DataArray(netradcomp_clm5, name='netradcomp_clm5', coords=[ptile, stationnameout], dims=['ptile','station'])\n",
    "trefhtcomp_snowd_xr = xr.DataArray(trefhtcomp_snowd, name='trefhtcomp_snowd', coords=[ptile, stationnameout], dims=['ptile','station'])\n",
    "shflxcomp_snowd_xr = xr.DataArray(shflxcomp_snowd, name='shflxcomp_snowd', coords=[ptile, stationnameout], dims=['ptile','station'])\n",
    "fgrcomp_snowd_xr = xr.DataArray(fgrcomp_snowd, name='fgrcomp_snowd', coords=[ptile, stationnameout], dims=['ptile','station'])\n",
    "netradcomp_snowd_xr = xr.DataArray(netradcomp_snowd, name='netradcomp_snowd', coords=[ptile, stationnameout], dims=['ptile','station'])\n",
    "trefhtcomp_fnet_xr = xr.DataArray(trefhtcomp_fnet, name='trefhtcomp_fnet', coords=[ptile, stationnameout], dims=['ptile','station'])\n",
    "shflxcomp_fnet_xr = xr.DataArray(shflxcomp_fnet, name='shflxcomp_fnet', coords=[ptile, stationnameout], dims=['ptile','station'])\n",
    "netradcomp_fnet_xr = xr.DataArray(netradcomp_fnet, name='netradcomp_fnet', coords=[ptile, stationnameout], dims=['ptile','station'])\n",
    "lon_xr = xr.DataArray(lonout, name='lon', coords=[stationnameout], dims=['station'])\n",
    "lat_xr = xr.DataArray(latout, name='lat', coords=[stationnameout], dims=['station'])\n",
    "nyears_xr = xr.DataArray(nyearsout, name='nyears', coords=[stationnameout], dims=['station'])\n",
    "\n",
    "\n",
    "trefhtcomp_clm5_xr.to_netcdf(path=outfile)\n",
    "shflxcomp_clm5_xr.to_netcdf(path=outfile,mode=\"a\")\n",
    "fgrcomp_clm5_xr.to_netcdf(path=outfile,mode=\"a\")\n",
    "netradcomp_clm5_xr.to_netcdf(path=outfile,mode=\"a\")\n",
    "trefhtcomp_snowd_xr.to_netcdf(path=outfile,mode=\"a\")\n",
    "shflxcomp_snowd_xr.to_netcdf(path=outfile,mode=\"a\")\n",
    "fgrcomp_snowd_xr.to_netcdf(path=outfile,mode=\"a\")\n",
    "netradcomp_snowd_xr.to_netcdf(path=outfile,mode=\"a\")\n",
    "trefhtcomp_fnet_xr.to_netcdf(path=outfile,mode=\"a\")\n",
    "shflxcomp_fnet_xr.to_netcdf(path=outfile,mode=\"a\")\n",
    "netradcomp_fnet_xr.to_netcdf(path=outfile,mode=\"a\")\n",
    "lon_xr.to_netcdf(path=outfile, mode=\"a\")\n",
    "lat_xr.to_netcdf(path=outfile, mode=\"a\")\n",
    "nyears_xr.to_netcdf(path=outfile, mode=\"a\")"
   ]
  }
 ],
 "metadata": {
  "kernelspec": {
   "display_name": "Python [conda env:ecpaperenv]",
   "language": "python",
   "name": "conda-env-ecpaperenv-py"
  },
  "language_info": {
   "codemirror_mode": {
    "name": "ipython",
    "version": 3
   },
   "file_extension": ".py",
   "mimetype": "text/x-python",
   "name": "python",
   "nbconvert_exporter": "python",
   "pygments_lexer": "ipython3",
   "version": "3.6.11"
  }
 },
 "nbformat": 4,
 "nbformat_minor": 4
}
