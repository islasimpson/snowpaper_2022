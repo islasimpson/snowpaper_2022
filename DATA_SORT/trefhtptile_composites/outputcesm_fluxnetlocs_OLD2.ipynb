{
 "cells": [
  {
   "cell_type": "markdown",
   "metadata": {},
   "source": [
    "output composites based on TREFHT percentiles"
   ]
  },
  {
   "cell_type": "code",
   "execution_count": 1,
   "metadata": {},
   "outputs": [
    {
     "data": {
      "text/plain": [
       "<module 'CASutils.calendar_utils' from '/home/islas/python/CASanalysis/CASutils/calendar_utils.py'>"
      ]
     },
     "execution_count": 1,
     "metadata": {},
     "output_type": "execute_result"
    }
   ],
   "source": [
    "import importlib\n",
    "import xarray as xr\n",
    "import numpy as np\n",
    "import pandas as pd\n",
    "import matplotlib.pyplot as plt\n",
    "import sys\n",
    "\n",
    "from CASutils import filter_utils as filt\n",
    "from CASutils import calendar_utils as cal\n",
    "\n",
    "importlib.reload(filt)\n",
    "importlib.reload(cal)"
   ]
  },
  {
   "cell_type": "code",
   "execution_count": 10,
   "metadata": {},
   "outputs": [],
   "source": [
    "# deseasonalize by filtering out the first 4 harmonics of the seasonal cycle and then removing the seasonal mean of each year\n",
    "def calcdeseas(da):\n",
    "    datseas = da.groupby('time.dayofyear').mean('time')\n",
    "    dat4harm = filt.calc_season_nharm(datseas, 4, dimtime=0)\n",
    "    anoms = da.groupby('time.dayofyear') - dat4harm\n",
    "    datdeseas = cal.group_season_daily(anoms, 'DJF')\n",
    "    seasmean = datdeseas.mean('day')\n",
    "    datdeseas = datdeseas - seasmean\n",
    "    datdeseas = np.array(datdeseas).flatten()\n",
    "    return datdeseas"
   ]
  },
  {
   "cell_type": "code",
   "execution_count": 31,
   "metadata": {},
   "outputs": [],
   "source": [
    "def sortfnetdata(fnetdata):\n",
    "    data = xr.open_dataset(fnetdata)\n",
    "    data = data.sel(time=~((data.time.dt.month == 2) & (data.time.dt.day == 29)))\n",
    "    \n",
    "    #quality control\n",
    "    shflx = data.shflx.where(data.shflx_qc > 0.5)\n",
    "    tas = data.tas.where(data.tas_qc > 0.5)\n",
    "    g = data.g.where( (data.g_qc > 0.5) & (data.g > -999))\n",
    "    netrad = data.netrad.where( (data.netrad_qc > 0.5))\n",
    "    \n",
    "    daystr = xr.DataArray(data.indexes['time'].strftime('%m-%d'), coords = data.time.coords, name='daystr')\n",
    "    \n",
    "    shflxseason = shflx.groupby(daystr).mean('time', skipna=True)\n",
    "    shflx4harm = filt.calc_season_nharm(shflxseason, 4, dimtime=0)\n",
    "    shflxanoms = shflx.groupby(daystr) - shflx4harm\n",
    "\n",
    "    tasseason = tas.groupby(daystr).mean('time', skipna=True)\n",
    "    tas4harm = filt.calc_season_nharm(tasseason, 4, dimtime=0)\n",
    "    tasanoms = tas.groupby(daystr) - tas4harm\n",
    "    \n",
    "    #gseason = g.groupby(daystr).mean('time', skipna=True)\n",
    "    #g4harm = filt.calc_season_nharm(gseason, 4, dimtime=0)\n",
    "    #ganoms = g.groupby(daystr) - g4harm\n",
    "\n",
    "    netradseason = netrad.groupby(daystr).mean('time', skipna=True)\n",
    "    netrad4harm = filt.calc_season_nharm(netradseason, 4, dimtime=0)\n",
    "    netradanoms = netrad.groupby(daystr) - netrad4harm\n",
    "    \n",
    "\n",
    "    djfshflx = cal.group_season_daily(shflxanoms, 'DJF')\n",
    "    djfshflxm = djfshflx.mean('day', skipna=True)\n",
    "    djfshflx = djfshflx - djfshflxm\n",
    "\n",
    "    djftas = cal.group_season_daily(tasanoms, 'DJF')\n",
    "    djftasm = djftas.mean('day', skipna=True)\n",
    "    djftas = djftas - djftasm\n",
    "    \n",
    "    #djfg = cal.group_season_daily(ganoms, 'DJF')\n",
    "    #djfgm = djfg.mean('day', skipna=True)\n",
    "    #djfg = djfg - djfgm\n",
    "    \n",
    "    djfnetrad = cal.group_season_daily(netradanoms, 'DJF')\n",
    "    djfnetradm = djfnetrad.mean('day', skipna=True)\n",
    "    djfnetrad = djfnetrad - djfnetradm    \n",
    "    \n",
    "    djftas = np.array(djftas).flatten()\n",
    "    djfshflx = np.array(djfshflx).flatten()\n",
    "    #djfg = np.array(djfg).flatten()\n",
    "    djfnetrad = np.array(djfnetrad).flatten()\n",
    "    \n",
    "    return djftas, djfshflx, djfnetrad"
   ]
  },
  {
   "cell_type": "code",
   "execution_count": 33,
   "metadata": {},
   "outputs": [],
   "source": [
    "# fluxnet station info\n",
    "stationinfo = pd.read_csv(\"/home/islas/python/fluxnet/stationinfo_long.csv\")\n",
    "fnetdir=\"/project/cas/islas/savs/python/fluxnet/\"\n",
    "#lonstat = stationinfo.loc[0,'Lon']\n",
    "#latstat = stationinfo.loc[0,'Lat']\n",
    "#if (lonstat < 0):\n",
    "#    lonstat = 360+lonstat"
   ]
  },
  {
   "cell_type": "code",
   "execution_count": null,
   "metadata": {},
   "outputs": [],
   "source": [
    "for index, station in stationinfo.Station.iteritems():\n",
    "    print(station)\n",
    "    lonstat = stationinfo.loc[index,'Lon']\n",
    "    latstat = stationinfo.loc[index,'Lat']\n",
    "    yrange = stationinfo.loc[index,'yrange']\n",
    "    fend = stationinfo.loc[index,'fend']\n",
    "\n",
    "    try:\n",
    "        if (math.isnans(fend)):\n",
    "            fend=\"1-4\"\n",
    "    except:\n",
    "        pass\n",
    "    \n",
    "    fnamefluxnet=fnetdir+station+\".nc\"\n",
    "    \n",
    "    print(fnamefluxnet)\n",
    "\n",
    "    # get the fluxnet data\n",
    "    fnet_trefht, fnet_shflx, fnet_netrad = sortfnetdata(fnamefluxnet)\n",
    "    \n",
    "    if (lonstat < 0):\n",
    "        lonstat = 360+lonstat\n",
    "    \n",
    "    # get the CESM data\n",
    "    cesmdat = xr.open_dataset(\"/project/cas02/islas/CLM5_CLM4/fluxnetlocs/\"+station+\".nc\")\n",
    "    clm5_trefht = calcdeseas(cesmdat.clm5_trefht)\n",
    "    clm5_shflx = calcdeseas(cesmdat.clm5_shflx)\n",
    "    clm5_fgr = calcdeseas(cesmdat.clm5_fgr)\n",
    "    clm5_flns = calcdeseas(cesmdat.clm5_flns)\n",
    "    clm5_fsns = calcdeseas(cesmdat.clm5_fsns)\n",
    "    clm5_lhflx = calcdeseas(cesmdat.clm5_lhflx)\n",
    "    clm5_netrad = clm5_flns - clm5_fsns\n",
    "    \n",
    "    \n",
    "    snowd_trefht = calcdeseas(cesmdat.snowd_trefht)\n",
    "    snowd_shflx = calcdeseas(cesmdat.snowd_shflx)\n",
    "    snowd_fgr = calcdeseas(cesmdat.snowd_fgr)\n",
    "    snowd_flns = calcdeseas(cesmdat.snowd_flns)\n",
    "    snowd_fsns = calcdeseas(cesmdat.snowd_fsns)\n",
    "    snowd_lhflx = calcdeseas(cesmdat.snowd_lhflx)\n",
    "    snowd_netrad = snowd_flns - snowd_fsns\n",
    "    \n",
    "    # calculate ptile bin ranges\n",
    "    nblocks=10\n",
    "    binmin = np.empty([nblocks]) ; binmax = np.empty([nblocks])\n",
    "    for iblock in np.arange(0,nblocks,1):\n",
    "        binmin[iblock] = np.percentile(clm5_trefht,iblock*10)\n",
    "        binmax[iblock] = np.percentile(clm5_trefht,iblock*10+10)\n",
    "        if (iblock == 0):\n",
    "            binmin[iblock] = np.percentile(clm5_trefht,1)\n",
    "        if (iblock == (nblocks-1)):\n",
    "            binmax[iblock] = np.percentile(clm5_trefht,99)\n",
    "            \n",
    "    if (index == 0):\n",
    "        trefhtcomp_clm5 = np.zeros([nblocks,len(stationinfo.Station)])\n",
    "        shflxcomp_clm5 = np.zeros([nblocks,len(stationinfo.Station)])\n",
    "        fgrcomp_clm5 = np.zeros([nblocks, len(stationinfo.Station)])\n",
    "        netradcomp_clm5 = np.zeros([nblocks, len(stationinfo.Station)])\n",
    "        trefhtcomp_snowd = np.zeros([nblocks,len(stationinfo.Station)])\n",
    "        shflxcomp_snowd = np.zeros([nblocks,len(stationinfo.Station)])\n",
    "        fgrcomp_snowd = np.zeros([nblocks, len(stationinfo.Station)])\n",
    "        netradcomp_snowd = np.zeros([nblocks, len(stationinfo.Station)])\n",
    "        trefhtcomp_fnet = np.zeros([nblocks,len(stationinfo.Station)])\n",
    "        shflxcomp_fnet = np.zeros([nblocks,len(stationinfo.Station)])\n",
    "        #gcomp_fnet = np.zeros([nblocks, len(stationinfo.Station)])\n",
    "        netradcomp_fnet = np.zeros([nblocks, len(stationinfo.Station)])\n",
    "\n",
    "    for iblock in np.arange(0,nblocks,1):\n",
    "        trefhtcomp_clm5[iblock,index] = (clm5_trefht[ (clm5_trefht >= binmin[iblock]) & (clm5_trefht <binmax[iblock])]).mean()\n",
    "        shflxcomp_clm5[iblock,index] = (clm5_shflx[ (clm5_trefht >= binmin[iblock]) & (clm5_trefht < binmax[iblock])]).mean()\n",
    "        fgrcomp_clm5[iblock,index] = (clm5_fgr[ (clm5_trefht >= binmin[iblock]) & (clm5_trefht < binmax[iblock])]).mean()\n",
    "        netradcomp_clm5[iblock,index] = (clm5_netrad[(clm5_trefht >= binmin[iblock]) & (clm5_trefht < binmax[iblock])]).mean()\n",
    "        \n",
    "        trefhtcomp_snowd[iblock,index] = (snowd_trefht[ (snowd_trefht >= binmin[iblock]) & (snowd_trefht <binmax[iblock])]).mean()\n",
    "        shflxcomp_snowd[iblock,index] = (snowd_shflx[ (snowd_trefht >= binmin[iblock]) & (snowd_trefht < binmax[iblock])]).mean()\n",
    "        fgrcomp_snowd[iblock,index] = (snowd_fgr[ (snowd_trefht >= binmin[iblock]) & (snowd_trefht < binmax[iblock])]).mean()\n",
    "        netradcomp_snowd[iblock,index] = (snowd_netrad[(clm5_trefht >= binmin[iblock]) & (snowd_trefht < binmax[iblock])]).mean()\n",
    "        \n",
    "        #trefhtcomp_fnet[iblock,index] = (fnet_trefht[ (fnet_trefht >= binmin[iblock]) & (fnet_trefht <binmax[iblock])]).mean()\n",
    "        #shflxcomp_fnet[iblock,index] = (fnet_shflx[ (fnet_trefht >= binmin[iblock]) & (fnet_trefht < binmax[iblock])]).mean()\n",
    "        trefhtcomp_fnet[iblock,index] = np.nanmean(fnet_trefht[ (fnet_trefht >= binmin[iblock]) & (fnet_trefht < binmax[iblock])])\n",
    "        shflxcomp_fnet[iblock,index] = np.nanmean(fnet_shflx[ (fnet_trefht >= binmin[iblock]) & (fnet_trefht < binmax[iblock])]) \n",
    "        #gcomp_fnet[iblock,index] = np.nanmean(fnet_g[ (fnet_trefht >= binmin[iblock]) & (fnet_trefht < binmax[iblock])])\n",
    "        netradcomp_fnet[iblock,index] = np.nanmean(fnet_netrad[ (fnet_trefht >= binmin[iblock]) & (fnet_trefht < binmax[iblock])])"
   ]
  },
  {
   "cell_type": "code",
   "execution_count": 15,
   "metadata": {},
   "outputs": [],
   "source": [
    "def plotcomposite(data, titlestr, ylabelstr, x1, x2, y1, y2, color=\"red\", yticks=None, yticknames=None):\n",
    "    ax = fig.add_axes(np.array([x1, y1, (x2-x1), (y2-y1)]))\n",
    "    ax.plot(np.arange(0,10,1)+0.5, data, \"o\", markerfacecolor=color, markeredgecolor=\"black\", markersize=10, markeredgewidth=2)\n",
    "    ax.set_xticks(list(np.arange(0,10,1)+0.5))\n",
    "    ax.set_xticklabels(['0-10','10-20','20-30','30-40','40-50','50-60','60-70','70-80','80-90','90-100'], rotation=60, ha=\"right\", rotation_mode=\"anchor\")\n",
    "    ax.set_title(titlestr)\n",
    "    ax.set_xlabel('CLM5 percentile bin', fontsize=14)\n",
    "    ax.set_ylabel(ylabelstr, fontsize=14)\n",
    "    return ax\n",
    "\n",
    "def oplotcomposite(ax, data, color=\"blue\"):\n",
    "    ax.plot(np.arange(0,10,1)+0.5, data, \"o\", markerfacecolor=color, markeredgecolor=\"black\", markersize=10, markeredgewidth=2)\n",
    "    return ax"
   ]
  },
  {
   "cell_type": "code",
   "execution_count": 56,
   "metadata": {},
   "outputs": [
    {
     "name": "stdout",
     "output_type": "stream",
     "text": [
      "[nan nan nan nan nan nan nan nan nan nan]\n"
     ]
    }
   ],
   "source": [
    "print(shflxcomp_fnet[:,7])"
   ]
  },
  {
   "cell_type": "code",
   "execution_count": 57,
   "metadata": {},
   "outputs": [
    {
     "data": {
      "image/png": "[encoded data removed]",
      "text/plain": [
       "<Figure size 1152x1152 with 1 Axes>"
      ]
     },
     "metadata": {
      "needs_background": "light"
     },
     "output_type": "display_data"
    }
   ],
   "source": [
    "fig = plt.figure(figsize=(16,16))\n",
    "ax = plotcomposite(shflxcomp_snowd[:,8], \"SHFLX\", \"SHFLX\", 0.05,0.3,0.8,0.97)\n",
    "ax = oplotcomposite(ax, shflxcomp_clm5[:,8], color=\"blue\")\n",
    "ax = oplotcomposite(ax, shflxcomp_fnet[:,8], color=\"green\")"
   ]
  },
  {
   "cell_type": "code",
   "execution_count": 48,
   "metadata": {},
   "outputs": [
    {
     "name": "stdout",
     "output_type": "stream",
     "text": [
      "[11.00543404  8.25522423  7.01336622  5.83372307  4.55221748  3.44022918\n",
      "  2.76923895  1.98618245  0.64198995 -1.14642894]\n"
     ]
    }
   ],
   "source": [
    "print(netradcomp_snowd[:,8])"
   ]
  },
  {
   "cell_type": "code",
   "execution_count": 46,
   "metadata": {},
   "outputs": [
    {
     "data": {
      "image/png": "[encoded data removed]",
      "text/plain": [
       "<Figure size 1152x1152 with 1 Axes>"
      ]
     },
     "metadata": {
      "needs_background": "light"
     },
     "output_type": "display_data"
    }
   ],
   "source": [
    "fig = plt.figure(figsize=(16,16))\n",
    "ax = plotcomposite(netradcomp_snowd[:,8], \"FGR\", \"FGR\", 0.05,0.3,0.8,0.97)\n",
    "ax = oplotcomposite(ax, netradcomp_clm5[:,8], color=\"blue\")\n",
    "ax = oplotcomposite(ax, netradcomp_fnet[:,8], color=\"green\")"
   ]
  },
  {
   "cell_type": "code",
   "execution_count": 47,
   "metadata": {},
   "outputs": [
    {
     "data": {
      "text/plain": [
       "Text(0, 0.5, 'TREFHT (K)')"
      ]
     },
     "execution_count": 47,
     "metadata": {},
     "output_type": "execute_result"
    },
    {
     "data": {
      "image/png": "[encoded data removed]",
      "text/plain": [
       "<Figure size 1152x1152 with 1 Axes>"
      ]
     },
     "metadata": {
      "needs_background": "light"
     },
     "output_type": "display_data"
    }
   ],
   "source": [
    "fig = plt.figure(figsize=(16, 16))\n",
    "\n",
    "xticks = list(np.arange(0,10,1)+0.5)\n",
    "\n",
    "ax = fig.add_axes(np.array([0.05,0.05,0.3,0.3]))\n",
    "ax.plot(np.arange(0,10,1)+0.5,trefhtcomp_clm5,\"o\", markerfacecolor=\"red\", markeredgecolor=\"black\", markersize=10, markeredgewidth=2)\n",
    "ax.set_xticks(xticks)\n",
    "ax.set_xticklabels(['0-10','10-20','20-30','30-40','40-50','50-60','60-70','70-80','80-90','90-100'])\n",
    "ax.set_title('TREFHT', fontsize=14)\n",
    "ax.set_xlabel('CLM5 percentile bin')\n",
    "ax.set_ylabel('TREFHT (K)',fontsize=14)\n"
   ]
  },
  {
   "cell_type": "code",
   "execution_count": 54,
   "metadata": {},
   "outputs": [],
   "source": [
    "test = (djfanoms_np_1d[ (djfanoms_np_1d >= binmin[0]) & (djfanoms_np_1d <binmax[0])]).mean()"
   ]
  },
  {
   "cell_type": "code",
   "execution_count": 55,
   "metadata": {},
   "outputs": [
    {
     "name": "stdout",
     "output_type": "stream",
     "text": [
      "-10.428715\n"
     ]
    }
   ],
   "source": [
    "print(test)"
   ]
  },
  {
   "cell_type": "code",
   "execution_count": 53,
   "metadata": {},
   "outputs": [
    {
     "name": "stdout",
     "output_type": "stream",
     "text": [
      "[ -8.617049   -8.308074  -10.015746  -11.11917   -10.50743    -8.778289\n",
      " -10.640792   -8.507893   -9.666752  -11.403294  -11.246983  -10.495808\n",
      " -12.002567   -8.411213  -10.227268   -9.563999  -13.5792885  -9.106968\n",
      "  -8.491209   -9.8670635 -10.327055   -8.556608  -10.610807   -8.543135\n",
      "  -8.417677  -10.30337   -12.964442  -10.5911665 -10.899837  -10.526423\n",
      "  -9.983256   -9.760345  -13.55275   -13.287155   -8.971954   -8.433228\n",
      " -11.005663  -10.800661  -11.87462    -9.156389  -10.201601  -10.036882\n",
      " -11.889315   -8.440538  -11.511591   -8.364115  -13.455921   -9.891315\n",
      " -10.967106   -9.317265  -12.042316  -10.961002  -10.2121315 -11.105777\n",
      " -13.941272  -10.612567  -13.504458  -13.321795  -11.501086   -9.475345\n",
      " -10.62698    -8.80711   -12.630489  -12.327328  -12.776073  -12.433422\n",
      "  -9.859859   -9.640667   -9.861416   -8.336697  -10.51733    -9.333889\n",
      "  -8.626904  -12.760265  -11.657833  -12.806316  -10.036526   -9.065304\n",
      "  -9.45982    -8.573049   -8.715322   -8.323567   -9.515645  -10.734227\n",
      " -12.113561   -9.107213   -8.818608  -13.263017   -8.422639  -11.025926\n",
      "  -9.486955   -9.049256   -8.708573   -9.603089   -8.952256   -8.533189\n",
      " -11.98748    -8.431267  -10.4813     -8.326759  -10.978722  -11.686729\n",
      " -12.099998   -8.738268  -10.257036  -12.804461  -11.289721   -9.893831\n",
      " -11.422899   -8.956591   -9.519716   -8.456179  -12.324737  -10.948531\n",
      " -10.910949  -11.8462515  -8.5055685 -12.531417   -8.651275   -9.031418\n",
      " -10.291519  -13.77887    -9.655899  -10.910889   -9.923569   -9.665726\n",
      "  -9.594528  -10.2276     -9.066925  -13.319931   -9.420853   -9.812687\n",
      " -11.662525  -12.665684  -11.354267  -10.008869   -9.004124   -8.690776\n",
      " -11.3620405 -11.761973  -13.339198  -10.736171   -8.56058   -12.245135\n",
      " -13.493457  -12.541888   -9.533587  -12.590808  -12.595828  -10.583957\n",
      " -12.276645   -8.4581785 -10.514743   -9.346072  -10.665774   -9.321017\n",
      "  -9.570731  -10.372672  -12.825004  -11.413749  -10.724967   -9.027656\n",
      "  -8.388434   -8.315757  -12.336204  -12.991996   -8.566499   -9.574922\n",
      " -10.695619  -11.728578  -12.238053  -10.818971  -11.512712  -10.899446\n",
      " -11.312837  -12.1689005 -12.888398   -9.927738  -10.42963    -9.843586\n",
      "  -8.375202   -9.550282   -9.883253   -9.864241  -13.320005   -9.917601\n",
      "  -9.567732  -13.27252    -9.138395   -8.468978  -12.348739   -9.308486\n",
      " -11.956389  -13.77748   -10.778258  -12.998733   -9.440642  -10.179144\n",
      " -10.092276   -9.996695  -11.353613  -13.864447  -13.536566   -9.615896\n",
      " -11.594107   -8.395391   -9.193518  -11.719744   -8.960802   -9.752001\n",
      "  -8.649309   -8.376635   -9.42       -8.730288   -8.313021   -8.870089\n",
      "  -9.61397   -11.2931385  -8.318041  -11.89226   -11.100161  -10.217348\n",
      "  -9.047686  -11.33745   -11.822298  -12.208249  -10.881574  -13.31387\n",
      " -13.378186  -11.222486  -11.339337   -9.801053   -9.419354  -10.153409\n",
      " -10.055799  -11.22041   -10.489682   -8.480157   -9.2455225 -11.766885\n",
      "  -9.868569   -8.544976  -10.473138   -8.6074     -9.567376  -10.08892\n",
      "  -8.552222  -11.552314  -10.267066   -9.0787115  -9.867805  -12.015891\n",
      "  -9.229682   -9.883175   -9.472149   -8.42091   -11.350964  -12.111151\n",
      " -13.975714  -12.283621   -9.4983425  -9.003561   -9.863546  -10.601507\n",
      "  -8.293966   -8.4332485  -8.88459    -9.580116  -10.094139   -9.597618\n",
      "  -8.792763   -8.856056  -11.678413   -9.775261  -12.387824   -8.49343\n",
      " -10.279502   -8.690055   -9.539969  -10.480659  -11.536689  -10.9663\n",
      "  -8.5643835]\n"
     ]
    }
   ],
   "source": [
    "print(djfanoms_np_1d[ (djfanoms_np_1d >= binmin[0]) & (djfanoms_np_1d <binmax[0])])"
   ]
  },
  {
   "cell_type": "code",
   "execution_count": 51,
   "metadata": {},
   "outputs": [
    {
     "name": "stdout",
     "output_type": "stream",
     "text": [
      "[-13.98566494  -8.2493515   -5.51611423  -3.35766249  -1.60746818\n",
      "   0.06056097   1.78635674   3.50238435   5.52189856   8.33151293]\n",
      "[-8.2493515  -5.51611423 -3.35766249 -1.60746818  0.06056097  1.78635674\n",
      "  3.50238435  5.52189856  8.33151293 13.06537315]\n"
     ]
    }
   ],
   "source": [
    "print(binmin)\n",
    "print(binmax)"
   ]
  },
  {
   "cell_type": "code",
   "execution_count": 28,
   "metadata": {},
   "outputs": [
    {
     "data": {
      "text/plain": [
       "[<matplotlib.lines.Line2D at 0x7f169fcc4e48>]"
      ]
     },
     "execution_count": 28,
     "metadata": {},
     "output_type": "execute_result"
    },
    {
     "data": {
      "image/png": "[encoded data removed]",
      "text/plain": [
       "<Figure size 432x288 with 1 Axes>"
      ]
     },
     "metadata": {
      "needs_background": "light"
     },
     "output_type": "display_data"
    }
   ],
   "source": [
    "plt.plot(datseas)\n",
    "plt.plot(dat4harm)"
   ]
  },
  {
   "cell_type": "code",
   "execution_count": 9,
   "metadata": {},
   "outputs": [
    {
     "name": "stdout",
     "output_type": "stream",
     "text": [
      "   Station       Lon       Lat     yrange fend\n",
      "0   CA-Gro  -82.1556  48.21670  2003-2014  NaN\n",
      "1   CA-Man  -98.4808  55.87960  1994-2008  NaN\n",
      "2   CA-Oas -106.1978  53.63580  1996-2010  NaN\n",
      "3   CA-Obs -105.1178  53.98710  1997-2010  NaN\n",
      "4   CA-SF1 -105.8176  54.48500  2003-2006  NaN\n",
      "5   CA-SF2  -15.8775  54.25390  2001-2005  NaN\n",
      "6   CA-TP1  -80.5595  42.66090  2002-2014  2-4\n",
      "7   CA-TP2  -80.4588  42.66090  2002-2007  NaN\n",
      "8   CA-TP3  -80.3483  42.70680  2002-2014  NaN\n",
      "9   CA-TP4  -80.3574  42.71010  2002-2014  NaN\n",
      "10  CA-TPD  -80.5577  42.63530  2012-2014  NaN\n",
      "11  RU-Che  161.3414  68.61300  2002-2005  NaN\n",
      "12  RU-Cok  147.4943  70.82910  2003-2014  2-4\n",
      "13  RU-Fyo   32.9221  56.45153  1998-2014  2-4\n",
      "14  RU-Ha1   90.0022  54.72520  2002-2004  NaN\n"
     ]
    }
   ],
   "source": [
    "print(stationinfo)"
   ]
  },
  {
   "cell_type": "code",
   "execution_count": null,
   "metadata": {},
   "outputs": [],
   "source": []
  }
 ],
 "metadata": {
  "kernelspec": {
   "display_name": "Python [conda env:ecpaperenv]",
   "language": "python",
   "name": "conda-env-ecpaperenv-py"
  },
  "language_info": {
   "codemirror_mode": {
    "name": "ipython",
    "version": 3
   },
   "file_extension": ".py",
   "mimetype": "text/x-python",
   "name": "python",
   "nbconvert_exporter": "python",
   "pygments_lexer": "ipython3",
   "version": "3.6.11"
  }
 },
 "nbformat": 4,
 "nbformat_minor": 4
}
