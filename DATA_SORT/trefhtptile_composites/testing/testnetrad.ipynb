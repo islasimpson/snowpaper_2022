{
 "cells": [
  {
   "cell_type": "code",
   "execution_count": 9,
   "metadata": {},
   "outputs": [
    {
     "data": {
      "text/plain": [
       "<module 'CASutils.calendar_utils' from '/home/islas/python/CASanalysis/CASutils/calendar_utils.py'>"
      ]
     },
     "execution_count": 9,
     "metadata": {},
     "output_type": "execute_result"
    }
   ],
   "source": [
    "import importlib\n",
    "import xarray as xr\n",
    "import numpy as np\n",
    "import pandas as pd\n",
    "import matplotlib.pyplot as plt\n",
    "import sys\n",
    "import os\n",
    "\n",
    "from glob import glob\n",
    "\n",
    "from CASutils import filter_utils as filt\n",
    "from CASutils import calendar_utils as cal\n",
    "from CASutils import plotposition_utils as plotpos\n",
    "\n",
    "importlib.reload(filt)\n",
    "importlib.reload(cal)"
   ]
  },
  {
   "cell_type": "code",
   "execution_count": 2,
   "metadata": {},
   "outputs": [],
   "source": [
    "datadir=\"/project/cas/islas/python_savs/fluxnet/\"\n",
    "datadircesm=\"/project/cas/islas/python_savs/snowpaper/DATA_SORT/fluxnetlocs/\"\n",
    "outfile=\"/project/cas/islas/python_savs/snowpaper/DATA_SORT/trefhtptile_composites/fluxnetcomposites.nc\""
   ]
  },
  {
   "cell_type": "code",
   "execution_count": 3,
   "metadata": {},
   "outputs": [],
   "source": [
    "# deseasonalize by filtering out the first 4 harmonics of the seasonal cycle and then removing the seasonal mean of each year\n",
    "def calcdeseas(da):\n",
    "    datseas = da.groupby('time.dayofyear').mean('time')\n",
    "    dat4harm = filt.calc_season_nharm(datseas, 4, dimtime=0)\n",
    "    anoms = da.groupby('time.dayofyear') - dat4harm\n",
    "    datdeseas = cal.group_season_daily(anoms, 'DJF')\n",
    "    seasmean = datdeseas.mean('day')\n",
    "    datdeseas = datdeseas - seasmean\n",
    "    datdeseas = np.array(datdeseas).flatten()\n",
    "    return datdeseas"
   ]
  },
  {
   "cell_type": "code",
   "execution_count": 6,
   "metadata": {},
   "outputs": [
    {
     "name": "stderr",
     "output_type": "stream",
     "text": [
      "/project/cas/islas/miniconda3/envs/ecpaperenv/lib/python3.6/site-packages/xarray/conventions.py:500: SerializationWarning: variable 'lat' has multiple fill values {1e+36, -900.0}, decoding all values to NaN.\n",
      "  decode_timedelta=decode_timedelta,\n",
      "/project/cas/islas/miniconda3/envs/ecpaperenv/lib/python3.6/site-packages/xarray/conventions.py:500: SerializationWarning: variable 'lon' has multiple fill values {1e+36, -900.0}, decoding all values to NaN.\n",
      "  decode_timedelta=decode_timedelta,\n"
     ]
    },
    {
     "name": "stdout",
     "output_type": "stream",
     "text": [
      "nyears=35.0\n",
      "nyears=35.0\n",
      "nyears=35.0\n",
      "nyears=35.0\n",
      "nyears=35.0\n",
      "nyears=35.0\n",
      "nyears=35.0\n",
      "nyears=35.0\n",
      "nyears=35.0\n",
      "nyears=35.0\n",
      "nyears=35.0\n",
      "nyears=35.0\n"
     ]
    }
   ],
   "source": [
    "istation='CA-TP1'\n",
    "fname = datadircesm+'/'+istation+'.nc'\n",
    "cesmdat = xr.open_dataset(fname)\n",
    "    \n",
    "clm5_trefht = calcdeseas(cesmdat.clm5_trefht)\n",
    "clm5_shflx = calcdeseas(cesmdat.clm5_shflx)\n",
    "clm5_fgr = calcdeseas(cesmdat.clm5_fgr)\n",
    "clm5_flns = calcdeseas(cesmdat.clm5_flns)\n",
    "clm5_fsns = calcdeseas(cesmdat.clm5_fsns)\n",
    "clm5_lhflx = calcdeseas(cesmdat.clm5_lhflx)\n",
    "clm5_netrad = clm5_flns - clm5_fsns\n",
    "        \n",
    "snowd_trefht = calcdeseas(cesmdat.snowd_trefht)\n",
    "snowd_shflx = calcdeseas(cesmdat.snowd_shflx)\n",
    "snowd_fgr = calcdeseas(cesmdat.snowd_fgr)\n",
    "snowd_flns = calcdeseas(cesmdat.snowd_flns)\n",
    "snowd_fsns = calcdeseas(cesmdat.snowd_fsns)\n",
    "snowd_lhflx = calcdeseas(cesmdat.snowd_lhflx)\n",
    "snowd_netrad = snowd_flns - snowd_fsns\n",
    "\n",
    "# calculate ptile bin ranges\n",
    "nblocks=10\n",
    "binmin = np.empty([nblocks]) ; binmax = np.empty([nblocks])\n",
    "for iblock in np.arange(0,nblocks,1):\n",
    "    binmin[iblock] = np.percentile(clm5_trefht,iblock*10)\n",
    "    binmax[iblock] = np.percentile(clm5_trefht,iblock*10+10)\n",
    "    if (iblock == 0):\n",
    "        binmin[iblock] = np.percentile(clm5_trefht,1)\n",
    "    if (iblock == (nblocks-1)):\n",
    "        binmax[iblock] = np.percentile(clm5_trefht,99)\n",
    "            \n",
    "    \n",
    "trefhtcomp_clm5 = np.zeros([nblocks])\n",
    "shflxcomp_clm5 = np.zeros([nblocks])\n",
    "fgrcomp_clm5 = np.zeros([nblocks])\n",
    "netradcomp_clm5 = np.zeros([nblocks])\n",
    "trefhtcomp_snowd = np.zeros([nblocks])\n",
    "shflxcomp_snowd = np.zeros([nblocks])\n",
    "fgrcomp_snowd = np.zeros([nblocks])\n",
    "netradcomp_snowd = np.zeros([nblocks])\n",
    "trefhtcomp_fnet = np.zeros([nblocks])\n",
    "shflxcomp_fnet = np.zeros([nblocks])\n",
    "netradcomp_fnet = np.zeros([nblocks])\n",
    "        \n",
    "for iblock in np.arange(0,nblocks,1):\n",
    "        \n",
    "    trefhtcomp_clm5[iblock] = (clm5_trefht[ (clm5_trefht >= binmin[iblock]) & (clm5_trefht <binmax[iblock])]).mean()\n",
    "    shflxcomp_clm5[iblock] = (clm5_shflx[ (clm5_trefht >= binmin[iblock]) & (clm5_trefht < binmax[iblock])]).mean()\n",
    "    fgrcomp_clm5[iblock] = (clm5_fgr[ (clm5_trefht >= binmin[iblock]) & (clm5_trefht < binmax[iblock])]).mean()\n",
    "    netradcomp_clm5[iblock] = (clm5_netrad[(clm5_trefht >= binmin[iblock]) & (clm5_trefht < binmax[iblock])]).mean()\n",
    "        \n",
    "    trefhtcomp_snowd[iblock] = (snowd_trefht[ (snowd_trefht >= binmin[iblock]) & (snowd_trefht <binmax[iblock])]).mean()\n",
    "    shflxcomp_snowd[iblock] = (snowd_shflx[ (snowd_trefht >= binmin[iblock]) & (snowd_trefht < binmax[iblock])]).mean()\n",
    "    fgrcomp_snowd[iblock] = (snowd_fgr[ (snowd_trefht >= binmin[iblock]) & (snowd_trefht < binmax[iblock])]).mean()\n",
    "    netradcomp_snowd[iblock] = (snowd_netrad[(clm5_trefht >= binmin[iblock]) & (snowd_trefht < binmax[iblock])]).mean()\n",
    "        \n",
    "    #trefhtcomp_fnet[iblock] = np.nanmean(fnet_trefht[ (fnet_trefht >= binmin[iblock]) & (fnet_trefht < binmax[iblock])])\n",
    "    #shflxcomp_fnet[iblock] = np.nanmean(fnet_shflx[ (fnet_trefht >= binmin[iblock]) & (fnet_trefht < binmax[iblock])]) \n",
    "    #netradcomp_fnet[iblock] = np.nanmean(fnet_netrad[ (fnet_trefht >= binmin[iblock]) & (fnet_trefht < binmax[iblock])])\n",
    "\n"
   ]
  },
  {
   "cell_type": "code",
   "execution_count": 7,
   "metadata": {},
   "outputs": [],
   "source": [
    "def plotcomposite(data, titlestr, ylabelstr, x1, x2, y1, y2, color=\"darkred\", yticks=None, yticknames=None, yrange=None):\n",
    "    ax = fig.add_axes(np.array([x1, y1, (x2-x1), (y2-y1)]))\n",
    "    ax.plot([0,10],[0,0], color='black')\n",
    "    ax.plot(np.arange(0,10,1)+0.5, data, color=color, linewidth=2)\n",
    "    ax.plot(np.arange(0,10,1)+0.5, data, \"o\", markerfacecolor=color, markeredgecolor=\"black\", markersize=10, markeredgewidth=2)\n",
    "    ax.set_xticks(list(np.arange(0,10,1)+0.5))\n",
    "    ax.set_xlim(0,10)\n",
    "    ax.set_xticklabels(['0-10','10-20','20-30','30-40','40-50','50-60','60-70','70-80','80-90','90-100'], rotation=60, ha=\"right\", rotation_mode=\"anchor\")\n",
    "    ax.set_title(titlestr, fontsize=16)\n",
    "    ax.set_xlabel('CLM5 percentile bin', fontsize=14)\n",
    "    ax.set_ylabel(ylabelstr, fontsize=14)\n",
    "    \n",
    "    if (yticks):\n",
    "        ax.set_yticks(yticks)\n",
    "        ax.set_yticklabels(yticknames, fontsize=14)\n",
    "    \n",
    "    if (yrange):\n",
    "        ax.set_ylim(yrange[0],yrange[1])\n",
    "    return ax\n",
    "\n",
    "def oplotcomposite(ax, data, color=\"darkblue\"):\n",
    "    ax.plot(np.arange(0,10,1)+0.5, data, color=color, linewidth=2)\n",
    "    ax.plot(np.arange(0,10,1)+0.5, data, \"o\", markerfacecolor=color, markeredgecolor=\"black\", markersize=10, markeredgewidth=2)\n",
    "    return ax"
   ]
  },
  {
   "cell_type": "code",
   "execution_count": 16,
   "metadata": {},
   "outputs": [
    {
     "data": {
      "image/png": "[encoded data removed]",
      "text/plain": [
       "<Figure size 1152x1152 with 1 Axes>"
      ]
     },
     "metadata": {
      "needs_background": "light"
     },
     "output_type": "display_data"
    }
   ],
   "source": [
    "x1, x2, y1, y2 = plotpos.get4by4coords()\n",
    "fig = plt.figure(figsize=(16,16))\n",
    "ax = plotcomposite(netradcomp_snowd,' ',\n",
    "                       ' ',x1[0],x2[0],y1[0],y2[0],color='royalblue')\n",
    "#ax = oplotcomposite(ax, data.netradcomp_snowd.isel(station=istation),color='darkred')\n",
    "#ax = oplotcomposite(ax, data.netradcomp_fnet.isel(station=istation), color='forestgreen')"
   ]
  },
  {
   "cell_type": "code",
   "execution_count": null,
   "metadata": {},
   "outputs": [],
   "source": [
    "plt.scatter()"
   ]
  }
 ],
 "metadata": {
  "kernelspec": {
   "display_name": "Python [conda env:ecpaperenv]",
   "language": "python",
   "name": "conda-env-ecpaperenv-py"
  },
  "language_info": {
   "codemirror_mode": {
    "name": "ipython",
    "version": 3
   },
   "file_extension": ".py",
   "mimetype": "text/x-python",
   "name": "python",
   "nbconvert_exporter": "python",
   "pygments_lexer": "ipython3",
   "version": "3.6.11"
  }
 },
 "nbformat": 4,
 "nbformat_minor": 4
}
